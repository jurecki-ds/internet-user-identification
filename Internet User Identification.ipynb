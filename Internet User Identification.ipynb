{
 "cells": [
  {
   "cell_type": "markdown",
   "metadata": {},
   "source": [
    "# <center> Capstone Проект №1 <br> Идентификация пользователей по посещенным веб-страницам"
   ]
  },
  {
   "cell_type": "markdown",
   "metadata": {},
   "source": [
    "## 1. Цели и задачи проекта. Исходные данные. Предобработка данных"
   ]
  },
  {
   "cell_type": "markdown",
   "metadata": {},
   "source": [
    "### 1.1 Цели и задачи\n",
    "В данном проекте решается задача идентификации пользователя по его поведению в сети Интернет, а именно: по последовательности из нескольких веб-сайтов, посещенных подряд одним и тем же человеком, решается задача идентификации этого человека (пользователя). Целью данного проекта является обучение методам обработки и анализа (в т.ч., визуального) данных, построения и применения различных моделей классификации, в т.ч. для большого количества данных, знакомство и применение пакета Vowpal Wabbit, знакомство и участие в соревновании платформы Kaggle."
   ]
  },
  {
   "cell_type": "markdown",
   "metadata": {},
   "source": [
    "### 1.2 Описание исходных данных\n",
    "Исходные данные представлены набором csv-файлов с наименованием user\\*\\*\\*\\*.csv, где вместо \\*\\*\\*\\* указан числовой идентификатор пользователя. Каждый csv-файл описывает поведение одного пользователя в следующем формате: \\*timestamp, site_string (посещенный веб-сайт)\\*. Для выбора и настройки моделей классификации (с учетом предполагаемой длительности обучения некоторых моделей) используются две выборки: по 10-ти и по 150-ти пользователям."
   ]
  },
  {
   "cell_type": "markdown",
   "metadata": {},
   "source": [
    "### 1.3 Предобработка данных (подготовка обучающих выборок)\n",
    "Исходные данные в виде набора файлов не позволяют построить прогнозные модели, поэтому в первую очередь необходимо подготовить данные соответствующим образом. Для дальнейшего использования при построении моделей данные представляются в виде обучающих выборок следующего формата:\n",
    "<style type=\"text/css\">\n",
    ".tg  {border-collapse:collapse;border-spacing:0;}\n",
    ".tg td{font-family:Arial, sans-serif;font-size:14px;padding:10px 5px;border-style:solid;border-width:1px;overflow:hidden;word-break:normal;}\n",
    ".tg th{font-family:Arial, sans-serif;font-size:14px;font-weight:normal;padding:10px 5px;border-style:solid;border-width:1px;overflow:hidden;word-break:normal;}\n",
    ".tg .tg-s6z2{text-align:center}\n",
    ".tg .tg-baqh{text-align:center;vertical-align:top}\n",
    ".tg .tg-hgcj{font-weight:bold;text-align:center}\n",
    ".tg .tg-amwm{font-weight:bold;text-align:center;vertical-align:top}\n",
    "</style>\n",
    "<table class=\"tg\">\n",
    "  <tr>\n",
    "    <th class=\"tg-hgcj\">session_id</th>\n",
    "    <th class=\"tg-hgcj\">site1</th>\n",
    "    <th class=\"tg-hgcj\">site2</th>\n",
    "    <th class=\"tg-hgcj\">...</th>\n",
    "    <th class=\"tg-hgcj\">siteN</th>\n",
    "    <th class=\"tg-amwm\">user_id</th>\n",
    "  </tr>\n",
    "  <tr>\n",
    "    <td class=\"tg-s6z2\">1</td>\n",
    "    <td class=\"tg-s6z2\">XX</td>\n",
    "    <td class=\"tg-s6z2\">XX</td>\n",
    "    <td class=\"tg-baqh\">XX</td>\n",
    "    <td class=\"tg-baqh\">XX</td>\n",
    "    <td class=\"tg-baqh\">Us</td>\n",
    "  </tr>\n",
    "  <tr>\n",
    "    <td class=\"tg-s6z2\">2</td>\n",
    "    <td class=\"tg-s6z2\">XX</td>\n",
    "    <td class=\"tg-s6z2\">XX</td>\n",
    "    <td class=\"tg-baqh\">XX</td>\n",
    "    <td class=\"tg-baqh\">XX</td>\n",
    "    <td class=\"tg-baqh\">Us</td>\n",
    "  </tr>\n",
    "  <tr>\n",
    "    <td class=\"tg-s6z2\">3</td>\n",
    "    <td class=\"tg-s6z2\">XX</td>\n",
    "    <td class=\"tg-s6z2\">XX</td>\n",
    "    <td class=\"tg-baqh\">XX</td>\n",
    "    <td class=\"tg-baqh\">XX</td>\n",
    "    <td class=\"tg-baqh\">Us</td>\n",
    "  </tr>\n",
    "  <tr>\n",
    "    <td class=\"tg-s6z2\">4</td>\n",
    "    <td class=\"tg-s6z2\">XX</td>\n",
    "    <td class=\"tg-s6z2\">XX</td>\n",
    "    <td class=\"tg-baqh\">XX</td>\n",
    "    <td class=\"tg-baqh\">XX</td>\n",
    "    <td class=\"tg-baqh\">Us</td>\n",
    "  </tr>\n",
    "  <tr>\n",
    "    <td class=\"tg-s6z2\">...</td>\n",
    "    <td class=\"tg-s6z2\">XX</td>\n",
    "    <td class=\"tg-s6z2\">XX</td>\n",
    "    <td class=\"tg-baqh\">XX</td>\n",
    "    <td class=\"tg-baqh\">XX</td>\n",
    "    <td class=\"tg-baqh\">Us</td>\n",
    "  </tr>\n",
    "  <tr>\n",
    "    <td class=\"tg-s6z2\">S</td>\n",
    "    <td class=\"tg-s6z2\">XX</td>\n",
    "    <td class=\"tg-s6z2\">XX</td>\n",
    "    <td class=\"tg-baqh\">XX</td>\n",
    "    <td class=\"tg-baqh\">XX</td>\n",
    "    <td class=\"tg-baqh\">Us</td>\n",
    "  </tr>\n",
    "</table>\n",
    "\n",
    "где *session_id* (от 1 до <i>S</i>) - идентификатор сессии (под сессией длины *session_length* понимается последовательность из <i>N</i> подряд посещенных пользователем сайтов); *XX* - идентификатор сайта (для сайтов от *site1* до *siteN*); *Us* - идентификатор пользователя *(user_id)*, берется из наименования файла для каждого пользователя.<br>\n",
    "Из представленного формата выборок видно, что объектами являются сессии, а признаками - идентификаторы сайтов, посещенных пользователем в каждой сессии. При этом, *user_id* является целевой переменной."
   ]
  },
  {
   "cell_type": "code",
   "execution_count": 119,
   "metadata": {},
   "outputs": [
    {
     "name": "stdout",
     "output_type": "stream",
     "text": [
      "The watermark extension is already loaded. To reload it, use:\n",
      "  %reload_ext watermark\n"
     ]
    }
   ],
   "source": [
    "# pip install watermark\n",
    "%load_ext watermark"
   ]
  },
  {
   "cell_type": "code",
   "execution_count": 120,
   "metadata": {},
   "outputs": [
    {
     "name": "stdout",
     "output_type": "stream",
     "text": [
      "CPython 3.7.1\n",
      "IPython 7.2.0\n",
      "\n",
      "numpy 1.16.3\n",
      "scipy 1.1.0\n",
      "pandas 0.23.4\n",
      "matplotlib 3.0.2\n",
      "statsmodels 0.9.0\n",
      "sklearn 0.20.1\n",
      "\n",
      "compiler   : MSC v.1915 64 bit (AMD64)\n",
      "system     : Windows\n",
      "release    : 10\n",
      "machine    : AMD64\n",
      "processor  : Intel64 Family 6 Model 142 Stepping 10, GenuineIntel\n",
      "CPU cores  : 8\n",
      "interpreter: 64bit\n",
      "Git hash   :\n"
     ]
    }
   ],
   "source": [
    "%watermark -v -m -p numpy,scipy,pandas,matplotlib,statsmodels,sklearn -g"
   ]
  },
  {
   "cell_type": "code",
   "execution_count": 204,
   "metadata": {},
   "outputs": [],
   "source": [
    "# импортируем необходимые модули\n",
    "from __future__ import division, print_function\n",
    "# отключим всякие предупреждения Anaconda\n",
    "import warnings, itertools\n",
    "warnings.filterwarnings('ignore')\n",
    "from glob import glob\n",
    "import os, pickle, collections, operator\n",
    "#pip install tqdm\n",
    "from tqdm import tqdm_notebook\n",
    "import numpy as np\n",
    "import pandas as pd\n",
    "pd.set_option('display.max.columns', 25)\n",
    "from scipy.sparse import csr_matrix\n",
    "from scipy import stats\n",
    "from statsmodels.stats.proportion import proportion_confint\n",
    "%matplotlib inline\n",
    "from matplotlib import pyplot as plt\n",
    "import seaborn as sns\n",
    "from time import time\n",
    "from sklearn.model_selection import train_test_split, cross_val_score, StratifiedKFold, GridSearchCV, TimeSeriesSplit\n",
    "from sklearn.metrics import accuracy_score, f1_score, roc_auc_score\n",
    "from sklearn.neighbors import KNeighborsClassifier\n",
    "from sklearn.ensemble import RandomForestClassifier\n",
    "from sklearn.linear_model import LogisticRegression, LogisticRegressionCV, SGDClassifier\n",
    "from sklearn.svm import LinearSVC\n",
    "from sklearn.model_selection import learning_curve\n",
    "from sklearn.feature_extraction.text import CountVectorizer\n",
    "from sklearn.preprocessing import LabelEncoder"
   ]
  },
  {
   "cell_type": "code",
   "execution_count": 4,
   "metadata": {},
   "outputs": [],
   "source": [
    "# укажем путь к исходным данным\n",
    "PATH_TO_DATA = os.getcwd()"
   ]
  },
  {
   "cell_type": "markdown",
   "metadata": {},
   "source": [
    "**Для подготовки обучающей** выборки реализована функция *prepare_train_set*, которая принимает на вход путь к каталогу с csv-файлами *path_to_csv_files* и параметр *session_length* – длину сессии, а возвращает 2 объекта:\n",
    "- DataFrame, в котором строки соответствуют уникальным сессиям из *session_length* сайтов, *session_length* столбцов – индексам этих *session_length* сайтов и последний столбец – ID пользователя;\n",
    "- частотный словарь уникальных сайтов вида {'site_string': [site_id, site_freq]}, где site_string - наименование сайта (берется из файла \\*.csv), site_id и site_freq - идентификатор сайта и частота посещения этого сайта данным пользователем. Меньшие индексы даны более часто попадающимся сайтам (приницип наименьшего описания).\n",
    "\n",
    "Поскольку в исходных файлах число записей не кратно числу *session_length*, то каждая последняя сессия будет короче. Остаток таких сессий функция заполняет нулями. То есть если в файле 24 записи и сессии длины 10, то 3 сессия будет состоять из 4 сайтов, и ей сопоставляется вектор [*site1_id*, *site2_id*, *site3_id*, *site4_id*, 0, 0, 0, 0, 0, 0, *user_id*]."
   ]
  },
  {
   "cell_type": "code",
   "execution_count": 5,
   "metadata": {},
   "outputs": [],
   "source": [
    "def prepare_train_set(path_to_csv_files, session_length=10):\n",
    "    # сперва отсортируем сайты по частоте посещений и присвоим им идентификаторы\n",
    "    d_site_freq = {} # в этом словаре соберем сайты, их идентификаторы и частоты посещений по всем пользователям в заданном каталоге\n",
    "    files_pathes = glob(path_to_csv_files + '\\\\*.csv') # пути к файлам с данными пользователей в заданном каталоге\n",
    "    for file_path in files_pathes:\n",
    "        df = pd.read_csv(file_path) # считываем очередной файл в датафрейм\n",
    "        for site in df.site:\n",
    "            d_site_freq[site] = 1 if site not in d_site_freq else d_site_freq[site]+1\n",
    "    ls_temp = collections.Counter(d_site_freq).most_common() # отсортированный по частотам посещения сайтов список\n",
    "    for i in range(len(ls_temp)):\n",
    "        d_site_freq[ls_temp[i][0]] = (i+1, d_site_freq[ls_temp[i][0]]) # частотный словарь сайтов на возврат из функции\n",
    "\n",
    "    # теперь сформируем датафрейм с уникальными сессиями для пользователей\n",
    "    columns = ['site' + str(i+1) for i in range(session_length)] # столбцы будущего датафрейма\n",
    "    columns.append('user_id')\n",
    "    df_train_data = pd.DataFrame(data=None, columns=columns) # датафрейм уникальных сессий пользователей\n",
    "    \n",
    "    for file_path in files_pathes:\n",
    "        df = pd.read_csv(file_path) # снова считываем очередной файл в датафрейм - оказалось, так быстрее, чем \n",
    "                                #сформировать большой датафрейм для всех пользователей, а потом работать с ним\n",
    "        ls_site_id = [] # список идентификаторов сайтов для считанного файла\n",
    "        ls_site_id2 = [] # список СПИСКОВ идентификаторов сайтов с учетом длины сессии\n",
    "        ls_temp = [] # список выборки по окну из текущего списка идентификаторов\n",
    "        for site in df.site:\n",
    "            ls_site_id.append(d_site_freq[site][0]) # формируем список идентификаторов сайтов для всего считанного файла\n",
    "        ls_sample_indptr = list(range(0, int(df.shape[0]/session_length + 0.5)*session_length, session_length)) # список индексов, \n",
    "                # начиная с которых необходимо будет выбирать идентификаторы сайтов из списка идентификаторов сайтов\n",
    "        if (len(ls_site_id) - session_length) > ls_sample_indptr[-1]: # учитывает случаи, когда не посчитался последний нужный индекс для выборки\n",
    "            ls_sample_indptr.append(ls_sample_indptr[-1] + session_length)\n",
    "        for ind in ls_sample_indptr:\n",
    "            ls_temp = ls_site_id[ind:ind+session_length]\n",
    "            ls_site_id2.append(ls_temp)\n",
    "        if len(ls_site_id2[-1]) < session_length: # дополняем список последней строки выборки нулями до размера session_length\n",
    "            ls_site_id2[-1] = ls_site_id2[-1] + [0]*(session_length - len(ls_site_id2[-1]))\n",
    "        df = pd.DataFrame(ls_site_id2) # временный датафрейм уникальных сессий для текущего файла пользователя\n",
    "        df['user_id'] = int(file_path[-8:-4]) # идентификатор текущего пользователя\n",
    "        df.columns = columns\n",
    "        df_train_data = pd.concat([df_train_data, df]) # конкатенируем текущий датафрейм с датафреймом уникальных сессий - на возврат из функции\n",
    "        \n",
    "    df_train_data.index = range(df_train_data.shape[0])\n",
    "    return df_train_data, d_site_freq"
   ]
  },
  {
   "cell_type": "markdown",
   "metadata": {},
   "source": [
    "**Применение данной функции** к выборкам из 10-ти и 150-ти пользователей позволяет получить датафреймы и частотные словари уникальных сайтов:"
   ]
  },
  {
   "cell_type": "code",
   "execution_count": 6,
   "metadata": {},
   "outputs": [
    {
     "name": "stdout",
     "output_type": "stream",
     "text": [
      "Wall time: 6.3 s\n"
     ]
    }
   ],
   "source": [
    "%%time\n",
    "train_data_10users, site_freq_10users = prepare_train_set(os.path.join(PATH_TO_DATA, '10users'), session_length=10)\n",
    "train_data_150users, site_freq_150users = prepare_train_set(os.path.join(PATH_TO_DATA, '150users'), session_length=10)"
   ]
  },
  {
   "cell_type": "markdown",
   "metadata": {},
   "source": [
    "**Для дальнейшего анализа** полученные объекты DataFrame сохранены в csv-файлы."
   ]
  },
  {
   "cell_type": "code",
   "execution_count": 5,
   "metadata": {},
   "outputs": [],
   "source": [
    "train_data_10users.to_csv(os.path.join(PATH_TO_DATA, 'train_data_10users.csv'), index_label='session_id', float_format='%d')\n",
    "train_data_150users.to_csv(os.path.join(PATH_TO_DATA, 'train_data_150users.csv'), index_label='session_id', float_format='%d')"
   ]
  },
  {
   "cell_type": "markdown",
   "metadata": {},
   "source": [
    "### 1.4 Предобработка данных (подготовка обучающих выборок в разреженном формате)\n",
    "Полученные признаки *site1*, ..., *site10* не имеют особого смысла как признаки в задаче классификации. И в этом смысле лучше воспользоваться идеей мешка слов из анализа текстов. Необходимо создать новые матрицы, в которых строкам будут соответствовать сессии из 10 сайтов, а столбцам – индексы сайтов. На пересечении строки $i$ и столбца $j$ будет стоять число $n_{ij}$ – cколько раз сайт $j$ встретился в сессии номер $i$. Сделать это можно, например, с помощью разреженных матриц Scipy – [csr_matrix](https://docs.scipy.org/doc/scipy-0.18.1/reference/generated/scipy.sparse.csr_matrix.html). Ниже представлена функция *prepare_sparse_data*, создающая разреженные матрицы для наших данных (по выборкам для 10-ти и 150-ти пользователей).<br>\n",
    "При этом, в коротких сессиях, меньше 10 сайтов, остались нули, так что первый признак (сколько раз попался 0) по смыслу отличен от остальных (сколько раз попался сайт с индексом $i$). Поэтому первый столбец разреженной матрицы будет удаляться."
   ]
  },
  {
   "cell_type": "code",
   "execution_count": 7,
   "metadata": {},
   "outputs": [],
   "source": [
    "def prepare_sparse_data(X_in):\n",
    "    indptr = [0]\n",
    "    indices = []\n",
    "    data = []\n",
    "    for row in X_in:\n",
    "        for site_id in row:\n",
    "            indices.append(site_id)\n",
    "            data.append(1)\n",
    "        indptr.append(len(indices))\n",
    "    return csr_matrix((data, indices, indptr), dtype=int)[:,1:]"
   ]
  },
  {
   "cell_type": "markdown",
   "metadata": {},
   "source": [
    "Применение функции *prepare_sparse_data* к полученным ранее датафреймам *train_data_10users* и *train_data_150users* дает следующие разреженные матрицы:"
   ]
  },
  {
   "cell_type": "code",
   "execution_count": 8,
   "metadata": {},
   "outputs": [],
   "source": [
    "X_10users, y_10users = train_data_10users.iloc[:, :-1].values, train_data_10users.iloc[:, -1].values\n",
    "X_150users, y_150users = train_data_150users.iloc[:, :-1].values, train_data_150users.iloc[:, -1].values\n",
    "X_sparse_10users = prepare_sparse_data(X_10users)\n",
    "X_sparse_150users = prepare_sparse_data(X_150users)"
   ]
  },
  {
   "cell_type": "markdown",
   "metadata": {},
   "source": [
    "**Разреженные матрицы**, вектора *y_10users, y_150users* – целевые значения (id пользователя)  в выборках из 10 и 150 пользователей, а также частотные словари сайтов для 10 и 150 пользователей сохраняются с помощью [pickle](https://docs.python.org/2/library/pickle.html) (сериализация в Python). Наименования этих матриц и векторов начинаются с X и y - на этих данных будут проверяться первые модели классификации далее."
   ]
  },
  {
   "cell_type": "code",
   "execution_count": 9,
   "metadata": {},
   "outputs": [],
   "source": [
    "with open(os.path.join(PATH_TO_DATA, 'X_sparse_10users.pkl'), 'wb') as X10_pkl:\n",
    "    pickle.dump(X_sparse_10users, X10_pkl, protocol=2)\n",
    "with open(os.path.join(PATH_TO_DATA, 'y_10users.pkl'), 'wb') as y10_pkl:\n",
    "    pickle.dump(y_10users, y10_pkl, protocol=2)\n",
    "with open(os.path.join(PATH_TO_DATA, 'X_sparse_150users.pkl'), 'wb') as X150_pkl:\n",
    "    pickle.dump(X_sparse_150users, X150_pkl, protocol=2)\n",
    "with open(os.path.join(PATH_TO_DATA, 'y_150users.pkl'), 'wb') as y150_pkl:\n",
    "    pickle.dump(y_150users, y150_pkl, protocol=2)\n",
    "with open(os.path.join(PATH_TO_DATA, 'site_freq_10users.pkl'), 'wb') as site_freq_10users_pkl:\n",
    "    pickle.dump(site_freq_10users, site_freq_10users_pkl, protocol=2)\n",
    "with open(os.path.join(PATH_TO_DATA, 'site_freq_150users.pkl'), 'wb') as site_freq_150users_pkl:\n",
    "    pickle.dump(site_freq_150users, site_freq_150users_pkl, protocol=2)"
   ]
  },
  {
   "cell_type": "markdown",
   "metadata": {},
   "source": [
    "**Простая проверка для подстраховки,** что число столбцов в разреженных матрицах `X_sparse_10users` и `X_sparse_150users` равно ранее посчитанным числам уникальных сайтов для 10 и 150 пользователей соответственно."
   ]
  },
  {
   "cell_type": "code",
   "execution_count": 9,
   "metadata": {},
   "outputs": [],
   "source": [
    "assert X_sparse_10users.shape[1] == len(site_freq_10users)\n",
    "assert X_sparse_150users.shape[1] == len(site_freq_150users)"
   ]
  },
  {
   "cell_type": "markdown",
   "metadata": {},
   "source": [
    "Исключения при проверке не возникло - значит, посчитано все верно (как минимум, с точки зрения размерностей матриц)."
   ]
  },
  {
   "cell_type": "markdown",
   "metadata": {},
   "source": [
    "### 1.5 Подготовка обучающих выборок с учетом длины сессии и скользящего окна\n",
    "Предлагается сделать число сайтов в сессии параметром, чтобы в дальнейшем сравнить модели классификации, обученные на разных выборках – с 5, 7, 10 и 15 сайтами в сессии. Более того, до этого в каждой сессии брались по 10 сайтов подряд, без пересечения. Предлагается применить идею скользящего окна – сессии будут перекрываться. \n",
    "\n",
    "**Пример**: для длины сессии 10 и ширины окна 7 файл из 30 записей породит не 3 сессии, как раньше (1-10, 11-20, 21-30), а 5 (1-10, 8-17, 15-24, 22-30, 29-30). При этом в предпоследней сессии будет один ноль, а в последней – 8 нолей.\n",
    "\n",
    "Создается несколько выборок для разных сочетаний параметров длины сессии и ширины окна. Все они представлены в табличке ниже:\n",
    "\n",
    "<style type=\"text/css\">\n",
    ".tg  {border-collapse:collapse;border-spacing:0;}\n",
    ".tg td{font-family:Arial, sans-serif;font-size:14px;padding:10px 5px;border-style:solid;border-width:1px;overflow:hidden;word-break:normal;}\n",
    ".tg th{font-family:Arial, sans-serif;font-size:14px;font-weight:normal;padding:10px 5px;border-style:solid;border-width:1px;overflow:hidden;word-break:normal;}\n",
    "</style>\n",
    "<table class=\"tg\">\n",
    "  <tr>\n",
    "    <th class=\"tg-031e\">session_length -&gt;<br>window_size <br></th>\n",
    "    <th class=\"tg-031e\">5</th>\n",
    "    <th class=\"tg-031e\">7</th>\n",
    "    <th class=\"tg-031e\">10</th>\n",
    "    <th class=\"tg-031e\">15</th>\n",
    "  </tr>\n",
    "  <tr>\n",
    "    <td class=\"tg-031e\">5</td>\n",
    "    <td class=\"tg-031e\">v</td>\n",
    "    <td class=\"tg-031e\">v</td>\n",
    "    <td class=\"tg-031e\">v</td>\n",
    "    <td class=\"tg-031e\">v</td>\n",
    "  </tr>\n",
    "  <tr>\n",
    "    <td class=\"tg-031e\">7</td>\n",
    "    <td class=\"tg-031e\"></td>\n",
    "    <td class=\"tg-031e\">v</td>\n",
    "    <td class=\"tg-031e\">v</td>\n",
    "    <td class=\"tg-031e\">v</td>\n",
    "  </tr>\n",
    "  <tr>\n",
    "    <td class=\"tg-031e\">10</td>\n",
    "    <td class=\"tg-031e\"></td>\n",
    "    <td class=\"tg-031e\"></td>\n",
    "    <td class=\"tg-031e\"><font color='green'>v</font></td>\n",
    "    <td class=\"tg-031e\">v</td>\n",
    "  </tr>\n",
    "</table>\n",
    "\n",
    "Итого должно получиться 18 разреженных матриц – указанные в таблице 9 сочетаний параметров формирования сессий для выборок из 10 и 150 пользователей. При этом 2 выборки уже были подготовлены ранее, они соответствуют сочетанию параметров: session_length=10, window_size=10, которые помечены в таблице выше галочкой зеленого цвета (done)."
   ]
  },
  {
   "cell_type": "markdown",
   "metadata": {},
   "source": [
    "Реализуется функция *prepare_sparse_train_set_window* (путем модификации ранее созданной функции *prepare_train_set*) со следующими входными и выходными параметрами:\n",
    "\n",
    "Аргументы:\n",
    "- *path_to_csv_files* – путь к каталогу с csv-файлами;\n",
    "- *site_freq_path* – путь к pickle-файлу с частотным словарем, полученным ранее;\n",
    "- *session_length* – длина сессии (параметр);\n",
    "- *window_size* – ширина окна (параметр).\n",
    "\n",
    "Функция возвращает 2 объекта:\n",
    "- разреженную матрицу *X_sparse* (двухмерная Scipy.sparse.csr_matrix), в которой строки соответствуют сессиям из *session_length* сайтов, а *max(site_id)* столбцов – количеству посещений *site_id* в сессии;\n",
    "- вектор <i>y</i> (Numpy array) \"ответов\" в виде ID пользователей, которым принадлежат сессии из *X_sparse*."
   ]
  },
  {
   "cell_type": "code",
   "execution_count": 10,
   "metadata": {},
   "outputs": [],
   "source": [
    "def prepare_sparse_train_set_window(path_to_csv_files, site_freq_path, session_length=10, window_size=10):\n",
    "    # считаем из pkl-файла словарь с сайтами, их идентификаторами и частотами посещений по всем пользователям в заданном каталоге\n",
    "    with open(site_freq_path, 'rb') as site_freq_pkl:\n",
    "        d_site_freq = pickle.load(site_freq_pkl) \n",
    "    \n",
    "    files_pathes = glob(path_to_csv_files + '\\\\*.csv') # пути к файлам с данными пользователей в заданном каталоге\n",
    "\n",
    "    # теперь сформируем датафрейм с уникальными сессиями для пользователей\n",
    "    columns = ['site' + str(i+1) for i in range(session_length)] # столбцы будущего датафрейма\n",
    "    columns.append('user_id')\n",
    "    df_train_data = pd.DataFrame(data=None, columns=columns) # датафрейм уникальных сессий всех пользователей\n",
    "    \n",
    "    if window_size <= 0: # проверим неотрицательность размера окна\n",
    "        window_size = session_length\n",
    "    \n",
    "    for file_path in files_pathes:\n",
    "        df = pd.read_csv(file_path) # считываем очередной файл в датафрейм\n",
    "        ls_site_id = [] # список идентификаторов сайтов для считанного файла\n",
    "        ls_site_id2 = [] # список СПИСКОВ идентификаторов сайтов с учетом длины сессии и скользящего окна\n",
    "        ls_temp = [] # список выборки по окну из текущего спискак идентификаторов\n",
    "        for site in df.site:\n",
    "            ls_site_id.append(d_site_freq[site][0]) # формируем список идентификаторов сайтов для всего считанного файла\n",
    "        ls_sample_indptr = list(range(0, int(df.shape[0]/window_size + 0.5)*window_size, window_size)) # список индексов, \n",
    "                # начиная с которых необходимо будет выбирать идентификаторы сайтов из списка идентификаторов сайтов\n",
    "        if (len(ls_site_id) - window_size) > ls_sample_indptr[-1]: # учитывает случаи, когда не посчитался последний нужный индекс для выборки\n",
    "            ls_sample_indptr.append(ls_sample_indptr[-1] + window_size)\n",
    "        for ind in ls_sample_indptr:\n",
    "            ls_temp = ls_site_id[ind:ind+session_length]\n",
    "            if len(ls_temp) < session_length: # дополняем список текущей выборки нулями до размера session_length\n",
    "                ls_temp = ls_temp + [0]*(session_length - len(ls_temp))\n",
    "            ls_site_id2.append(ls_temp)\n",
    "        df = pd.DataFrame(ls_site_id2) # временный датафрейм уникальных сессий для текущего файла пользователя\n",
    "        df['user_id'] = int(file_path[-8:-4]) # идентификатор текущего пользователя\n",
    "        df.columns = columns\n",
    "        df_train_data = pd.concat([df_train_data, df]) # конкатенируем текущий датафрейм с датафреймом уникальных сессий - на возврат из функции\n",
    "        \n",
    "    df_train_data.index = range(df_train_data.shape[0])\n",
    "\n",
    "    X_users, y_users = df_train_data.iloc[:, :-1].values, df_train_data.iloc[:, -1].values\n",
    "    # получим разреженную матрицу данных\n",
    "    X_sparse_users = prepare_sparse_data(X_users)\n",
    "    \n",
    "    return X_sparse_users, y_users"
   ]
  },
  {
   "cell_type": "markdown",
   "metadata": {},
   "source": [
    "**Ниже приведен результат запуска созданной функции** 16 раз с помощью циклов по числу пользователей num_users (10 или 150), значениям параметра *session_length* (15, 10, 7 или 5) и значениям параметра *window_size* (10, 7 или 5) и последующая сериализация всех 16 разреженных матриц (обучающие выборки) и векторов (метки целевого класса – ID пользователя) в файлы `X_sparse_{num_users}users_s{session_length}_w{window_size}.pkl` и `y_{num_users}users_s{session_length}_w{window_size}.pkl`.\n",
    "\n",
    "В список *data_lengths* записано число строк во всех полученных рареженных матрицах (16 значений) - чтобы отследить корректность полученных матриц."
   ]
  },
  {
   "cell_type": "code",
   "execution_count": 11,
   "metadata": {},
   "outputs": [
    {
     "name": "stdout",
     "output_type": "stream",
     "text": [
      "Wall time: 48.7 s\n"
     ]
    }
   ],
   "source": [
    "%%time\n",
    "import itertools\n",
    "data_lengths = []\n",
    "for num_users in [10, 150]:\n",
    "    for window_size, session_length in itertools.product([10, 7, 5], [15, 10, 7, 5]):\n",
    "        if window_size <= session_length and (window_size, session_length) != (10, 10):\n",
    "            X_sparse, y = prepare_sparse_train_set_window(os.path.join(PATH_TO_DATA, str(num_users) + 'users'), \n",
    "                                            os.path.join(PATH_TO_DATA,'site_freq_' + str(num_users) + 'users.pkl'),\n",
    "                                       session_length=session_length, window_size=window_size)\n",
    "            data_lengths.append(X_sparse.shape[0])\n",
    "            with open(os.path.join(PATH_TO_DATA, 'X_sparse_' + str(num_users) + 'users_' + 's' + str(session_length) +\\\n",
    "                                  '_w' + str(window_size) + '.pkl'), 'wb') as X_pkl:\n",
    "                pickle.dump(X_sparse, X_pkl, protocol=2)\n",
    "            with open(os.path.join(PATH_TO_DATA, 'y_' + str(num_users) + 'users_' + 's' + str(session_length) +\\\n",
    "                                  '_w' + str(window_size) + '.pkl'), 'wb') as y_pkl:\n",
    "                pickle.dump(y, y_pkl, protocol=2)                "
   ]
  },
  {
   "cell_type": "markdown",
   "metadata": {},
   "source": [
    "**Таким образом, из исходных данных** (набора csv-файлов) были подготовлены обучающие выборки для 10-ти и 150-ти пользователей. В данных выборках объектами выступают сессии (последовательно посещенные каждым пользователем сайты) различной длины, с учетом перекрытия по посещенным сайтам между сессиями или без такого перекрытия, а признаками являются идентификаторы посещенных сайтов (или частоты посещенных сайтов - при работе с разреженными матрицами). Далее будет проведен первичный анализ данных (признаков)."
   ]
  },
  {
   "cell_type": "markdown",
   "metadata": {},
   "source": [
    "## 2. Первичный анализ данных (признаков), проверка гипотез"
   ]
  },
  {
   "cell_type": "markdown",
   "metadata": {},
   "source": [
    "### 2.1 Первичный анализ данных (признаков)\n",
    "Для проведения первичного анализа данных (признаков) считывается в DataFrame файл с обучающей выборкой для 10-ти пользователей `train_data_10users.csv`, подготовленный ранее. Далее первичный анализ будет проведен с этим датафреймом."
   ]
  },
  {
   "cell_type": "code",
   "execution_count": 12,
   "metadata": {},
   "outputs": [
    {
     "data": {
      "text/html": [
       "<div>\n",
       "<style scoped>\n",
       "    .dataframe tbody tr th:only-of-type {\n",
       "        vertical-align: middle;\n",
       "    }\n",
       "\n",
       "    .dataframe tbody tr th {\n",
       "        vertical-align: top;\n",
       "    }\n",
       "\n",
       "    .dataframe thead th {\n",
       "        text-align: right;\n",
       "    }\n",
       "</style>\n",
       "<table border=\"1\" class=\"dataframe\">\n",
       "  <thead>\n",
       "    <tr style=\"text-align: right;\">\n",
       "      <th></th>\n",
       "      <th>site1</th>\n",
       "      <th>site2</th>\n",
       "      <th>site3</th>\n",
       "      <th>site4</th>\n",
       "      <th>site5</th>\n",
       "      <th>site6</th>\n",
       "      <th>site7</th>\n",
       "      <th>site8</th>\n",
       "      <th>site9</th>\n",
       "      <th>site10</th>\n",
       "      <th>user_id</th>\n",
       "    </tr>\n",
       "    <tr>\n",
       "      <th>session_id</th>\n",
       "      <th></th>\n",
       "      <th></th>\n",
       "      <th></th>\n",
       "      <th></th>\n",
       "      <th></th>\n",
       "      <th></th>\n",
       "      <th></th>\n",
       "      <th></th>\n",
       "      <th></th>\n",
       "      <th></th>\n",
       "      <th></th>\n",
       "    </tr>\n",
       "  </thead>\n",
       "  <tbody>\n",
       "    <tr>\n",
       "      <th>0</th>\n",
       "      <td>192</td>\n",
       "      <td>574</td>\n",
       "      <td>133</td>\n",
       "      <td>3</td>\n",
       "      <td>133</td>\n",
       "      <td>133</td>\n",
       "      <td>3</td>\n",
       "      <td>133</td>\n",
       "      <td>203</td>\n",
       "      <td>133</td>\n",
       "      <td>31</td>\n",
       "    </tr>\n",
       "    <tr>\n",
       "      <th>1</th>\n",
       "      <td>415</td>\n",
       "      <td>193</td>\n",
       "      <td>674</td>\n",
       "      <td>254</td>\n",
       "      <td>133</td>\n",
       "      <td>31</td>\n",
       "      <td>393</td>\n",
       "      <td>3305</td>\n",
       "      <td>217</td>\n",
       "      <td>55</td>\n",
       "      <td>31</td>\n",
       "    </tr>\n",
       "    <tr>\n",
       "      <th>2</th>\n",
       "      <td>55</td>\n",
       "      <td>3</td>\n",
       "      <td>55</td>\n",
       "      <td>55</td>\n",
       "      <td>5</td>\n",
       "      <td>293</td>\n",
       "      <td>415</td>\n",
       "      <td>333</td>\n",
       "      <td>897</td>\n",
       "      <td>55</td>\n",
       "      <td>31</td>\n",
       "    </tr>\n",
       "  </tbody>\n",
       "</table>\n",
       "</div>"
      ],
      "text/plain": [
       "            site1  site2  site3  site4  site5  site6  site7  site8  site9  \\\n",
       "session_id                                                                  \n",
       "0             192    574    133      3    133    133      3    133    203   \n",
       "1             415    193    674    254    133     31    393   3305    217   \n",
       "2              55      3     55     55      5    293    415    333    897   \n",
       "\n",
       "            site10  user_id  \n",
       "session_id                   \n",
       "0              133       31  \n",
       "1               55       31  \n",
       "2               55       31  "
      ]
     },
     "execution_count": 12,
     "metadata": {},
     "output_type": "execute_result"
    }
   ],
   "source": [
    "train_df = pd.read_csv(os.path.join(PATH_TO_DATA, 'train_data_10users.csv'), index_col='session_id')\n",
    "train_df.head(3)"
   ]
  },
  {
   "cell_type": "code",
   "execution_count": 13,
   "metadata": {},
   "outputs": [
    {
     "name": "stdout",
     "output_type": "stream",
     "text": [
      "<class 'pandas.core.frame.DataFrame'>\n",
      "Int64Index: 14061 entries, 0 to 14060\n",
      "Data columns (total 11 columns):\n",
      "site1      14061 non-null int64\n",
      "site2      14061 non-null int64\n",
      "site3      14061 non-null int64\n",
      "site4      14061 non-null int64\n",
      "site5      14061 non-null int64\n",
      "site6      14061 non-null int64\n",
      "site7      14061 non-null int64\n",
      "site8      14061 non-null int64\n",
      "site9      14061 non-null int64\n",
      "site10     14061 non-null int64\n",
      "user_id    14061 non-null int64\n",
      "dtypes: int64(11)\n",
      "memory usage: 1.3 MB\n"
     ]
    }
   ],
   "source": [
    "train_df.info()"
   ]
  },
  {
   "cell_type": "markdown",
   "metadata": {},
   "source": [
    "**Распределение целевого класса:**"
   ]
  },
  {
   "cell_type": "code",
   "execution_count": 14,
   "metadata": {},
   "outputs": [
    {
     "data": {
      "text/plain": [
       "128    2796\n",
       "39     2204\n",
       "207    1868\n",
       "127    1712\n",
       "237    1643\n",
       "33     1022\n",
       "50      802\n",
       "31      760\n",
       "100     720\n",
       "241     534\n",
       "Name: user_id, dtype: int64"
      ]
     },
     "execution_count": 14,
     "metadata": {},
     "output_type": "execute_result"
    }
   ],
   "source": [
    "train_df['user_id'].value_counts()"
   ]
  },
  {
   "cell_type": "markdown",
   "metadata": {},
   "source": [
    "**Подсчет распределения числа** уникальных сайтов в каждой сессии из 10 посещенных подряд сайтов и гистограмма распределения:"
   ]
  },
  {
   "cell_type": "code",
   "execution_count": 15,
   "metadata": {},
   "outputs": [
    {
     "data": {
      "text/plain": [
       "7     2308\n",
       "6     2197\n",
       "8     2046\n",
       "5     1735\n",
       "9     1394\n",
       "2     1246\n",
       "4     1163\n",
       "3      894\n",
       "10     651\n",
       "1      427\n",
       "dtype: int64"
      ]
     },
     "execution_count": 15,
     "metadata": {},
     "output_type": "execute_result"
    }
   ],
   "source": [
    "num_unique_sites = [np.unique(train_df.values[i, :-1]).shape[0] for i in range(train_df.shape[0])]\n",
    "pd.Series(num_unique_sites).value_counts()"
   ]
  },
  {
   "cell_type": "code",
   "execution_count": 16,
   "metadata": {},
   "outputs": [
    {
     "data": {
      "image/png": "[encoded data removed]",
      "text/plain": [
       "<Figure size 432x216 with 1 Axes>"
      ]
     },
     "metadata": {
      "needs_background": "light"
     },
     "output_type": "display_data"
    }
   ],
   "source": [
    "plt.figure(figsize=[6, 3])\n",
    "pd.Series(num_unique_sites).hist();"
   ]
  },
  {
   "cell_type": "markdown",
   "metadata": {},
   "source": [
    "### 2.2 Проверка гипотез\n",
    "#### 2.2.1 Проверка гипотезы о нормальности распределения"
   ]
  },
  {
   "cell_type": "markdown",
   "metadata": {},
   "source": [
    "* **гипотеза $H_0$:** число уникальных сайтов в каждой сессии из 10-ти подряд посещенных пользователем сайтов распределено нормально.\n",
    "\n",
    "**Проверка гипотезы $H_0$ выполнена** с помощью QQ-plot и критерия Шапиро-Уилка:"
   ]
  },
  {
   "cell_type": "code",
   "execution_count": 17,
   "metadata": {},
   "outputs": [
    {
     "data": {
      "image/png": "[encoded data removed]",
      "text/plain": [
       "<Figure size 432x288 with 1 Axes>"
      ]
     },
     "metadata": {
      "needs_background": "light"
     },
     "output_type": "display_data"
    }
   ],
   "source": [
    "stats.probplot(num_unique_sites, dist='norm', plot=plt); plt.grid()"
   ]
  },
  {
   "cell_type": "code",
   "execution_count": 18,
   "metadata": {},
   "outputs": [
    {
     "name": "stdout",
     "output_type": "stream",
     "text": [
      "Уровень значимости критерия Шапиро-Уилка равен =  0.0000000000000000\n"
     ]
    }
   ],
   "source": [
    "shap_wilk_crit = stats.shapiro(num_unique_sites)\n",
    "print('Уровень значимости критерия Шапиро-Уилка равен = ', '%.16f' % shap_wilk_crit[1])"
   ]
  },
  {
   "cell_type": "markdown",
   "metadata": {},
   "source": [
    "**QQ-plot, ранее построенная** диаграмма распределения и полученный критерий Шапиро-Уилка показывают, что распределение величины числа уникальных сайтов в каждой сессии из 10-ти последовательно посещенных сайтов **не** является нормальным (удлиненные хвосты QQ-plot и p-value критерия Шапиро-Уилка). При этом, возможно, применение критерия Шапиро-Уилка не является оправданным, поскольку количество элементов в проверяемой выборке превышает 5000."
   ]
  },
  {
   "cell_type": "markdown",
   "metadata": {},
   "source": [
    "#### 2.2.2 Проверка гипотезы о значимости доли случаев повторного посещения сайтов в сессии"
   ]
  },
  {
   "cell_type": "markdown",
   "metadata": {},
   "source": [
    "**Проверка гипотезы о том, что пользователь** хотя бы раз зайдет на сайт, который он уже ранее посетил в сессии из 10 сайтов. С помощью биномиального критерия для доли проверяется гипотеза, что доля случаев, когда пользователь повторно посетил какой-то сайт (то есть число уникальных сайтов в сессии < 10) велика: больше 95% (альтернатива тому, что доля равна 95% – одностороняя)."
   ]
  },
  {
   "cell_type": "markdown",
   "metadata": {},
   "source": [
    "* **выборка:** бинарный вектор длины $n$, где 1 — пользователь повторно посетил какой-то сайт за сессию, 0 — не посетил;\n",
    "* **гипотеза $H_0$:** доля случаев, когда пользователь повторно посетил какой-то сайт в каждой сессии, не превышает 95%;\n",
    "* **статистика $T$:** количество единиц в выборке;\n",
    "* **гипотеза $H_1$:** односторонняя альтернатива - доля случаев, когда пользователь повторно посетил какой-то сайт в каждой сессии, велика, больше 95%."
   ]
  },
  {
   "cell_type": "code",
   "execution_count": 19,
   "metadata": {},
   "outputs": [
    {
     "name": "stdout",
     "output_type": "stream",
     "text": [
      "p-value = 0.02207653769072678\n"
     ]
    }
   ],
   "source": [
    "has_two_similar = (np.array(num_unique_sites) < 10).astype('int')\n",
    "pi_val = stats.binom_test(sum(has_two_similar), len(has_two_similar), 0.95, alternative='greater')\n",
    "print('p-value =', pi_val)"
   ]
  },
  {
   "cell_type": "markdown",
   "metadata": {},
   "source": [
    "**Поскольку полученное значение p-value = 0.022,** на уровне значимости 0.05 мы можем отвергнуть гипотезу $H_0$ в пользу односторонней альтернативы - доля случаев повторного посещения пользователем какого-либо сайта в каждой сессии велика, больше 95%."
   ]
  },
  {
   "cell_type": "markdown",
   "metadata": {},
   "source": [
    "#### 2.2.3 Доверительный интервал Уилсона для доли случаев повторного посещения сайтов в сессии"
   ]
  },
  {
   "cell_type": "markdown",
   "metadata": {},
   "source": [
    "**Построение 95% доверительного интервала Уилсона** для доли случаев, когда пользователь повторно посетил какой-то сайт (из п. 2.2.2):"
   ]
  },
  {
   "cell_type": "code",
   "execution_count": 20,
   "metadata": {},
   "outputs": [
    {
     "name": "stdout",
     "output_type": "stream",
     "text": [
      "Доверительный интервал Уилсона для доли повторного посещения сайтов в сессии: [0.95 0.957]\n"
     ]
    }
   ],
   "source": [
    "wilson_interval = proportion_confint(sum(has_two_similar), len(has_two_similar), method = 'wilson')\n",
    "print('Доверительный интервал Уилсона для доли повторного посещения сайтов в сессии: [{} {}]'.format(round(wilson_interval[0], 3), round(wilson_interval[1], 3)))"
   ]
  },
  {
   "cell_type": "markdown",
   "metadata": {},
   "source": [
    "#### 2.2.4 Распределение частоты посещения сайтов (посещенных более 1000 раз)"
   ]
  },
  {
   "cell_type": "markdown",
   "metadata": {},
   "source": [
    "**Распределение частоты посещения сайтов** (сколько раз тот или иной сайт попадается в выборке) для сайтов, которые были посещены как минимум 1000 раз:"
   ]
  },
  {
   "cell_type": "code",
   "execution_count": 21,
   "metadata": {},
   "outputs": [
    {
     "data": {
      "image/png": "[encoded data removed]",
      "text/plain": [
       "<Figure size 432x288 with 1 Axes>"
      ]
     },
     "metadata": {
      "needs_background": "light"
     },
     "output_type": "display_data"
    }
   ],
   "source": [
    "with open('site_freq_10users.pkl', 'rb') as site_freq_pkl:\n",
    "    d_site_freq = pickle.load(site_freq_pkl)\n",
    "d_site_freqs1000 = {site:d_site_freq[site] for site in d_site_freq if d_site_freq[site][1] >= 1000}\n",
    "sns.barplot(list(d_site_freqs1000.keys()), list(map(lambda x: x[1], d_site_freqs1000.values()))); plt.xticks(rotation=90);"
   ]
  },
  {
   "cell_type": "markdown",
   "metadata": {},
   "source": [
    "#### 2.2.5 Доверительный интервал для средней частоты появления сайтов в выборке на основе bootstrap"
   ]
  },
  {
   "cell_type": "markdown",
   "metadata": {},
   "source": [
    "**Ниже представлено построение** 95% доверительного интервала для **средней** частоты появления сайта во всей выборке на основе bootstrap. При оценке доверительного интервала было использовано столько же bootstrap-подвыборок, сколько сайтов оказалось в исходной выборке по 10 пользователям."
   ]
  },
  {
   "cell_type": "code",
   "execution_count": 22,
   "metadata": {},
   "outputs": [],
   "source": [
    "def get_bootstrap_samples(data, n_samples, random_seed=17):\n",
    "    np.random.seed(random_seed)\n",
    "    indices = np.random.randint(0, len(data), (n_samples, len(data)))\n",
    "    samples = data[indices]\n",
    "    return samples"
   ]
  },
  {
   "cell_type": "code",
   "execution_count": 23,
   "metadata": {},
   "outputs": [],
   "source": [
    "def stat_intervals(stat, alpha):\n",
    "    boundaries = np.percentile(stat, \n",
    "                 [100 * alpha / 2., 100 * (1 - alpha / 2.)])\n",
    "    return boundaries"
   ]
  },
  {
   "cell_type": "code",
   "execution_count": 24,
   "metadata": {},
   "outputs": [
    {
     "name": "stdout",
     "output_type": "stream",
     "text": [
      "95% доверительный интервал для средней частоты появления сайта в выборке: [22.51524527 35.76303684]\n"
     ]
    }
   ],
   "source": [
    "site_freqs = list(map(lambda x: x[1], d_site_freq.values()))\n",
    "site_freqs_sorted = np.asarray(sorted(site_freqs, reverse=True))\n",
    "site_freqs_sorted_mean_scores = list(map(np.mean, get_bootstrap_samples(site_freqs_sorted, site_freqs_sorted.shape[0])))\n",
    "print(\"95% доверительный интервал для средней частоты появления сайта в выборке:\",  stat_intervals(site_freqs_sorted_mean_scores, 0.05))"
   ]
  },
  {
   "cell_type": "markdown",
   "metadata": {},
   "source": [
    "**Таким образом, по результатам** первичного анализа данных из выборки для 10-ти пользователей было установлено следующее:\n",
    "- закон распределения числа уникальных сайтов в каждой сессии не является нормальным (хотя визуально достаточно близок к нормальному);\n",
    "- доля случаев, когда пользователь повторно посетил какой-то сайт в каждой сессии, составляет более 95% (с доверительным интервалом [0.95 0.957]);\n",
    "- в выборке присутствуют сайты, которые были посещены более 1000 раз (за все сессии);\n",
    "- доверительный интервал для средней частоты появления сайта в выборке составляет [22.51524527 35.76303684].\n",
    "\n",
    "Далее будет выполнен первичный визуальный анализ данных (признаков) и построение признаков."
   ]
  },
  {
   "cell_type": "markdown",
   "metadata": {},
   "source": [
    "## 3. Визуальный анализ данных и построение признаков"
   ]
  },
  {
   "cell_type": "markdown",
   "metadata": {},
   "source": [
    "### 3.1 Построение признаков\n",
    "Проведенный ранее первичный анализ имеющихся в выборке признаков (а это частоты посещения сайтов, их идентификаторы) предоставил определенную информацию, необходимую для построения прогнозных моделей. Однако для визуального анализа представляется интересным достроить ряд признаков, возможно способных помочь в решении задачи идентификации конкретного пользователя. Построенные признаки далее будут исследованы (проанализированы)."
   ]
  },
  {
   "cell_type": "markdown",
   "metadata": {},
   "source": [
    "**На основе функций** *prepare_train_set* и *prepare_sparse_train_set_window* создается новая – *prepare_train_set_with_fe*, (от \"feature engineering\"), которая позволяет извлечь из исходных данных следующие новые признаки:\n",
    "- `session_timespan` – продолжительность сессии (разница между максимальным и минимальным временем посещения сайтов в сессии, в секундах);\n",
    "- `#unique_sites` – число уникальных сайтов в сессии;\n",
    "- `start_hour` – час начала сессии (то есть час в записи минимального timestamp среди десяти);\n",
    "- `day_of_week` – день недели (то есть день недели в записи минимального timestamp среди десяти).\n",
    "\n",
    "Функция возвращает новый DataFrame (как возвращала функция *prepare_train_set*), но с добавленными новыми 4-мя признаками. Порядок, в котором добавляются признаки: *site1*, ... *site10*, *session_timespan*, *#unique_sites*, *start_hour*, *day_of_week* и *user_id*."
   ]
  },
  {
   "cell_type": "code",
   "execution_count": 25,
   "metadata": {},
   "outputs": [],
   "source": [
    "def prepare_train_set_with_fe(path_to_csv_files, site_freq_path, feature_names, session_length=10, window_size=10):\n",
    "    # считаем из pickle-файла словарь с сайтами, их идентификаторами и частотами посещений по всем пользователям в заданном каталоге\n",
    "    with open(site_freq_path, 'rb') as site_freq_pkl:\n",
    "        d_site_freq = pickle.load(site_freq_pkl) \n",
    "    \n",
    "    files_pathes = glob(path_to_csv_files + '\\\\*.csv') # пути к файлам с данными пользователей в заданном каталоге\n",
    "\n",
    "    # сформируем датафрейм с уникальными сессиями для пользователей\n",
    "    df_train_data = pd.DataFrame(data=None, columns=feature_names) # датафрейм уникальных сессий всех пользователей\n",
    "    \n",
    "    if window_size <= 0: # проверим неотрицательность размера окна\n",
    "        window_size = session_length\n",
    "    \n",
    "    for file_path in files_pathes:\n",
    "        df = pd.read_csv(file_path) # считываем очередной файл в датафрейм\n",
    "        ls_out = [] # список списков идентификаторов сайтов и новых признаков\n",
    "        ls_site_ids = [d_site_freq[site][0] for site in df.site] # формируем список идентификаторов сайтов для всего считанного файла\n",
    "        ls_timestamps = [pd.Timestamp(timestamp).timestamp() for timestamp in df.timestamp] # список timestamp для всего считанного файла\n",
    "        ls_hours = [pd.Period(timestamp).hour for timestamp in df.timestamp] # список часов начала просмотра сайтов для всего считанного файла\n",
    "        ls_days = [pd.Period(timestamp).dayofweek for timestamp in df.timestamp] # список дней недели начала просмотра сайтов для всего считанного файла\n",
    "        \n",
    "        ls_sample_indptrs = list(range(0, int(df.shape[0]/window_size + 0.5)*window_size, window_size)) # список индексов, \n",
    "                # начиная с которых необходимо будет выбирать идентификаторы сайтов из списка идентификаторов сайтов\n",
    "        if (len(ls_site_ids) - window_size) > ls_sample_indptrs[-1]: # учитывает случаи, когда не посчитался последний нужный индекс для выборки\n",
    "            ls_sample_indptrs.append(ls_sample_indptrs[-1] + window_size)\n",
    "            \n",
    "        for ind in ls_sample_indptrs: # текущая сессия с учетом окна\n",
    "            ls_site_ids_temp = ls_site_ids[ind:ind+session_length] # идентификаторы сайтов в текущей сессии\n",
    "            ls_timestamps_temp = ls_timestamps[ind:ind+session_length] # timestamps текущей сессии\n",
    "            ls_hours_temp = ls_hours[ind:ind+session_length] # часы начала просмотра сайтов в текущей сессии\n",
    "            ls_days_temp = ls_days[ind:ind+session_length] # дни недели начала просмотра сайтов в текущей сессии\n",
    "            \n",
    "            unique_sites = len(np.unique(ls_site_ids_temp)) # число уникальных сайтов в текущей сессии\n",
    "            if len(ls_site_ids_temp) < session_length: # дополняем список идентификаторов сайтов текущей сессии нулями до размера session_length\n",
    "                ls_site_ids_temp = ls_site_ids_temp + [0]*(session_length - len(ls_site_ids_temp))\n",
    "            ls_site_ids_temp += [int(max(ls_timestamps_temp) - min(ls_timestamps_temp)), unique_sites,\n",
    "                                 ls_hours_temp[np.argmin(ls_timestamps_temp)], ls_days_temp[np.argmin(ls_timestamps_temp)]] # добавляем продолжительность текущей сессии session_timespan,\n",
    "                                # число уникальных сайтов в текущей сессии #unique_sites, час начала сессии, день начала сессии,\n",
    "            ls_out.append(ls_site_ids_temp)\n",
    "\n",
    "        df = pd.DataFrame(ls_out) # временный датафрейм уникальных сессий для текущего файла пользователя\n",
    "        df[''] = int(file_path[-8:-4]) # идентификатор текущего пользователя\n",
    "        df.columns = feature_names\n",
    "        df_train_data = pd.concat([df_train_data, df]) # конкатенируем текущий датафрейм с датафреймом уникальных сессий - на возврат из функции\n",
    "\n",
    "    df_train_data.index = range(df_train_data.shape[0])\n",
    "            \n",
    "    return df_train_data"
   ]
  },
  {
   "cell_type": "code",
   "execution_count": 26,
   "metadata": {},
   "outputs": [],
   "source": [
    "feature_names = ['site' + str(i) for i in range(1,11)] + \\\n",
    "                ['session_timespan', '#unique_sites', 'start_hour', 'day_of_week', 'target']"
   ]
  },
  {
   "cell_type": "markdown",
   "metadata": {},
   "source": [
    "**Применение функции** *prepare_train_set_with_fe* к данным по 10 пользователям, с длиной сессии *session_length*=10:"
   ]
  },
  {
   "cell_type": "code",
   "execution_count": 27,
   "metadata": {},
   "outputs": [
    {
     "name": "stdout",
     "output_type": "stream",
     "text": [
      "Wall time: 2min 23s\n"
     ]
    }
   ],
   "source": [
    "%%time\n",
    "train_data_10users = prepare_train_set_with_fe(os.path.join(PATH_TO_DATA, '10users'),\n",
    "                                               site_freq_path=os.path.join(PATH_TO_DATA, 'site_freq_10users.pkl'),\n",
    "                                               feature_names=feature_names, session_length=10)"
   ]
  },
  {
   "cell_type": "markdown",
   "metadata": {},
   "source": [
    "**Применение функции** *prepare_train_set_with_fe* к данным по 150 пользователям, с длиной сессии *session_length*=10:"
   ]
  },
  {
   "cell_type": "markdown",
   "metadata": {},
   "source": [
    "<font color=crimson> Внимание! Время выполнения функции для выборки в 150 пользователей превышает 24 мин! </font>"
   ]
  },
  {
   "cell_type": "code",
   "execution_count": 28,
   "metadata": {},
   "outputs": [
    {
     "name": "stdout",
     "output_type": "stream",
     "text": [
      "Wall time: 24min 46s\n"
     ]
    }
   ],
   "source": [
    "%%time\n",
    "train_data_150users = prepare_train_set_with_fe(os.path.join(PATH_TO_DATA, '150users'),\n",
    "                                               site_freq_path=os.path.join(PATH_TO_DATA, 'site_freq_150users.pkl'),\n",
    "                                               feature_names=feature_names, session_length=10)"
   ]
  },
  {
   "cell_type": "markdown",
   "metadata": {},
   "source": [
    "**Сохранение в pickle-файлы признаков** *session_timespan*, *#unique_sites*, *start_hour* и *day_of_week* для 10 и 150 пользователей:"
   ]
  },
  {
   "cell_type": "code",
   "execution_count": 29,
   "metadata": {},
   "outputs": [],
   "source": [
    "new_features_10users = train_data_10users.loc[:,'session_timespan':'day_of_week']\n",
    "new_features_150users = train_data_150users.loc[:,'session_timespan':'day_of_week']\n",
    "with open(os.path.join(PATH_TO_DATA, 'new_features_10users.pkl'), 'wb') as new_features_10users_pkl:\n",
    "    pickle.dump(new_features_10users, new_features_10users_pkl)\n",
    "with open(os.path.join(PATH_TO_DATA, 'new_features_150users.pkl'), 'wb') as new_features_150users_pkl:\n",
    "    pickle.dump(new_features_150users, new_features_150users_pkl)"
   ]
  },
  {
   "cell_type": "markdown",
   "metadata": {},
   "source": [
    "**Небольшой обобщенный первичный** анализ новых признаков:"
   ]
  },
  {
   "cell_type": "code",
   "execution_count": 30,
   "metadata": {},
   "outputs": [
    {
     "name": "stdout",
     "output_type": "stream",
     "text": [
      "Медианные значения: продолжительность сессии (10 польз) - 37.0 sec, день начала сессии (10 польз) - 2.0,      час начала сессии (150 польз) - 13.0, число уникальных сайтов в сессиях (150 польз) - 7.0\n"
     ]
    }
   ],
   "source": [
    "print('Медианные значения: продолжительность сессии (10 польз) - {} sec, день начала сессии (10 польз) - {},\\\n",
    "      час начала сессии (150 польз) - {}, число уникальных сайтов в сессиях (150 польз) - {}'.format(np.median(new_features_10users.session_timespan),\n",
    "                                                                                                    np.median(new_features_10users.day_of_week), np.median(new_features_150users.start_hour),\n",
    "                                                                                                    np.median(new_features_150users['#unique_sites'])))"
   ]
  },
  {
   "cell_type": "markdown",
   "metadata": {},
   "source": [
    "### 3.2 Визуальный анализ данных (признаков)\n",
    "Далее будет проведен визуальный анализ новых, построенных в 3.1, признаков. Для удобства и наглядности при проведении дальнейшего визуального анализа пользователям присваиваются имена и с ними ассоциируются с цвета:"
   ]
  },
  {
   "cell_type": "code",
   "execution_count": 28,
   "metadata": {},
   "outputs": [],
   "source": [
    "id_name_dict = {128: 'Mary-Kate', 39: 'Ashley', 207: 'Lindsey', 127: 'Naomi', 237: 'Avril',\n",
    "               33: 'Bob', 50: 'Bill', 31: 'John', 100: 'Dick', 241: 'Ed'}\n",
    "train_data_10users['target'] = train_data_10users['target'].map(id_name_dict)\n",
    "color_dic = {'Mary-Kate': 'pink', 'Ashley': 'darkviolet', 'Lindsey':'blueviolet', \n",
    "             'Naomi': 'hotpink', 'Avril': 'orchid', \n",
    "             'Bob': 'firebrick', 'Bill': 'gold', 'John': 'forestgreen', \n",
    "             'Dick': 'slategrey', 'Ed':'brown'}"
   ]
  },
  {
   "cell_type": "markdown",
   "metadata": {},
   "source": [
    "#### 3.2.1 Гистограмма распределения длины сессии в секундах (*session_timespan*)"
   ]
  },
  {
   "cell_type": "markdown",
   "metadata": {},
   "source": [
    "**При построении гистограммы** распределения длины сессии в секундах (*session_timespan*) из исходного датафрейма были выбраны значения меньше 200 с, а по оси *x* было также установлено ограничение тем же значением 200 с (можно проследить, что в области от 0 до 200 с сосредоточены основные значения длин сессий, а построение полной гистограммы занимает много времени, при необходимости достаточно раскомментировать закомментированные строчки).<br>\n",
    "Здесь и далее: почему-то перестал применяться метод pd.hist(), а plt.hist() рисует гистограмму только, если на вход поданы данные в виде списка (list()), поэтому отрисовка диаграмм будет выполнена с помощью приведения данных к типу list()."
   ]
  },
  {
   "cell_type": "code",
   "execution_count": 72,
   "metadata": {},
   "outputs": [
    {
     "data": {
      "image/png": "[encoded data removed]",
      "text/plain": [
       "<Figure size 432x288 with 1 Axes>"
      ]
     },
     "metadata": {
      "needs_background": "light"
     },
     "output_type": "display_data"
    }
   ],
   "source": [
    "#plt.hist(train_data_10users['session_timespan'].values, bins=50, range=[0, 200],  facecolor='darkviolet')\n",
    "#plt.xlim([0, 200]); plt.xlabel('Продолжительность сессии, с'); plt.ylabel('Число сессий');\n",
    "plt.hist(list(filter(lambda x: x <= 200, train_data_10users['session_timespan'].values)), bins=50, facecolor='darkviolet', edgecolor='w');\n",
    "plt.xlim([0, 200]); plt.xlabel('Продолжительность сессии, с'); plt.ylabel('Число сессий'); plt.grid();"
   ]
  },
  {
   "cell_type": "markdown",
   "metadata": {},
   "source": [
    "#### 3.2.2 Гистограмма распределения числа уникальных сайтов в сессии (*#unique_sites*)"
   ]
  },
  {
   "cell_type": "code",
   "execution_count": 44,
   "metadata": {},
   "outputs": [
    {
     "data": {
      "image/png": "[encoded data removed]",
      "text/plain": [
       "<Figure size 432x288 with 1 Axes>"
      ]
     },
     "metadata": {
      "needs_background": "light"
     },
     "output_type": "display_data"
    }
   ],
   "source": [
    "#train_data_10users['#unique_sites'].hist(bins=20, color='aqua')\n",
    "#plt.xlabel('Число уникальных сайтов в сессии'); plt.ylabel('Число сессий');\n",
    "plt.hist(list(train_data_10users['#unique_sites'].values), bins=10, facecolor='aqua', edgecolor='b')\n",
    "plt.xlabel('Число уникальных сайтов в сессии'); plt.ylabel('Число сессий'); plt.grid()"
   ]
  },
  {
   "cell_type": "markdown",
   "metadata": {},
   "source": [
    "#### 3.2.3 Гистограмма распределения числа уникальных сайтов в сессии (*#unique_sites*) по каждому из 10-ти пользователей"
   ]
  },
  {
   "cell_type": "markdown",
   "metadata": {},
   "source": [
    "**Ниже представлены гистограммы** распределения числа уникальных сайтов в сессии (*#unique_sites*) для каждого из 10 пользователей по отдельности."
   ]
  },
  {
   "cell_type": "code",
   "execution_count": 54,
   "metadata": {},
   "outputs": [
    {
     "data": {
      "image/png": "[encoded data removed]",
      "text/plain": [
       "<Figure size 1152x720 with 12 Axes>"
      ]
     },
     "metadata": {
      "needs_background": "light"
     },
     "output_type": "display_data"
    }
   ],
   "source": [
    "fig, axes = plt.subplots(nrows=3, ncols=4, figsize=(16, 10));\n",
    "for idx, (user, sub_df) in  enumerate(pd.groupby(train_data_10users, 'target')): \n",
    "    axes[idx//4, idx%4].hist(list(sub_df['#unique_sites']), color=color_dic[user], bins=10, edgecolor='black')\n",
    "    axes[idx//4, idx%4].legend([user]); axes[idx//4, idx%4].set_xlabel('Уникальных сайтов в сессии'); axes[idx//4, idx%4].set_ylabel('Число сайтов'); axes[idx//4, idx%4].grid()"
   ]
  },
  {
   "cell_type": "markdown",
   "metadata": {},
   "source": [
    "#### 3.2.4 Гистограмма распределения часа начала сессии (*start_hour*)"
   ]
  },
  {
   "cell_type": "code",
   "execution_count": 62,
   "metadata": {},
   "outputs": [
    {
     "data": {
      "image/png": "[encoded data removed]",
      "text/plain": [
       "<Figure size 432x288 with 1 Axes>"
      ]
     },
     "metadata": {
      "needs_background": "light"
     },
     "output_type": "display_data"
    }
   ],
   "source": [
    "#train_data_10users['start_hour'].hist(bins=30, color='darkgreen')\n",
    "#plt.xlabel('Час начала сессии'); plt.ylabel('Число сессий');\n",
    "plt.hist(list(train_data_10users['start_hour'].values), bins=24, facecolor='darkgreen', edgecolor='w')\n",
    "plt.xlabel('Час начала сессии'); plt.ylabel('Число сессий'); plt.grid()"
   ]
  },
  {
   "cell_type": "markdown",
   "metadata": {},
   "source": [
    "#### 3.2.5 Гистограмма распределения часа начала сессии (*start_hour*) по каждому из 10-ти пользователей"
   ]
  },
  {
   "cell_type": "markdown",
   "metadata": {},
   "source": [
    "**Ниже представлены гистограммы** распределения часа начала сессии (*start_hour*) для каждого из 10 пользователей по отдельности."
   ]
  },
  {
   "cell_type": "code",
   "execution_count": 65,
   "metadata": {},
   "outputs": [
    {
     "data": {
      "image/png": "[encoded data removed]",
      "text/plain": [
       "<Figure size 1152x720 with 12 Axes>"
      ]
     },
     "metadata": {
      "needs_background": "light"
     },
     "output_type": "display_data"
    }
   ],
   "source": [
    "fig, axes = plt.subplots(nrows=3, ncols=4, figsize=(16, 10))\n",
    "for idx, (user, sub_df) in  enumerate(pd.groupby(train_data_10users, 'target')): \n",
    "    axes[idx//4, idx%4].hist(list(sub_df['start_hour']), color=color_dic[user], bins=24, edgecolor='black')\n",
    "    axes[idx//4, idx%4].legend([user]); axes[idx//4, idx%4].set_xlabel('Час начала сессии'); axes[idx//4, idx%4].set_ylabel('Число сессий'); axes[idx//4, idx%4].grid();"
   ]
  },
  {
   "cell_type": "markdown",
   "metadata": {},
   "source": [
    "#### 3.2.6 Гистограмма распределения дня недели начала сессии (*day_of_week*)"
   ]
  },
  {
   "cell_type": "code",
   "execution_count": 67,
   "metadata": {},
   "outputs": [
    {
     "data": {
      "image/png": "[encoded data removed]",
      "text/plain": [
       "<Figure size 432x288 with 1 Axes>"
      ]
     },
     "metadata": {
      "needs_background": "light"
     },
     "output_type": "display_data"
    }
   ],
   "source": [
    "#train_data_10users['day_of_week'].hist(bins=20, color='sienna')\n",
    "#plt.xlabel('День начала сессии'); plt.ylabel('Число сессий');\n",
    "plt.hist(list(train_data_10users['day_of_week']), bins=7, facecolor='sienna', edgecolor='w')\n",
    "plt.xlabel('День начала сессии'); plt.ylabel('Число сессий'); plt.grid()"
   ]
  },
  {
   "cell_type": "markdown",
   "metadata": {},
   "source": [
    "#### 3.2.7 Гистограмма распределения дня недели начала сессии (*day_of_week*) по каждому из 10-ти пользователей"
   ]
  },
  {
   "cell_type": "markdown",
   "metadata": {},
   "source": [
    "**Ниже представлены гистограммы** распределения дня недели начала сессии (*day_of_week*) для каждого из 10 пользователей по отдельности (при построении гистограмм метки по оси *X* были изменены на мнемонически осмысленные ['Пн', 'Вт', 'Ср', 'Чт', 'Пт', 'Сб', 'Вс'])."
   ]
  },
  {
   "cell_type": "code",
   "execution_count": 69,
   "metadata": {},
   "outputs": [
    {
     "data": {
      "image/png": "[encoded data removed]",
      "text/plain": [
       "<Figure size 1152x720 with 12 Axes>"
      ]
     },
     "metadata": {
      "needs_background": "light"
     },
     "output_type": "display_data"
    }
   ],
   "source": [
    "fig, axes = plt.subplots(nrows=3, ncols=4, figsize=(16, 10))\n",
    "ls_days = ['Пн', 'Вт', 'Ср', 'Чт', 'Пт', 'Сб', 'Вс']\n",
    "for idx, (user, sub_df) in  enumerate(pd.groupby(train_data_10users, 'target')): \n",
    "    axes[idx//4, idx%4].hist(list(sub_df['day_of_week']), color=color_dic[user], bins=7, edgecolor='black');\n",
    "    axes[idx//4, idx%4].set_xticks(range(len(ls_days))); axes[idx//4, idx%4].set_xticklabels(ls_days)\n",
    "    axes[idx//4, idx%4].legend([user]); axes[idx//4, idx%4].set_xlabel('День начала сессии'); axes[idx//4, idx%4].set_ylabel('Число сессий'); axes[idx//4, idx%4].grid()      "
   ]
  },
  {
   "cell_type": "markdown",
   "metadata": {},
   "source": [
    "#### 3.2.8 Выводы о пользователях"
   ]
  },
  {
   "cell_type": "markdown",
   "metadata": {},
   "source": [
    "**По построенным выше графикам** можно сделать следующие выводы о пользователях (для выборки из 10-ти пользователей):\n",
    "- п.3.2.1) продолжительность большинства сессий по всем пользователям не превышает 1 минуты (60 с) (строго говоря, и того меньше - за время ок. 4 с в среднем пользователь успевает посетить несколько сайтов, разумеется, с повторным заходом на ряд из этих сайтов);\n",
    "- п.3.2.2) число уникальных сайтов в каждой сессии по всем пользователям чаще всего равно 6-7;\n",
    "- п.3.2.3) число уникальных сайтов в каждой сессии для конкретных пользователей так же чаще всего равно 6-7, за исключением пользователей Dick и Mary-Kate (эти пользователи, очевидно, предпочитают чаще заходить на одни и те же сайты);\n",
    "- п.3.2.4) наиболее популярный час начала сессий по всем пользователям - 14:00;\n",
    "- п.3.2.5) начало сессий для большинства пользователей приходится на время 14:00-16:00 (15:00 - визуально наиболее популярное время для начала сессий), но 2 пользователя (Ashley и Bob) предпочитают заходить на сайты в 10:00, а один пользователь (Mary-Kate) предпочитает посещать сайты вечером (пик приходится на 20:00) - можно предположить, что Mary-Kate днями очень занята, либо слишком ответственна и не заходит в интернет на работе, либо у нее вообще нет интернета на рабочем месте;\n",
    "- п.3.2.6) наиболее популярный день для посещения сайтов по всем пользователям - среда (хотя далее, по каждому пользователю картина несколько иная);\n",
    "- п.3.2.7) некоторые пользователи (Avril, Dick, Ed и Mary-Kate) проявляют б*О*льшую или достаточную активность в выходные, остальные препочитают посещать сайты в будние дни. При этом можно сказать, что наименее популярный день посещения сайтов у большинства пользователей - понедельник."
   ]
  },
  {
   "cell_type": "markdown",
   "metadata": {},
   "source": [
    "#### 3.2.9 Топ-10 посещаемых сайтов"
   ]
  },
  {
   "cell_type": "markdown",
   "metadata": {},
   "source": [
    "**Загрузка ранее сохраненного** в pickle-файл частотного словаря сайтов для 10 пользователей и определение топ-10 самых посещаемых сайтов (*top10_sites*) и соответствующего кол-ва посещений этих сайтов (*top10_freqs*):"
   ]
  },
  {
   "cell_type": "code",
   "execution_count": 75,
   "metadata": {},
   "outputs": [],
   "source": [
    "with open('site_freq_10users.pkl', 'rb') as site_freq_pkl:\n",
    "    site_freq_10users = pickle.load(site_freq_pkl)\n",
    "site_freq_10users_sorted = sorted(site_freq_10users.items(), key=operator.itemgetter(1))\n",
    "top10_freqs = list(map(lambda x: x[1][1], site_freq_10users_sorted[0:10]))\n",
    "top10_sites = list(map(lambda x: x[0], site_freq_10users_sorted[0:10]))"
   ]
  },
  {
   "cell_type": "markdown",
   "metadata": {},
   "source": [
    "**Ниже представлен** *seaborn barplot*, показывающий частоты посещений топ-10 сайтов."
   ]
  },
  {
   "cell_type": "code",
   "execution_count": 79,
   "metadata": {},
   "outputs": [
    {
     "data": {
      "image/png": "[encoded data removed]",
      "text/plain": [
       "<Figure size 432x288 with 1 Axes>"
      ]
     },
     "metadata": {
      "needs_background": "light"
     },
     "output_type": "display_data"
    }
   ],
   "source": [
    "sns.barplot(x=top10_sites, y=top10_freqs); plt.xticks(rotation=90); plt.grid()"
   ]
  },
  {
   "cell_type": "markdown",
   "metadata": {},
   "source": [
    "### 3.3 Построение и визуальный анализ дополнительных признаков"
   ]
  },
  {
   "cell_type": "markdown",
   "metadata": {},
   "source": [
    "#### 3.3.1 Построение дополнительных признаков"
   ]
  },
  {
   "cell_type": "markdown",
   "metadata": {},
   "source": [
    "Поскольку далее будут построены модели для классификации сессий по принадлежности разным пользователям, возможно, что будет иметь смысл добавить созданные новые признаки в обучающие выборки при построении моделей и посмотреть, улучшается ли модель. Признаки создаются в виде отдельных матриц и сохраняются отдельно.<br>\n",
    "Ниже разработана функция *feature_engineering* для создания нового признака - медианного времени пребывания в сессии, где само время пребывания в сессии считается по разности соседних timestamps-ов (разность между заходами пользователя на два соседних сайта). Функция была применена к исходным данным – каталогам с 10 и 150 файлами. Сделано это было только для набора данных, полученного с параметрами *session_length=10* и *window_size=10*. Затем полученные матрицы были сериализованы с помощью pickle."
   ]
  },
  {
   "cell_type": "code",
   "execution_count": 80,
   "metadata": {},
   "outputs": [],
   "source": [
    "def feature_engineering(path_to_csv_files, site_freq_path, feature_names, session_length=10, window_size=10):\n",
    "    # считаем из pickle-файла словарь с сайтами, их идентификаторами и частотами посещений\n",
    "    # по всем пользователям в заданном каталоге\n",
    "    with open(site_freq_path, 'rb') as site_freq_pkl:\n",
    "        d_site_freq = pickle.load(site_freq_pkl) \n",
    "    \n",
    "    files_pathes = glob(path_to_csv_files + '\\\\*.csv') # пути к файлам с данными пользователей в заданном каталоге\n",
    "\n",
    "    # сформируем датафрейм с уникальными сессиями для пользователей\n",
    "    if window_size <= 0: # проверим положительность размера окна\n",
    "        window_size = session_length\n",
    "    \n",
    "    ls_timesites_median = [] # список медианных значений времени пребывания на сайтах по всем сессиям всех пользователей\n",
    "            # время пребывания на сайте считается по разности соседних timestamps\n",
    "    ls_user_id = [] # список идентификаторов пользователей\n",
    "    \n",
    "    for file_path in files_pathes:\n",
    "        df = pd.read_csv(file_path) # считываем очередной файл в датафрейм\n",
    "        ls_site_ids = [d_site_freq[site][0] for site in df.site] # формируем список идентификаторов сайтов для всего считанного файла\n",
    "        ls_timestamps = [pd.Timestamp(timestamp).timestamp() for timestamp in df.timestamp] # список timestamp для всего считанного файла\n",
    "        \n",
    "        ls_sample_indptrs = list(range(0, int(df.shape[0]/window_size + 0.5)*window_size, window_size)) # список индексов, \n",
    "                # начиная с которых необходимо будет выбирать идентификаторы сайтов из списка идентификаторов сайтов\n",
    "        if (len(ls_site_ids) - window_size) > ls_sample_indptrs[-1]: # учитывает случаи, когда не посчитался последний нужный индекс для выборки\n",
    "            ls_sample_indptrs.append(ls_sample_indptrs[-1] + window_size)\n",
    "        ls_timesites_median += [np.median(list(map(lambda x,y: y-x, ls_timestamps[ind:ind+session_length], ls_timestamps[ind:ind+session_length][1:]))) for ind in ls_sample_indptrs]\n",
    "        ls_user_id += [int(file_path[-8:-4])]*len(ls_sample_indptrs)\n",
    "        \n",
    "    df_train_data = pd.DataFrame(list(zip(ls_timesites_median, ls_user_id)))\n",
    "    df_train_data.columns = feature_names\n",
    "    df_train_data.index = range(df_train_data.shape[0])\n",
    "\n",
    "    return df_train_data"
   ]
  },
  {
   "cell_type": "code",
   "execution_count": 81,
   "metadata": {},
   "outputs": [],
   "source": [
    "feature_names = ['median_time', 'target']"
   ]
  },
  {
   "cell_type": "code",
   "execution_count": 94,
   "metadata": {},
   "outputs": [
    {
     "name": "stdout",
     "output_type": "stream",
     "text": [
      "Wall time: 10.7 s\n"
     ]
    }
   ],
   "source": [
    "%%time\n",
    "new_features_10users = feature_engineering(os.path.join(PATH_TO_DATA, '10users'), site_freq_path=os.path.join(PATH_TO_DATA, 'site_freq_10users.pkl'),\n",
    "                                           feature_names=feature_names, session_length=10)\n",
    "new_features_150users = feature_engineering(os.path.join(PATH_TO_DATA, '150users'), site_freq_path=os.path.join(PATH_TO_DATA, 'site_freq_150users.pkl'),\n",
    "                                           feature_names=feature_names, session_length=10)"
   ]
  },
  {
   "cell_type": "markdown",
   "metadata": {},
   "source": [
    "#### 3.3.2 Визуальный анализ дополнительных признаков"
   ]
  },
  {
   "cell_type": "markdown",
   "metadata": {},
   "source": [
    "**Ниже представлены гистограммы** распределения медианного значения времени пребывания на сайте по всем пользователям (для выборок из 10-ти и 150-ти пользователей)."
   ]
  },
  {
   "cell_type": "code",
   "execution_count": 101,
   "metadata": {},
   "outputs": [
    {
     "data": {
      "image/png": "[encoded data removed]",
      "text/plain": [
       "<Figure size 720x216 with 2 Axes>"
      ]
     },
     "metadata": {
      "needs_background": "light"
     },
     "output_type": "display_data"
    }
   ],
   "source": [
    "fig, axes = plt.subplots(nrows=1, ncols=2, figsize=(10,3))\n",
    "axes[0].hist(new_features_10users['median_time'][0:200], bins=20); axes[0].set_xlabel('Медианное время пребывания на сайте, с'); axes[0].set_ylabel('Число сессий')\n",
    "axes[0].set_title('10 пользователей'); axes[1].set_title('150 пользователей'); axes[0].grid(); axes[1].grid()\n",
    "axes[1].hist(new_features_150users['median_time'][0:40], bins=20); axes[1].set_xlabel('Медианное время пребывания на сайте, с');"
   ]
  },
  {
   "cell_type": "markdown",
   "metadata": {},
   "source": [
    "**Гистограмма распределения** медианного значения времени пребывания на сайте по каждому пользователю для выборки из 10-ти пользователей:"
   ]
  },
  {
   "cell_type": "code",
   "execution_count": 102,
   "metadata": {},
   "outputs": [],
   "source": [
    "new_features_10users['target'] = new_features_10users['target'].map(id_name_dict)"
   ]
  },
  {
   "cell_type": "code",
   "execution_count": 105,
   "metadata": {},
   "outputs": [
    {
     "data": {
      "image/png": "[encoded data removed]",
      "text/plain": [
       "<Figure size 1152x720 with 12 Axes>"
      ]
     },
     "metadata": {
      "needs_background": "light"
     },
     "output_type": "display_data"
    }
   ],
   "source": [
    "fig, axes = plt.subplots(nrows=3, ncols=4, figsize=(16, 10))\n",
    "for idx, (user, sub_df) in  enumerate(pd.groupby(new_features_10users, 'target')): \n",
    "    axes[idx//4, idx%4].hist(sub_df['median_time'][0:200], color=color_dic[user], bins=20);\n",
    "    axes[idx//4, idx%4].legend([user]); axes[idx//4, idx%4].set_xlabel('Медианное время пребывания на сайте, с'); axes[idx//4, idx%4].set_ylabel('Число сессий'); axes[idx//4, idx%4].grid()    "
   ]
  },
  {
   "cell_type": "markdown",
   "metadata": {},
   "source": [
    "**По построенным диаграммам** можно сделать вывод, что медианное время пребывания на сайте для каждого пользователя сосредоточено в районе 4-10 с. Возможно, это не самый эффективный признак с точки зрения улучшения модели идентификации пользователей, необходимость его применения для данной задачи будет оценена позднее."
   ]
  },
  {
   "cell_type": "markdown",
   "metadata": {},
   "source": [
    "**Сохранение дополнительных** признаков в pickle-файлы:"
   ]
  },
  {
   "cell_type": "code",
   "execution_count": 106,
   "metadata": {},
   "outputs": [],
   "source": [
    "selected_features_10users = new_features_10users.median_time \n",
    "selected_features_150users = new_features_150users.median_time \n",
    "with open(os.path.join(PATH_TO_DATA, 'selected_features_10users.pkl'), 'wb') as selected_features_10users_pkl:\n",
    "    pickle.dump(selected_features_10users, selected_features_10users_pkl, protocol=2)\n",
    "with open(os.path.join(PATH_TO_DATA, 'selected_features_150users.pkl'), 'wb') as selected_features_150users_pkl:\n",
    "    pickle.dump(selected_features_150users, selected_features_150users_pkl, protocol=2)"
   ]
  },
  {
   "cell_type": "markdown",
   "metadata": {},
   "source": [
    "**Таким образом, по исходным данным** для выборок из 10-ти и 150-ти пользователей были построены новые (и дополнительные) признаки и проведен их первичный визуальный анализ, который позволил выявить определенные сходства и различия в признаках для различных пользователей (день недели и час начала сессии, количество повторных посещений сайтов и т.п.).<br>\n",
    "Далее будет проведен выбор, обучение и сравнение различных моделей классификации."
   ]
  },
  {
   "cell_type": "markdown",
   "metadata": {},
   "source": [
    "## 4. Сравнение алгоритмов классификации"
   ]
  },
  {
   "cell_type": "markdown",
   "metadata": {},
   "source": [
    "**В этом разделе будет выполнено** обучение нескольких моделей классификации, сравнение на кросс-валидации нескольких алгоритмов, и анализ того, какие параметры длины сессии (*session_length* и *window_size*) лучше использовать. Также для выбранного алгоритма будут построены кривые валидации (как качество классификации зависит от одного из гиперпараметров алгоритма) и кривые обучения (как качество классификации зависит от объема выборки)."
   ]
  },
  {
   "cell_type": "markdown",
   "metadata": {},
   "source": [
    "### 4.1 Сравнение алгоритмов (моделей) на сессиях из 10-ти сайтов"
   ]
  },
  {
   "cell_type": "markdown",
   "metadata": {},
   "source": [
    "#### 4.1.0 Подготовка данных\n",
    "Для обучения моделей классификации необходимо подготовить соответствующим образом обучающую и тестовую (валидационную) выборки, а также задать тип кросс-валидации."
   ]
  },
  {
   "cell_type": "markdown",
   "metadata": {},
   "source": [
    "**Сериализованные ранее объекты** *X_sparse_10users* и *y_10users*, соответствующие обучающей выборке для 10 пользователей:"
   ]
  },
  {
   "cell_type": "code",
   "execution_count": 109,
   "metadata": {},
   "outputs": [],
   "source": [
    "with open(os.path.join(PATH_TO_DATA, 'X_sparse_10users.pkl'), 'rb') as X_sparse_10users_pkl:\n",
    "    X_sparse_10users = pickle.load(X_sparse_10users_pkl)\n",
    "with open(os.path.join(PATH_TO_DATA, 'y_10users.pkl'), 'rb') as y_10users_pkl:\n",
    "    y_10users = pickle.load(y_10users_pkl)"
   ]
  },
  {
   "cell_type": "markdown",
   "metadata": {},
   "source": [
    "**Здесь более 14 тысяч сессий** и почти 5 тысяч уникальных посещенных сайтов."
   ]
  },
  {
   "cell_type": "code",
   "execution_count": 110,
   "metadata": {},
   "outputs": [
    {
     "data": {
      "text/plain": [
       "(14061, 4913)"
      ]
     },
     "execution_count": 110,
     "metadata": {},
     "output_type": "execute_result"
    }
   ],
   "source": [
    "X_sparse_10users.shape"
   ]
  },
  {
   "cell_type": "markdown",
   "metadata": {},
   "source": [
    "**Выборка делится на 2 части.** На одной будет проводиться кросс-валидация, на второй – оцениваться модель, обученная после кросс-валидации."
   ]
  },
  {
   "cell_type": "code",
   "execution_count": 111,
   "metadata": {},
   "outputs": [],
   "source": [
    "X_train, X_valid, y_train, y_valid = train_test_split(X_sparse_10users, y_10users, test_size=0.3, random_state=17, stratify=y_10users)"
   ]
  },
  {
   "cell_type": "markdown",
   "metadata": {},
   "source": [
    "**Задается тип кросс-валидации:** 3-кратная, с перемешиванием, параметр random_state=17 – для воспроизводимости:"
   ]
  },
  {
   "cell_type": "code",
   "execution_count": 112,
   "metadata": {},
   "outputs": [],
   "source": [
    "skf = StratifiedKFold(n_splits=3, shuffle=True, random_state=17)"
   ]
  },
  {
   "cell_type": "markdown",
   "metadata": {},
   "source": [
    "**Вспомогательная функция** для отрисовки кривых валидации после запуска GridSearchCV (или RandomizedCV):"
   ]
  },
  {
   "cell_type": "code",
   "execution_count": 113,
   "metadata": {},
   "outputs": [],
   "source": [
    "def plot_validation_curves(param_values, grid_cv_results_):\n",
    "    train_mu, train_std = grid_cv_results_['mean_train_score'], grid_cv_results_['std_train_score']\n",
    "    valid_mu, valid_std = grid_cv_results_['mean_test_score'], grid_cv_results_['std_test_score']\n",
    "    train_line = plt.plot(param_values, train_mu, '-', label='train', color='green')\n",
    "    valid_line = plt.plot(param_values, valid_mu, '-', label='test', color='red')\n",
    "    plt.fill_between(param_values, train_mu - train_std, train_mu + train_std, edgecolor='none',\n",
    "                     facecolor=train_line[0].get_color(), alpha=0.2)\n",
    "    plt.fill_between(param_values, valid_mu - valid_std, valid_mu + valid_std, edgecolor='none',\n",
    "                     facecolor=valid_line[0].get_color(), alpha=0.2)\n",
    "    plt.legend()"
   ]
  },
  {
   "cell_type": "markdown",
   "metadata": {},
   "source": [
    "#### 4.1.1 Метод K ближайших соседей (`KNeighborsClassifier`)\n",
    "**Будет обучена модель `KNeighborsClassifier`** со 100 ближайшими соседями (остальные параметры остаются по умолчанию, только `n_jobs`=-1 для распараллеливания) и посчитана доля правильных ответов на 3-кратной кросс-валидации (ради воспроизводимости для этого используется объект `StratifiedKFold` `skf`) по выборке `(X_train, y_train)` и отдельно на выборке `(X_valid, y_valid)`."
   ]
  },
  {
   "cell_type": "code",
   "execution_count": 115,
   "metadata": {},
   "outputs": [
    {
     "name": "stdout",
     "output_type": "stream",
     "text": [
      "Качество классификации на отложенной выборке: 0.584024650391088, на кросс-валидации: 0.5647188870063362\n"
     ]
    }
   ],
   "source": [
    "knn = KNeighborsClassifier(n_neighbors=100, n_jobs=-1)\n",
    "knn.fit(X_train, y_train.astype(int)) # обучение классификатора\n",
    "knn_prediction = knn.predict(X_valid) # применение обученного классификатора для предсказания по отложенной выборке\n",
    "knn_valid_score = accuracy_score(y_valid.astype(int), knn_prediction) # оценка качества на отложенной выборке\n",
    "knn_cv_score = cross_val_score(knn, X_train, y_train.astype(int), scoring='accuracy', cv=skf).mean() # оценка по кроссвалидации\n",
    "print('Качество классификации на отложенной выборке: {}, на кросс-валидации: {}'.format(knn_valid_score, knn_cv_score))"
   ]
  },
  {
   "cell_type": "markdown",
   "metadata": {},
   "source": [
    "#### 4.1.2 Метод случайного леса (`RandomForestClassifier`)\n",
    "**Будет обучена модель случайного леса** (`RandomForestClassifier`) из 100 деревьев (для воспроизводимости `random_state`=17) и посчитана доля правильных ответов для `RandomForestClassifier` при Out-of-Bag оценке и на отложенной выборке `(X_valid, y_valid)`."
   ]
  },
  {
   "cell_type": "code",
   "execution_count": 121,
   "metadata": {},
   "outputs": [
    {
     "name": "stdout",
     "output_type": "stream",
     "text": [
      "Качество классификации на отложенной выборке: 0.7312159279450107, на Out-of-Bag оценке: 0.7172322698638488\n"
     ]
    }
   ],
   "source": [
    "forest = RandomForestClassifier(n_estimators=100, random_state=17, oob_score=True, n_jobs=-1)\n",
    "forest.fit(X_train, y_train.astype(int)) # обучение классификатора\n",
    "forest_prediction = forest.predict(X_valid) # применение обученного классификатора для предсказания по отложенной выборке\n",
    "forest_valid_score = accuracy_score(y_valid.astype(int), forest_prediction) # оценка качества на отложенной выборке\n",
    "print('Качество классификации на отложенной выборке: {}, на Out-of-Bag оценке: {}'.format(forest_valid_score, forest.oob_score_))"
   ]
  },
  {
   "cell_type": "markdown",
   "metadata": {},
   "source": [
    "#### 4.1.3 Метод логистической регрессии (`RandomForestClassifier`)\n",
    "**Будет обучена модель логистической регрессии** (`LogisticRegression`) с параметром `C` по умолчанию и `random_state`=17 (для воспроизводимости) и посчитана доля правильных ответов на 3-кратной кросс-валидации (ради воспроизводимости используется объект `skf`, созданный ранее) и на выборке `(X_valid, y_valid)`."
   ]
  },
  {
   "cell_type": "code",
   "execution_count": 127,
   "metadata": {},
   "outputs": [
    {
     "name": "stdout",
     "output_type": "stream",
     "text": [
      "Качество классификации на отложенной выборке: 0.7817018250770325, на кросс-валидации: 0.7610267543665875\n"
     ]
    }
   ],
   "source": [
    "logit = LogisticRegression(random_state=17, n_jobs=-1)\n",
    "logit.fit(X_train, y_train.astype(int))\n",
    "logit_prediction = logit.predict(X_valid) # применение обученного классификатора для предсказания по отложенной выборке\n",
    "logit_valid_score = accuracy_score(y_valid.astype(int), logit_prediction) # оценка качества на отложенной выборке\n",
    "logit_cv_score = cross_val_score(logit, X_train, y_train.astype(int), scoring='accuracy', cv=skf).mean() # оценка на кроссвалидации)\n",
    "print('Качество классификации на отложенной выборке: {}, на кросс-валидации: {}'.format(logit_valid_score, logit_cv_score))"
   ]
  },
  {
   "cell_type": "markdown",
   "metadata": {},
   "source": [
    "**Далее осуществляется** подбор параметра регуляризации `C` с помощью функции [LogisticRegressionCV](http://scikit-learn.org/stable/modules/generated/sklearn.linear_model.LogisticRegressionCV.html) (она работает быстрее, чем функция `GridSearchCV`). С помощью `LogisticRegressionCV` будет подобран параметр `C` для `LogisticRegression`, сначала в широком диапазоне: 10 значений от 1e-4 до 1e2. У `LogisticRegressionCV` установлены параметры `multi_class`='multinomial' и `random_state`=17. Для кросс-валидации используется объект `skf`, созданный ранее. Для распараллеливания задано `n_jobs=-1`.<br>\n",
    "После подбора приведены кривые валидации по параметру `C`."
   ]
  },
  {
   "cell_type": "code",
   "execution_count": 136,
   "metadata": {},
   "outputs": [
    {
     "name": "stdout",
     "output_type": "stream",
     "text": [
      "Wall time: 10.8 s\n"
     ]
    },
    {
     "data": {
      "image/png": "[encoded data removed]",
      "text/plain": [
       "<Figure size 360x216 with 1 Axes>"
      ]
     },
     "metadata": {
      "needs_background": "light"
     },
     "output_type": "display_data"
    }
   ],
   "source": [
    "%%time\n",
    "logit_c_values1 = np.logspace(-4, 2, 10)\n",
    "logit_grid_searcher1 = LogisticRegressionCV(Cs=logit_c_values1, cv=skf, multi_class='multinomial', random_state=17, n_jobs=-1) \n",
    "logit_grid_searcher1.fit(X_train, y_train.astype(int))\n",
    "plt.figure(figsize=[5,3]); plt.title('Кривые валидации по параметру C'); plt.xlabel('Параметр регуляризации C'); plt.ylabel('Качество классификации'); plt.grid()\n",
    "for row in logit_grid_searcher1.scores_[31]:\n",
    "    plt.plot(logit_c_values1, row); "
   ]
  },
  {
   "cell_type": "markdown",
   "metadata": {},
   "source": [
    "**Средние значения** доли правильных ответов на кросс-валидации по каждому из 10 параметров `C`:"
   ]
  },
  {
   "cell_type": "code",
   "execution_count": 137,
   "metadata": {},
   "outputs": [],
   "source": [
    "logit_mean_cv_scores1 = logit_grid_searcher1.scores_[31].mean(axis=0)"
   ]
  },
  {
   "cell_type": "markdown",
   "metadata": {},
   "source": [
    "**Лучшее значение** доли правильных ответов на кросс-валидации и соответствующее значение `C`:"
   ]
  },
  {
   "cell_type": "code",
   "execution_count": 138,
   "metadata": {},
   "outputs": [
    {
     "name": "stdout",
     "output_type": "stream",
     "text": [
      "Лучшее значение доли правильных ответов на кросс-валидации = 0.7590970965314504 \n",
      " соответствующий этому значению параметр C = 1.0\n"
     ]
    }
   ],
   "source": [
    "print('Лучшее значение доли правильных ответов на кросс-валидации = {} \\n соответствующий этому значению параметр C = {}'.format(max(logit_mean_cv_scores1), logit_c_values1[np.argmax(logit_mean_cv_scores1)]))"
   ]
  },
  {
   "cell_type": "markdown",
   "metadata": {},
   "source": [
    "**График зависимости** доли правильных ответов на кросс-валидации от `C`:"
   ]
  },
  {
   "cell_type": "code",
   "execution_count": 139,
   "metadata": {},
   "outputs": [
    {
     "data": {
      "image/png": "[encoded data removed]",
      "text/plain": [
       "<Figure size 360x216 with 1 Axes>"
      ]
     },
     "metadata": {
      "needs_background": "light"
     },
     "output_type": "display_data"
    }
   ],
   "source": [
    "plt.figure(figsize=[5,3]); plt.plot(logit_c_values1, logit_mean_cv_scores1); plt.title('Доля правильных ответов на кросс-валидации от C')\n",
    "plt.xlabel('Параметр регуляризации C'); plt.ylabel('Качество классификации'); plt.grid()"
   ]
  },
  {
   "cell_type": "markdown",
   "metadata": {},
   "source": [
    "**Далее снова осуществляется** подбор параметра регуляризации `C` с помощью функции `LogisticRegressionCV`, но теперь в диапазоне `np.linspace`(0.1, 7, 20).<br>\n",
    "После подбора приведены кривые валидации по параметру `C`."
   ]
  },
  {
   "cell_type": "code",
   "execution_count": 140,
   "metadata": {},
   "outputs": [
    {
     "name": "stdout",
     "output_type": "stream",
     "text": [
      "Wall time: 29.6 s\n"
     ]
    },
    {
     "data": {
      "image/png": "[encoded data removed]",
      "text/plain": [
       "<Figure size 360x216 with 1 Axes>"
      ]
     },
     "metadata": {
      "needs_background": "light"
     },
     "output_type": "display_data"
    }
   ],
   "source": [
    "%%time\n",
    "logit_c_values2 = np.linspace(0.1, 7, 20)\n",
    "logit_grid_searcher2 = LogisticRegressionCV(Cs=logit_c_values2, cv=skf, multi_class='multinomial', random_state=17, n_jobs=-1)\n",
    "logit_grid_searcher2.fit(X_train, y_train.astype(int))\n",
    "row_num = 1\n",
    "plt.figure(figsize=[5,3]); plt.title('Кривые валидации по параметру C'); plt.xlabel('Параметр регуляризации C'); plt.ylabel('Качество классификации'); plt.grid()\n",
    "for row in logit_grid_searcher2.scores_[31]:\n",
    "    plt.plot(logit_c_values2, row, label=row_num); row_num += 1; plt.legend()"
   ]
  },
  {
   "cell_type": "markdown",
   "metadata": {},
   "source": [
    "**Средние значения** доли правильных ответов на кросс-валидации по каждому из 10 параметров `C`:"
   ]
  },
  {
   "cell_type": "code",
   "execution_count": 141,
   "metadata": {},
   "outputs": [],
   "source": [
    "logit_mean_cv_scores2 = logit_grid_searcher2.scores_[31].mean(axis=0)"
   ]
  },
  {
   "cell_type": "markdown",
   "metadata": {},
   "source": [
    "**Лучшее значение** доли правильных ответов на кросс-валидации и соответствующее значение `C`:"
   ]
  },
  {
   "cell_type": "code",
   "execution_count": 143,
   "metadata": {
    "scrolled": true
   },
   "outputs": [
    {
     "name": "stdout",
     "output_type": "stream",
     "text": [
      "Лучшее значение доли правильных ответов на кросс-валидации = 0.7586896943864367 \n",
      " соответствующий этому значению параметр C = 0.4631578947368421\n"
     ]
    }
   ],
   "source": [
    "print('Лучшее значение доли правильных ответов на кросс-валидации = {} \\n соответствующий этому значению параметр C = {}'.format(max(logit_mean_cv_scores2), logit_c_values2[np.argmax(logit_mean_cv_scores2)]))"
   ]
  },
  {
   "cell_type": "markdown",
   "metadata": {},
   "source": [
    "**График зависимости** доли правильных ответов на кросс-валидации от `C`:"
   ]
  },
  {
   "cell_type": "code",
   "execution_count": 144,
   "metadata": {},
   "outputs": [
    {
     "data": {
      "image/png": "[encoded data removed]",
      "text/plain": [
       "<Figure size 360x216 with 1 Axes>"
      ]
     },
     "metadata": {
      "needs_background": "light"
     },
     "output_type": "display_data"
    }
   ],
   "source": [
    "plt.figure(figsize=[5,3]); plt.plot(logit_c_values2, logit_mean_cv_scores2); plt.title('Доля правильных ответов на кросс-валидации от C')\n",
    "plt.xlabel('Параметр регуляризации C'); plt.ylabel('Качество классификации'); plt.grid()"
   ]
  },
  {
   "cell_type": "markdown",
   "metadata": {},
   "source": [
    "**Доля правильных ответов** на выборке `(X_valid, y_valid)` для логистической регрессии с лучшим найденным значением `C` (несмотря на то, что по значению качества классификации лучшим оказалось C=1.0, \"правильным\" с точки зрения выполнения данного задания, считалось значение C=0.4631578947368421, поэтому далее будет обучена модель логрегрессии с этим значением C) (доли правильных ответов для `logit_grid_searcher2` на кросс-валидации для лучшего значения параметра `C` и на отложенной выборке):"
   ]
  },
  {
   "cell_type": "code",
   "execution_count": 146,
   "metadata": {},
   "outputs": [
    {
     "name": "stdout",
     "output_type": "stream",
     "text": [
      "Качество классификации на отложенной выборке: 0.772931974401517, на кросс-валидации: 0.7562517204931455\n"
     ]
    }
   ],
   "source": [
    "logit2 = LogisticRegression(random_state=17, n_jobs=-1, C=0.4631578947368421)\n",
    "logit2.fit(X_train, y_train.astype(int))\n",
    "logit_prediction2 = logit2.predict(X_valid) # применение обученного классификатора для предсказания по отложенной выборке\n",
    "logit_valid_score2 = accuracy_score(y_valid.astype(int), logit_prediction2) # оценка качества на отложенной выборке\n",
    "logit_cv_score2 = cross_val_score(logit2, X_train, y_train.astype(int), scoring='accuracy', cv=skf).mean() # оценка на кроссвалидации)\n",
    "print('Качество классификации на отложенной выборке: {}, на кросс-валидации: {}'.format(logit_valid_score2, logit_cv_score2))"
   ]
  },
  {
   "cell_type": "markdown",
   "metadata": {},
   "source": [
    "#### 4.1.4 Метод линейный SVM (LinearSVC)\n",
    "**Будет обучена модель метода опорных векторов SVM** (`LinearSVC`) с параметром `C`=1 и `random_state`=17 (для воспроизводимости) и посчитана доля правильных ответов на 3-кратной кросс-валидации (ради воспроизводимости используется объект `skf`, созданный ранее) и на выборке `(X_valid, y_valid)`."
   ]
  },
  {
   "cell_type": "code",
   "execution_count": 148,
   "metadata": {},
   "outputs": [
    {
     "name": "stdout",
     "output_type": "stream",
     "text": [
      "Качество классификации на отложенной выборке: 0.7769613652524295, на кросс-валидации: 0.7527976723012523\n"
     ]
    }
   ],
   "source": [
    "svm = LinearSVC(random_state=17, C=1.0)\n",
    "svm.fit(X_train, y_train.astype(int)) # обучение классификатора\n",
    "svm_prediction = svm.predict(X_valid) # применение обученного классификатора для предсказания по отложенной выборке\n",
    "svm_valid_score = accuracy_score(y_valid.astype(int), svm_prediction) # оценка качества на отложенной выборке\n",
    "svm_cv_score = cross_val_score(svm, X_train, y_train.astype(int), scoring='accuracy', cv=skf).mean() # оценка на кроссвалидации\n",
    "print('Качество классификации на отложенной выборке: {}, на кросс-валидации: {}'.format(svm_valid_score, svm_cv_score))"
   ]
  },
  {
   "cell_type": "markdown",
   "metadata": {},
   "source": [
    "**Далее осуществляется** подбор параметра регуляризации `C` для SVM с помощью функции `GridSearchCV`, сначала в широком диапазоне: 10 значений от 1e-4 до 1e4.<br>\n",
    "После подбора приведены кривые валидации по параметру `C`."
   ]
  },
  {
   "cell_type": "code",
   "execution_count": 149,
   "metadata": {},
   "outputs": [
    {
     "name": "stdout",
     "output_type": "stream",
     "text": [
      "Wall time: 58.7 s\n"
     ]
    },
    {
     "data": {
      "image/png": "[encoded data removed]",
      "text/plain": [
       "<Figure size 360x216 with 1 Axes>"
      ]
     },
     "metadata": {
      "needs_background": "light"
     },
     "output_type": "display_data"
    }
   ],
   "source": [
    "%%time\n",
    "svm_params1 = {'C': np.linspace(1e-4, 1e4, 10)}\n",
    "svm_grid_searcher1 = GridSearchCV(svm, param_grid=svm_params1)\n",
    "svm_grid_searcher1.fit(X_train, y_train.astype(int))\n",
    "plt.figure(figsize=[5,3]); plt.title('Кривые валидации по параметру C'); plt.xlabel('Параметр регуляризации C'); plt.ylabel('Качество классификации'); plt.grid()\n",
    "for i in [6,7,8,12,13,14]:\n",
    "    plt.plot(svm_params1['C'], svm_grid_searcher1.cv_results_[list(svm_grid_searcher1.cv_results_.keys())[i]],\n",
    "             label=list(svm_grid_searcher1.cv_results_.keys())[i]); plt.legend(loc='lower right')"
   ]
  },
  {
   "cell_type": "markdown",
   "metadata": {},
   "source": [
    "**Лучшее значение** доли правильных ответов на кросс-валидации и соответствующее значение `C`:"
   ]
  },
  {
   "cell_type": "code",
   "execution_count": 150,
   "metadata": {},
   "outputs": [
    {
     "name": "stdout",
     "output_type": "stream",
     "text": [
      "Лучшее значение доли правильных ответов на кросс-валидации = 0.692237350132087 \n",
      " соответствующий этому значению параметр C = 3333.3334000000004\n"
     ]
    }
   ],
   "source": [
    "print('Лучшее значение доли правильных ответов на кросс-валидации = {} \\n соответствующий этому значению параметр C = {}'.format(svm_grid_searcher1.best_score_, svm_grid_searcher1.best_params_['C']))"
   ]
  },
  {
   "cell_type": "markdown",
   "metadata": {},
   "source": [
    "**График зависимости** доли правильных ответов на кросс-валидации от `C`:"
   ]
  },
  {
   "cell_type": "code",
   "execution_count": 152,
   "metadata": {},
   "outputs": [
    {
     "data": {
      "image/png": "[encoded data removed]",
      "text/plain": [
       "<Figure size 360x216 with 1 Axes>"
      ]
     },
     "metadata": {
      "needs_background": "light"
     },
     "output_type": "display_data"
    }
   ],
   "source": [
    "plt.figure(figsize=[5,3]); plot_validation_curves(svm_params1['C'], svm_grid_searcher1.cv_results_); plt.title('Доля правильных ответов на кросс-валидации от C')\n",
    "plt.xlabel('Параметр регуляризации C'); plt.ylabel('Качество классификации'); plt.grid()"
   ]
  },
  {
   "cell_type": "markdown",
   "metadata": {},
   "source": [
    "**Необходимо учесть,** что с параметром регуляризации по умолчанию (С=1) на кросс-валидации доля правильных ответов выше. Это тот случай (не редкий), когда можно ошибиться и перебирать параметры не в том диапазоне (причина в том, что была взята равномерная сетка на большом интервале и упущен действительно хороший интервал значений `C`). Таким образом, намного осмысленней подбирать `C` в районе 1, к тому же, так модель быстрее обучается, чем при больших `C`."
   ]
  },
  {
   "cell_type": "markdown",
   "metadata": {},
   "source": [
    "**Учитывая отмеченное, далее** с помощью `GridSearchCV` подбирается параметр `C` для SVM в диапазоне (1e-3, 1), 30 значений и приводятся кривые валидации."
   ]
  },
  {
   "cell_type": "code",
   "execution_count": 153,
   "metadata": {},
   "outputs": [
    {
     "name": "stdout",
     "output_type": "stream",
     "text": [
      "Wall time: 37.1 s\n"
     ]
    },
    {
     "data": {
      "image/png": "[encoded data removed]",
      "text/plain": [
       "<Figure size 360x216 with 1 Axes>"
      ]
     },
     "metadata": {
      "needs_background": "light"
     },
     "output_type": "display_data"
    }
   ],
   "source": [
    "%%time\n",
    "svm_params2 = {'C': np.linspace(1e-3, 1, 30)}\n",
    "svm_grid_searcher2 = GridSearchCV(svm, param_grid=svm_params2, n_jobs=-1)\n",
    "svm_grid_searcher2.fit(X_train, y_train.astype(int))\n",
    "plt.figure(figsize=[5,3]); plt.title('Кривые валидации по параметру C'); plt.xlabel('Параметр регуляризации C'); plt.ylabel('Качество классификации'); plt.grid()\n",
    "for i in [6,7,8,12,13,14]:\n",
    "    plt.plot(svm_params2['C'], svm_grid_searcher2.cv_results_[list(svm_grid_searcher2.cv_results_.keys())[i]],\n",
    "             label=list(svm_grid_searcher2.cv_results_.keys())[i]); plt.legend(loc='lower right')"
   ]
  },
  {
   "cell_type": "markdown",
   "metadata": {},
   "source": [
    "**Лучшее значение** доли правильных ответов на кросс-валидации и соответствующее значение `C`:"
   ]
  },
  {
   "cell_type": "code",
   "execution_count": 154,
   "metadata": {},
   "outputs": [
    {
     "name": "stdout",
     "output_type": "stream",
     "text": [
      "Лучшее значение доли правильных ответов на кросс-валидации = 0.7661044503149766 \n",
      " соответствующий этому значению параметр C = 0.13879310344827586\n"
     ]
    }
   ],
   "source": [
    "print('Лучшее значение доли правильных ответов на кросс-валидации = {} \\n соответствующий этому значению параметр C = {}'.format(svm_grid_searcher2.best_score_, svm_grid_searcher2.best_params_['C']))"
   ]
  },
  {
   "cell_type": "markdown",
   "metadata": {},
   "source": [
    "**График зависимости** доли правильных ответов на кросс-валидации от `C`:"
   ]
  },
  {
   "cell_type": "code",
   "execution_count": 155,
   "metadata": {},
   "outputs": [
    {
     "data": {
      "image/png": "[encoded data removed]",
      "text/plain": [
       "<Figure size 360x216 with 1 Axes>"
      ]
     },
     "metadata": {
      "needs_background": "light"
     },
     "output_type": "display_data"
    }
   ],
   "source": [
    "plt.figure(figsize=[5,3]); plot_validation_curves(svm_params2['C'], svm_grid_searcher2.cv_results_); plt.title('Доля правильных ответов на кросс-валидации от C')\n",
    "plt.xlabel('Параметр регуляризации C'); plt.ylabel('Качество классификации'); plt.grid()"
   ]
  },
  {
   "cell_type": "markdown",
   "metadata": {},
   "source": [
    "**Доля правильных ответов** на выборке `(X_valid, y_valid)` для `LinearSVC` с лучшим найденным значением `C` (значение C=0.13879310344827586, поэтому далее будет обучена модель SVM с этим значением C) (доли правильных ответов для `LinearSVC` на кросс-валидации для лучшего значения параметра `C` и на отложенной выборке):"
   ]
  },
  {
   "cell_type": "code",
   "execution_count": 157,
   "metadata": {},
   "outputs": [
    {
     "name": "stdout",
     "output_type": "stream",
     "text": [
      "Качество классификации на отложенной выборке: 0.7817018250770325, на кросс-валидации: 0.7633649590115557\n"
     ]
    }
   ],
   "source": [
    "svm2 = LinearSVC(random_state=17, C=0.13879310344827586)\n",
    "svm2.fit(X_train, y_train.astype(int)) # обучение классификатора\n",
    "svm_prediction2 = svm2.predict(X_valid) # применение обученного классификатора для предсказания по отложенной выборке\n",
    "svm_valid_score2 = accuracy_score(y_valid.astype(int), svm_prediction2) #holdout_score - оценка качества на отложенной выборке\n",
    "svm_cv_score2 = cross_val_score(svm2, X_train, y_train.astype(int), scoring='accuracy', cv=skf).mean() # оценка на кроссвалидации)\n",
    "print('Качество классификации на отложенной выборке: {}, на кросс-валидации: {}'.format(svm_valid_score2, svm_cv_score2))"
   ]
  },
  {
   "cell_type": "markdown",
   "metadata": {},
   "source": [
    "### 4.2 Выбор параметров - длины сессии и ширины окна"
   ]
  },
  {
   "cell_type": "markdown",
   "metadata": {},
   "source": [
    "**Для проведения исследований** выбран `LinearSVC`, показавший лучшее качество на кросс-валидации в 1 части, после чего его работа проверена еще на 8 выборках для 10 пользователей (с разными сочетаниями параметров *session_length* и *window_size*). Поскольку требуется выполнить достаточно много вычислений, параметр регуляризации `C` не будет подбираться заново.<br>\n",
    "Для выполнения исследований ниже определена функция `model_assessment`."
   ]
  },
  {
   "cell_type": "code",
   "execution_count": 158,
   "metadata": {},
   "outputs": [],
   "source": [
    "def model_assessment(estimator, path_to_X_pickle, path_to_y_pickle, cv, random_state=17, test_size=0.3):\n",
    "    '''\n",
    "    Estimates CV-accuracy for (1 - test_size) share of (X_sparse, y) \n",
    "    loaded from path_to_X_pickle and path_to_y_pickle and holdout accuracy for (test_size) share of (X_sparse, y).\n",
    "    The split is made with stratified train_test_split with params random_state and test_size.\n",
    "    \n",
    "    :param estimator – Scikit-learn estimator (classifier or regressor)\n",
    "    :param path_to_X_pickle – path to pickled sparse X (instances and their features)\n",
    "    :param path_to_y_pickle – path to pickled y (responses)\n",
    "    :param cv – cross-validation as in cross_val_score (use StratifiedKFold here)\n",
    "    :param random_state –  for train_test_split\n",
    "    :param test_size –  for train_test_split\n",
    "    \n",
    "    :returns mean CV-accuracy for (X_train, y_train) and accuracy for (X_valid, y_valid) where (X_train, y_train)\n",
    "    and (X_valid, y_valid) are (1 - test_size) and (testsize) shares of (X_sparse, y).\n",
    "    '''\n",
    "    \n",
    "    ''' ВАШ КОД ЗДЕСЬ '''\n",
    "    t1 = time()\n",
    "    with open(path_to_X_pickle, 'rb') as X_pkl:\n",
    "        X_sparse = pickle.load(X_pkl)\n",
    "    with open(path_to_y_pickle, 'rb') as y_pkl:\n",
    "        y = pickle.load(y_pkl)\n",
    "    X_train, X_valid, y_train, y_valid = train_test_split(X_sparse, y, test_size=test_size, random_state=random_state, stratify=y)\n",
    "    svm = LinearSVC(random_state=random_state, C=0.13879310344827586) # C=1.0\n",
    "    svm.fit(X_train, y_train.astype(int)) # обучаем классификатор\n",
    "    svm_prediction = svm.predict(X_valid) # применение обученного классификатора для предсказания по отложенной выборке\n",
    "    svm_cv_score = cross_val_score(svm, X_train, y_train.astype(int), scoring='accuracy', cv=cv).mean() # оценка на кроссвалидации)\n",
    "    svm_cv_valid = accuracy_score(y_valid.astype(int), svm_prediction) # оценка качества на отложенной выборке\n",
    "    \n",
    "    return svm_cv_score, svm_cv_valid, time()-t1"
   ]
  },
  {
   "cell_type": "markdown",
   "metadata": {},
   "source": [
    "**Далее созданная функция** *model_assessment* применяется для лучшего алгоритма из предыдущей части (а именно, `svm_grid_searcher2.best_estimator_`) и 9 выборок вида с разными сочетаниями параметров *session_length* и *window_size* для 10 пользователей. В цикле выводятся параметры *session_length* и *window_size*, а также результат вывода функции *model_assessment*.<br>\n",
    "Функция *model_assessment* возвращает 3-им элементом время, за которое она выполнилась."
   ]
  },
  {
   "cell_type": "markdown",
   "metadata": {},
   "source": [
    "Здесь для удобства создаются копии ранее созданных pickle-файлов X_sparse_10users.pkl, X_sparse_150users.pkl, y_10users.pkl и y_150users.pkl, с добавлением к их названиям s10_w10, что означает длину сессии 10 и ширину окна 10:"
   ]
  },
  {
   "cell_type": "code",
   "execution_count": 160,
   "metadata": {},
   "outputs": [
    {
     "data": {
      "text/plain": [
       "['‘Є®ЇЁа®ў\\xa0\\xad® д\\xa0©«®ў:         1.']"
      ]
     },
     "execution_count": 160,
     "metadata": {},
     "output_type": "execute_result"
    }
   ],
   "source": [
    "%system copy /b X_sparse_10users.pkl X_sparse_10users_s10_w10.pkl\n",
    "%system copy /b X_sparse_150users.pkl X_sparse_150users_s10_w10.pkl\n",
    "%system copy /b y_10users.pkl y_10users_s10_w10.pkl\n",
    "%system copy /b y_150users.pkl y_150users_s10_w10.pkl;"
   ]
  },
  {
   "cell_type": "code",
   "execution_count": 161,
   "metadata": {},
   "outputs": [
    {
     "name": "stdout",
     "output_type": "stream",
     "text": [
      "s = 15; w = 10; mean CV-acc = 0.8217896546706148; acc = 0.8400094809196492; time = 4.813309669494629 sec\n",
      "s = 10; w = 10; mean CV-acc = 0.7633649590115557; acc = 0.7817018250770325; time = 1.8844757080078125 sec\n",
      "s = 15; w = 7; mean CV-acc = 0.8470874683536852; acc = 0.8544881367181019; time = 7.147656440734863 sec\n",
      "s = 10; w = 7; mean CV-acc = 0.7975853695418165; acc = 0.8075327692052431; time = 3.557764768600464 sec\n",
      "s = 7; w = 7; mean CV-acc = 0.7544123057721982; acc = 0.7629002820640451; time = 2.848569869995117 sec\n",
      "s = 15; w = 5; mean CV-acc = 0.8689670755674888; acc = 0.8764817449027975; time = 10.634111404418945 sec\n",
      "s = 10; w = 5; mean CV-acc = 0.8179570941042811; acc = 0.8253911806543386; time = 5.857521057128906 sec\n",
      "s = 7; w = 5; mean CV-acc = 0.7753290851849481; acc = 0.7871028923660502; time = 4.2808997631073 sec\n",
      "s = 5; w = 5; mean CV-acc = 0.7267058295650503; acc = 0.7367235656709341; time = 1.658670425415039 sec\n",
      "Wall time: 42.7 s\n"
     ]
    }
   ],
   "source": [
    "%%time\n",
    "estimator = svm_grid_searcher2.best_estimator_\n",
    "for window_size, session_length in itertools.product([10, 7, 5], [15, 10, 7, 5]):\n",
    "    if window_size <= session_length:\n",
    "        path_to_X_pkl = os.path.join(PATH_TO_DATA, 'X_sparse_10users_s' + str(session_length) + '_w' + str(window_size) + '.pkl')\n",
    "        path_to_y_pkl = os.path.join(PATH_TO_DATA, 'y_10users_s' + str(session_length) + '_w' + str(window_size) + '.pkl')\n",
    "        res = model_assessment(estimator, path_to_X_pkl, path_to_y_pkl, cv=skf, random_state=17, test_size=0.3)\n",
    "        print('s = {}; w = {}; mean CV-acc = {}; acc = {}; time = {} sec'.format(session_length,\n",
    "                                                                                 window_size, res[0], res[1], res[2]))"
   ]
  },
  {
   "cell_type": "markdown",
   "metadata": {},
   "source": [
    "**Доли правильных** ответов для `LinearSVC` с настроенным параметром `C` и выборки `X_sparse_10users_s15_w5` на кросс-валидации и на отложенной выборке:"
   ]
  },
  {
   "cell_type": "code",
   "execution_count": 162,
   "metadata": {},
   "outputs": [
    {
     "name": "stdout",
     "output_type": "stream",
     "text": [
      "Качество классификации на отложенной выборке: 0.8764817449027975, на кросс-валидации: 0.8689670755674888\n"
     ]
    }
   ],
   "source": [
    "res = model_assessment(svm_grid_searcher2.best_estimator_, os.path.join(PATH_TO_DATA, 'X_sparse_10users_s15_w5.pkl'),\n",
    "                       os.path.join(PATH_TO_DATA, 'y_10users_s15_w5.pkl'), skf, random_state=17, test_size=0.3)\n",
    "print('Качество классификации на отложенной выборке: {}, на кросс-валидации: {}'.format(res[1], res[0]))"
   ]
  },
  {
   "cell_type": "markdown",
   "metadata": {},
   "source": [
    "**Комментарий:** чем больше длина сессии, тем выше оценка качества (больше значение доли правильных ответов) и на кросс-валидации и на отложенной выборке, при этом ширина окна практически не влияет на оценку качества. Связано это, скорее всего с тем, что чем больше длина сессии - тем больше признаков, соответственно, модель получается сложнее, но и точнее вместе с тем. Ширина окна же влияет только на время обработки данных - чем меньше ширина окна, тем больше объектов в выборке, тем длительнее идет процесс обучения."
   ]
  },
  {
   "cell_type": "markdown",
   "metadata": {},
   "source": [
    "**Для сравнения** подсчитываются доли правильных ответов на кросс-валидации и оставленной выборке для сочетаний параметров (*session_length, window_size*): (5,5), (7,7) и (10,10) для выборки из 150 пользователей (<font color=crimson> длительность расчета может превысить 50 мин!</font>):"
   ]
  },
  {
   "cell_type": "code",
   "execution_count": 163,
   "metadata": {},
   "outputs": [
    {
     "name": "stdout",
     "output_type": "stream",
     "text": [
      "s = 5; w = 5; mean CV-acc = 0.409666167729474; acc = 0.42267727648805176; time = 364.97422194480896 sec\n",
      "s = 7; w = 7; mean CV-acc = 0.43686797191901516; acc = 0.45415062847021154; time = 307.36588048934937 sec\n",
      "s = 10; w = 10; mean CV-acc = 0.46131133117144474; acc = 0.48447915146207365; time = 297.78937554359436 sec\n",
      "Wall time: 16min 10s\n"
     ]
    }
   ],
   "source": [
    "%%time\n",
    "estimator = svm_grid_searcher2.best_estimator_\n",
    "for window_size, session_length in [(5,5), (7,7), (10,10)]:\n",
    "    path_to_X_pkl = os.path.join(PATH_TO_DATA, 'X_sparse_150users_s' + str(session_length) + '_w' + str(window_size) + '.pkl')\n",
    "    path_to_y_pkl = os.path.join(PATH_TO_DATA, 'y_150users_s' + str(session_length) + '_w' + str(window_size) + '.pkl')\n",
    "    res = model_assessment(estimator, path_to_X_pkl, path_to_y_pkl, cv=skf, random_state=17, test_size=0.3)\n",
    "    print('s = {}; w = {}; mean CV-acc = {}; acc = {}; time = {} sec'.format(session_length,\n",
    "                                                                                 window_size, res[0], res[1], res[2]))"
   ]
  },
  {
   "cell_type": "markdown",
   "metadata": {},
   "source": [
    "**Доли правильных** ответов для `LinearSVC` с настроенным параметром `C` и выборки `X_sparse_150users_s10_w10` на кросс-валидации и на отложенной выборке:"
   ]
  },
  {
   "cell_type": "code",
   "execution_count": 165,
   "metadata": {},
   "outputs": [
    {
     "name": "stdout",
     "output_type": "stream",
     "text": [
      "Качество классификации на отложенной выборке: 0.48447915146207365, на кросс-валидации: 0.46131133117144474\n"
     ]
    }
   ],
   "source": [
    "res = model_assessment(svm_grid_searcher2.best_estimator_, os.path.join(PATH_TO_DATA, 'X_sparse_150users_s10_w10.pkl'),\n",
    "                       os.path.join(PATH_TO_DATA, 'y_150users_s10_w10.pkl'), skf, random_state=17, test_size=0.3)\n",
    "print('Качество классификации на отложенной выборке: {}, на кросс-валидации: {}'.format(res[1], res[0]))"
   ]
  },
  {
   "cell_type": "markdown",
   "metadata": {},
   "source": [
    "### 4.3 Идентификация конкретного пользователя и кривые обучения"
   ]
  },
  {
   "cell_type": "markdown",
   "metadata": {},
   "source": [
    "**Проведенные выше исследования** показывают, что многоклассовая доля правильных ответов на выборке из 150 пользовалей невелика. Можно ли идентифицировать конкретного пользователя достаточно хорошо?"
   ]
  },
  {
   "cell_type": "markdown",
   "metadata": {},
   "source": [
    "**Далее осуществляется загрузка** сериализованных ранее объектов *X_sparse_150users* и *y_150users*, соответствующих обучающей выборке для 150 пользователей с параметрами (*session_length, window_size*) = (10,10). Загруженные выборки точно так же разделяются на 70% и 30%."
   ]
  },
  {
   "cell_type": "code",
   "execution_count": 167,
   "metadata": {},
   "outputs": [],
   "source": [
    "with open(os.path.join(PATH_TO_DATA, 'X_sparse_150users.pkl'), 'rb') as X_sparse_150users_pkl:\n",
    "     X_sparse_150users = pickle.load(X_sparse_150users_pkl)\n",
    "with open(os.path.join(PATH_TO_DATA, 'y_150users.pkl'), 'rb') as y_150users_pkl:\n",
    "    y_150users = pickle.load(y_150users_pkl)\n",
    "X_train_150, X_valid_150, y_train_150, y_valid_150 = train_test_split(X_sparse_150users, y_150users, test_size=0.3, \n",
    "                                                     random_state=17, stratify=y_150users)"
   ]
  },
  {
   "cell_type": "markdown",
   "metadata": {},
   "source": [
    "**Обучение `LogisticRegressionCV`** для одного значения параметра `C` (лучшего на кросс-валидации, полученного ранее - так должно было быть, но оказалось, что необходимо было взять конкретное значение, оно указано в функции ниже). Далее решаются 150 задач \"Один-против-Всех\", поэтому аргумент `multi_class`='ovr':"
   ]
  },
  {
   "cell_type": "code",
   "execution_count": 168,
   "metadata": {},
   "outputs": [
    {
     "name": "stdout",
     "output_type": "stream",
     "text": [
      "Wall time: 6min 32s\n"
     ]
    }
   ],
   "source": [
    "%%time\n",
    "# взял С как на форуме описано, см. форум для Week4\n",
    "logit_cv_150users = LogisticRegressionCV(Cs=[logit_grid_searcher2.Cs_[10]], cv=skf, multi_class='ovr', random_state=17, n_jobs=-1)\n",
    "logit_cv_150users.fit(X_train_150, y_train_150.astype(int))"
   ]
  },
  {
   "cell_type": "markdown",
   "metadata": {},
   "source": [
    "**Средние доли правильных** ответов на кросс-валидации в задаче идентификации каждого пользователя по отдельности:"
   ]
  },
  {
   "cell_type": "code",
   "execution_count": 169,
   "metadata": {},
   "outputs": [
    {
     "name": "stdout",
     "output_type": "stream",
     "text": [
      "User 6, CV score: 0.9960795612888451\n",
      "User 13, CV score: 0.996392603416394\n",
      "User 15, CV score: 0.99526648227745\n",
      "User 16, CV score: 0.9919507613560473\n",
      "User 28, CV score: 0.9901787659762019\n",
      "User 31, CV score: 0.9942968989054074\n",
      "User 33, CV score: 0.9936505040113687\n",
      "User 39, CV score: 0.9858620830655959\n",
      "User 46, CV score: 0.997987857444965\n",
      "User 49, CV score: 0.9952773284622092\n",
      "User 50, CV score: 0.9944638280683459\n",
      "User 53, CV score: 0.9935982902101794\n",
      "User 65, CV score: 0.9968513700582928\n",
      "User 66, CV score: 0.994765980924795\n",
      "User 82, CV score: 0.9964030122764157\n",
      "User 85, CV score: 0.9962987207688639\n",
      "User 89, CV score: 0.9905225842610896\n",
      "User 92, CV score: 0.9942033320079174\n",
      "User 100, CV score: 0.9945575257465724\n",
      "User 102, CV score: 0.9913986089935877\n",
      "User 103, CV score: 0.9805449611891582\n",
      "User 105, CV score: 0.996934881144005\n",
      "User 106, CV score: 0.9946719103641056\n",
      "User 118, CV score: 0.990929076551474\n",
      "User 119, CV score: 0.9966116229096368\n",
      "User 120, CV score: 0.9943177074194115\n",
      "User 126, CV score: 0.9951209040120593\n",
      "User 127, CV score: 0.9916482666531555\n",
      "User 128, CV score: 0.9848404849077502\n",
      "User 138, CV score: 0.997007720386082\n",
      "User 158, CV score: 0.9969974146886792\n",
      "User 160, CV score: 0.9968720705696349\n",
      "User 165, CV score: 0.9973412654317274\n",
      "User 172, CV score: 0.9966844989758709\n",
      "User 177, CV score: 0.9969241710540722\n",
      "User 203, CV score: 0.9976019765493861\n",
      "User 207, CV score: 0.9875827746957441\n",
      "User 223, CV score: 0.996403036002584\n",
      "User 233, CV score: 0.996371635081395\n",
      "User 235, CV score: 0.9965490235005476\n",
      "User 236, CV score: 0.990189063415659\n",
      "User 237, CV score: 0.989250607353012\n",
      "User 238, CV score: 0.9961110886247745\n",
      "User 240, CV score: 0.9957045217379825\n",
      "User 241, CV score: 0.9958295307468145\n",
      "User 242, CV score: 0.9951932676831011\n",
      "User 245, CV score: 0.996090138701854\n",
      "User 246, CV score: 0.9969555913354332\n",
      "User 249, CV score: 0.9951206361884025\n",
      "User 252, CV score: 0.9964133034536893\n",
      "User 254, CV score: 0.9918676769668929\n",
      "User 256, CV score: 0.9959444146615509\n",
      "User 258, CV score: 0.9958608139852553\n",
      "User 259, CV score: 0.9947767287869783\n",
      "User 260, CV score: 0.9974561963247538\n",
      "User 261, CV score: 0.9899078058195165\n",
      "User 263, CV score: 0.99261810038487\n",
      "User 264, CV score: 0.9964446762827136\n",
      "User 269, CV score: 0.986852743249346\n",
      "User 270, CV score: 0.9893653300246132\n",
      "User 273, CV score: 0.9943281259595192\n",
      "User 287, CV score: 0.9901470928653602\n",
      "User 294, CV score: 0.995714849739413\n",
      "User 298, CV score: 0.9911688372721651\n",
      "User 301, CV score: 0.9971222880767314\n",
      "User 308, CV score: 0.9956836560915557\n",
      "User 315, CV score: 0.9974871589731115\n",
      "User 318, CV score: 0.9958189853179195\n",
      "User 327, CV score: 0.996423886654835\n",
      "User 332, CV score: 0.9966636245974515\n",
      "User 333, CV score: 0.9962572223716974\n",
      "User 339, CV score: 0.99707001856526\n",
      "User 340, CV score: 0.9965698416946377\n",
      "User 342, CV score: 0.9920865037069335\n",
      "User 344, CV score: 0.9966427792592905\n",
      "User 351, CV score: 0.992221998068382\n",
      "User 356, CV score: 0.9977166207326303\n",
      "User 361, CV score: 0.9963402438402923\n",
      "User 363, CV score: 0.9964031628913711\n",
      "User 411, CV score: 0.9912421608172695\n",
      "User 417, CV score: 0.9967366706388129\n",
      "User 425, CV score: 0.9941614287441741\n",
      "User 430, CV score: 0.9962984292190389\n",
      "User 435, CV score: 0.9968930577907592\n",
      "User 436, CV score: 0.9951517964300057\n",
      "User 440, CV score: 0.9969035751274896\n",
      "User 444, CV score: 0.9979148268718262\n",
      "User 475, CV score: 0.9890841024168227\n",
      "User 476, CV score: 0.9969660616938737\n",
      "User 486, CV score: 0.9953812194691802\n",
      "User 515, CV score: 0.9940258302720132\n",
      "User 533, CV score: 0.9937860308309777\n",
      "User 561, CV score: 0.9842876273968962\n",
      "User 563, CV score: 0.9967261392560003\n",
      "User 564, CV score: 0.9956629090759707\n",
      "User 568, CV score: 0.9916176580011355\n",
      "User 569, CV score: 0.9894490769498683\n",
      "User 570, CV score: 0.9983424565242434\n",
      "User 573, CV score: 0.9904912303181904\n",
      "User 575, CV score: 0.9905228709708714\n",
      "User 576, CV score: 0.9940570674802579\n",
      "User 580, CV score: 0.9866127316949361\n",
      "User 583, CV score: 0.9808677287587405\n",
      "User 584, CV score: 0.9811388521543233\n",
      "User 600, CV score: 0.9916278029294499\n",
      "User 603, CV score: 0.9956314427644134\n",
      "User 605, CV score: 0.9975810561407705\n",
      "User 640, CV score: 0.9972265326059934\n",
      "User 647, CV score: 0.9977894691807464\n",
      "User 653, CV score: 0.997320381847269\n",
      "User 664, CV score: 0.9951414955726459\n",
      "User 665, CV score: 0.9969765267382246\n",
      "User 677, CV score: 0.996642571985959\n",
      "User 692, CV score: 0.9970284252634203\n",
      "User 697, CV score: 0.99579793754647\n",
      "User 705, CV score: 0.9965803541913251\n",
      "User 722, CV score: 0.9947452101830416\n",
      "User 740, CV score: 0.9967262520987052\n",
      "User 741, CV score: 0.9967781598299403\n",
      "User 756, CV score: 0.9957354979583753\n",
      "User 780, CV score: 0.9964656208915441\n",
      "User 784, CV score: 0.9965281583281677\n",
      "User 785, CV score: 0.9968617842324043\n",
      "User 797, CV score: 0.9956525244161641\n",
      "User 812, CV score: 0.9947141390579753\n",
      "User 844, CV score: 0.9969451824754115\n",
      "User 859, CV score: 0.9983526774711057\n",
      "User 868, CV score: 0.99645529194202\n",
      "User 875, CV score: 0.9959132350597759\n",
      "User 932, CV score: 0.990637350493078\n",
      "User 996, CV score: 0.9933062391957042\n",
      "User 1014, CV score: 0.9972994135122701\n",
      "User 1040, CV score: 0.9969970427543098\n",
      "User 1054, CV score: 0.996569841220591\n",
      "User 1248, CV score: 0.9977585753406597\n",
      "User 1267, CV score: 0.9973933194119219\n",
      "User 1299, CV score: 0.9969138943969277\n",
      "User 1371, CV score: 0.9934103989744255\n",
      "User 1797, CV score: 0.9950372151673207\n",
      "User 1798, CV score: 0.9965077081764974\n",
      "User 1993, CV score: 0.9968202102907365\n",
      "User 2118, CV score: 0.9977794071067853\n",
      "User 2174, CV score: 0.9958190003120954\n",
      "User 2191, CV score: 0.995276872725393\n",
      "User 2250, CV score: 0.9973205227821386\n",
      "User 2355, CV score: 0.9957875839226838\n",
      "User 2408, CV score: 0.9935466798169061\n",
      "User 2493, CV score: 0.9967157260299825\n",
      "User 2625, CV score: 0.996059044798713\n",
      "User 2902, CV score: 0.9970494216905835\n"
     ]
    }
   ],
   "source": [
    "cv_scores_by_user = {}\n",
    "for user_id in logit_cv_150users.scores_:\n",
    "    print('User {}, CV score: {}'.format(user_id, logit_cv_150users.scores_[user_id].mean()))"
   ]
  },
  {
   "cell_type": "markdown",
   "metadata": {},
   "source": [
    "**Полученные результаты** кажутся впечатляющими, но возможно, виноват дисбаланс классов, и высокую долю правильных ответов можно получить константным прогнозом. Далее для каждого пользователя посчитана разница между долей правильных ответов на кросс-валидации (только что посчитанной с помощью `LogisticRegressionCV`) и долей меток в *y_train_150*, отличных от ID этого пользователя (именно такую долю правильных ответов можно получить, если классификатор всегда \"говорит\", что это не пользователь с номером $i$ в задаче классификации $i$-vs-All), и рассчитана доля пользователей, для которых логистическая регрессия на кросс-валидации дает прогноз лучше константного:"
   ]
  },
  {
   "cell_type": "code",
   "execution_count": 171,
   "metadata": {},
   "outputs": [
    {
     "data": {
      "text/plain": [
       "0.82"
      ]
     },
     "execution_count": 171,
     "metadata": {},
     "output_type": "execute_result"
    }
   ],
   "source": [
    "class_distr = np.bincount(y_train_150.astype('int'))\n",
    "acc_diff_vs_constant = {}\n",
    "for user_id in np.unique(y_train_150):\n",
    "    acc_diff_vs_constant[user_id] = logit_cv_150users.scores_[user_id].mean() - \\\n",
    "    (class_distr.sum() - class_distr[user_id])/class_distr.sum()\n",
    "num_better_than_default = (np.array(list(acc_diff_vs_constant.values())) > 0).sum()\n",
    "part = num_better_than_default/len(acc_diff_vs_constant)\n",
    "part"
   ]
  },
  {
   "cell_type": "markdown",
   "metadata": {},
   "source": [
    "**Дальше будут построены** кривые обучения для конкретного пользователя, допустим, для 128-го. Для этого составляется новый бинарный вектор на основе *y_150users*, его значения будут 1 или 0 в зависимости от того, равен ли ID-шник пользователя 128 (получилось, только когда делал на основе y_train_150, на основе исходного - y_150users - далее ругается функция learning_curve):"
   ]
  },
  {
   "cell_type": "code",
   "execution_count": 173,
   "metadata": {},
   "outputs": [],
   "source": [
    "y_binary_128 = (y_train_150 == 128).astype(int)"
   ]
  },
  {
   "cell_type": "code",
   "execution_count": 174,
   "metadata": {},
   "outputs": [],
   "source": [
    "def plot_learning_curve(val_train, val_test, train_sizes, \n",
    "                        xlabel='Training Set Size', ylabel='score'):\n",
    "    def plot_with_err(x, data, **kwargs):\n",
    "        mu, std = data.mean(1), data.std(1)\n",
    "        lines = plt.plot(x, mu, '-', **kwargs)\n",
    "        plt.fill_between(x, mu - std, mu + std, edgecolor='none',\n",
    "                         facecolor=lines[0].get_color(), alpha=0.2)\n",
    "    plot_with_err(train_sizes, val_train, label='train')\n",
    "    plot_with_err(train_sizes, val_test, label='valid')\n",
    "    plt.xlabel(xlabel); plt.ylabel(ylabel)\n",
    "    plt.legend(loc='lower right');"
   ]
  },
  {
   "cell_type": "markdown",
   "metadata": {},
   "source": [
    "**Доли правильных** ответов на кросс-валидации в задаче классификации \"user128-vs-All\" в зависимости от размера выборки:"
   ]
  },
  {
   "cell_type": "code",
   "execution_count": 175,
   "metadata": {},
   "outputs": [
    {
     "name": "stdout",
     "output_type": "stream",
     "text": [
      "Wall time: 10.3 s\n"
     ]
    },
    {
     "data": {
      "image/png": "[encoded data removed]",
      "text/plain": [
       "<Figure size 360x216 with 1 Axes>"
      ]
     },
     "metadata": {
      "needs_background": "light"
     },
     "output_type": "display_data"
    }
   ],
   "source": [
    "%%time\n",
    "train_sizes = np.linspace(0.25, 1, 20)\n",
    "estimator = svm_grid_searcher2.best_estimator_\n",
    "n_train, val_train, val_test = learning_curve(estimator=estimator, X=X_train_150, y=y_binary_128.astype(int),\n",
    "                                              train_sizes=train_sizes, n_jobs=-1, random_state=17, cv=skf)\n",
    "plt.figure(figsize=[5,3]);\n",
    "plot_learning_curve(val_train, val_test, n_train, xlabel='train_size', ylabel='accuracy'); plt.grid()"
   ]
  },
  {
   "cell_type": "markdown",
   "metadata": {},
   "source": [
    "**Качество классификации** пользователя 128 при варьировании размера выборки для кросс-валидации различается для тренировочной и тестовой выборки. По тестовой кривой обучения видно, что наилучшее качество классификации достигается, когда размер выборки для кросс-валидации больше 50000/70000=0.714... от размера X_train_150... Однако такое представление данных (только для пользователя 128) не увеличило сколько-нибудь заметно долю правильных ответов: User 128, CV score: 0.9848404849077502 - получили при кросс-валидации ранее, val_test.max()=0.9849551155734885 - при классификации \"user128-vs-All\", разница практической значимости не имеет. Вывод - новые размеченные данные при той же постановке задачи алгоритму не помогут."
   ]
  },
  {
   "cell_type": "markdown",
   "metadata": {},
   "source": [
    "**Таким образом,** для решения задачи классификации было проверено несколько различных моделей (метод kNN, RandomForest, LogisticRegression и SVM), для логистической регрессии и SVM были найдены оптимальные (квазиоптимальные) значения параметра регуляризации `C`, были посчитаны доли правильных ответов (оценка качества классификации) на кросс-валидации и на отложенной выборке, построены кривые валидации и обучения, проверено влияние длины сессии и ширины окна на качество классификации и сделаны первые попытки идентификации пользователей."
   ]
  },
  {
   "cell_type": "markdown",
   "metadata": {},
   "source": [
    "## 5. Соревнование Kaggle \"Catch Me If You Can\""
   ]
  },
  {
   "cell_type": "markdown",
   "metadata": {},
   "source": [
    "**В данном разделе** будет осуществлено обучение модели с помощью стохастического градиентного спуска (классификатор `Scikit-learn SGDClassifier`, который работает намного быстрее на больших выборках, чем алгоритмы, которые были протестированы ранее). Исследованные алгоритмы классификации будут опробованы (в какой-то части) на данных [соревнования](https://inclass.kaggle.com/c/catch-me-if-you-can-intruder-detection-through-webpage-session-tracking2) Kaggle по идентификации пользователей."
   ]
  },
  {
   "cell_type": "markdown",
   "metadata": {},
   "source": [
    "**Считывание данных** [соревнования](https://inclass.kaggle.com/c/catch-me-if-you-can-intruder-detection-through-webpage-session-tracking2) в DataFrame train_df и test_df (обучающая и тестовая выборки):"
   ]
  },
  {
   "cell_type": "code",
   "execution_count": 177,
   "metadata": {},
   "outputs": [],
   "source": [
    "train_df = pd.read_csv(os.path.join(PATH_TO_DATA, 'train_sessions.csv'), index_col='session_id')\n",
    "test_df = pd.read_csv(os.path.join(PATH_TO_DATA, 'test_sessions.csv'), index_col='session_id')"
   ]
  },
  {
   "cell_type": "code",
   "execution_count": 178,
   "metadata": {},
   "outputs": [
    {
     "data": {
      "text/html": [
       "<div>\n",
       "<style scoped>\n",
       "    .dataframe tbody tr th:only-of-type {\n",
       "        vertical-align: middle;\n",
       "    }\n",
       "\n",
       "    .dataframe tbody tr th {\n",
       "        vertical-align: top;\n",
       "    }\n",
       "\n",
       "    .dataframe thead th {\n",
       "        text-align: right;\n",
       "    }\n",
       "</style>\n",
       "<table border=\"1\" class=\"dataframe\">\n",
       "  <thead>\n",
       "    <tr style=\"text-align: right;\">\n",
       "      <th></th>\n",
       "      <th>site1</th>\n",
       "      <th>time1</th>\n",
       "      <th>site2</th>\n",
       "      <th>time2</th>\n",
       "      <th>site3</th>\n",
       "      <th>time3</th>\n",
       "      <th>site4</th>\n",
       "      <th>time4</th>\n",
       "      <th>site5</th>\n",
       "      <th>time5</th>\n",
       "      <th>site6</th>\n",
       "      <th>time6</th>\n",
       "      <th>site7</th>\n",
       "      <th>time7</th>\n",
       "      <th>site8</th>\n",
       "      <th>time8</th>\n",
       "      <th>site9</th>\n",
       "      <th>time9</th>\n",
       "      <th>site10</th>\n",
       "      <th>time10</th>\n",
       "      <th>target</th>\n",
       "    </tr>\n",
       "    <tr>\n",
       "      <th>session_id</th>\n",
       "      <th></th>\n",
       "      <th></th>\n",
       "      <th></th>\n",
       "      <th></th>\n",
       "      <th></th>\n",
       "      <th></th>\n",
       "      <th></th>\n",
       "      <th></th>\n",
       "      <th></th>\n",
       "      <th></th>\n",
       "      <th></th>\n",
       "      <th></th>\n",
       "      <th></th>\n",
       "      <th></th>\n",
       "      <th></th>\n",
       "      <th></th>\n",
       "      <th></th>\n",
       "      <th></th>\n",
       "      <th></th>\n",
       "      <th></th>\n",
       "      <th></th>\n",
       "    </tr>\n",
       "  </thead>\n",
       "  <tbody>\n",
       "    <tr>\n",
       "      <th>1</th>\n",
       "      <td>718</td>\n",
       "      <td>2014-02-20 10:02:45</td>\n",
       "      <td>NaN</td>\n",
       "      <td>NaN</td>\n",
       "      <td>NaN</td>\n",
       "      <td>NaN</td>\n",
       "      <td>NaN</td>\n",
       "      <td>NaN</td>\n",
       "      <td>NaN</td>\n",
       "      <td>NaN</td>\n",
       "      <td>NaN</td>\n",
       "      <td>NaN</td>\n",
       "      <td>NaN</td>\n",
       "      <td>NaN</td>\n",
       "      <td>NaN</td>\n",
       "      <td>NaN</td>\n",
       "      <td>NaN</td>\n",
       "      <td>NaN</td>\n",
       "      <td>NaN</td>\n",
       "      <td>NaN</td>\n",
       "      <td>0</td>\n",
       "    </tr>\n",
       "    <tr>\n",
       "      <th>2</th>\n",
       "      <td>890</td>\n",
       "      <td>2014-02-22 11:19:50</td>\n",
       "      <td>941.0</td>\n",
       "      <td>2014-02-22 11:19:50</td>\n",
       "      <td>3847.0</td>\n",
       "      <td>2014-02-22 11:19:51</td>\n",
       "      <td>941.0</td>\n",
       "      <td>2014-02-22 11:19:51</td>\n",
       "      <td>942.0</td>\n",
       "      <td>2014-02-22 11:19:51</td>\n",
       "      <td>3846.0</td>\n",
       "      <td>2014-02-22 11:19:51</td>\n",
       "      <td>3847.0</td>\n",
       "      <td>2014-02-22 11:19:52</td>\n",
       "      <td>3846.0</td>\n",
       "      <td>2014-02-22 11:19:52</td>\n",
       "      <td>1516.0</td>\n",
       "      <td>2014-02-22 11:20:15</td>\n",
       "      <td>1518.0</td>\n",
       "      <td>2014-02-22 11:20:16</td>\n",
       "      <td>0</td>\n",
       "    </tr>\n",
       "    <tr>\n",
       "      <th>3</th>\n",
       "      <td>14769</td>\n",
       "      <td>2013-12-16 16:40:17</td>\n",
       "      <td>39.0</td>\n",
       "      <td>2013-12-16 16:40:18</td>\n",
       "      <td>14768.0</td>\n",
       "      <td>2013-12-16 16:40:19</td>\n",
       "      <td>14769.0</td>\n",
       "      <td>2013-12-16 16:40:19</td>\n",
       "      <td>37.0</td>\n",
       "      <td>2013-12-16 16:40:19</td>\n",
       "      <td>39.0</td>\n",
       "      <td>2013-12-16 16:40:19</td>\n",
       "      <td>14768.0</td>\n",
       "      <td>2013-12-16 16:40:20</td>\n",
       "      <td>14768.0</td>\n",
       "      <td>2013-12-16 16:40:21</td>\n",
       "      <td>14768.0</td>\n",
       "      <td>2013-12-16 16:40:22</td>\n",
       "      <td>14768.0</td>\n",
       "      <td>2013-12-16 16:40:24</td>\n",
       "      <td>0</td>\n",
       "    </tr>\n",
       "  </tbody>\n",
       "</table>\n",
       "</div>"
      ],
      "text/plain": [
       "            site1                time1  site2                time2    site3  \\\n",
       "session_id                                                                    \n",
       "1             718  2014-02-20 10:02:45    NaN                  NaN      NaN   \n",
       "2             890  2014-02-22 11:19:50  941.0  2014-02-22 11:19:50   3847.0   \n",
       "3           14769  2013-12-16 16:40:17   39.0  2013-12-16 16:40:18  14768.0   \n",
       "\n",
       "                          time3    site4                time4  site5  \\\n",
       "session_id                                                             \n",
       "1                           NaN      NaN                  NaN    NaN   \n",
       "2           2014-02-22 11:19:51    941.0  2014-02-22 11:19:51  942.0   \n",
       "3           2013-12-16 16:40:19  14769.0  2013-12-16 16:40:19   37.0   \n",
       "\n",
       "                          time5   site6                time6    site7  \\\n",
       "session_id                                                              \n",
       "1                           NaN     NaN                  NaN      NaN   \n",
       "2           2014-02-22 11:19:51  3846.0  2014-02-22 11:19:51   3847.0   \n",
       "3           2013-12-16 16:40:19    39.0  2013-12-16 16:40:19  14768.0   \n",
       "\n",
       "                          time7    site8                time8    site9  \\\n",
       "session_id                                                               \n",
       "1                           NaN      NaN                  NaN      NaN   \n",
       "2           2014-02-22 11:19:52   3846.0  2014-02-22 11:19:52   1516.0   \n",
       "3           2013-12-16 16:40:20  14768.0  2013-12-16 16:40:21  14768.0   \n",
       "\n",
       "                          time9   site10               time10  target  \n",
       "session_id                                                             \n",
       "1                           NaN      NaN                  NaN       0  \n",
       "2           2014-02-22 11:20:15   1518.0  2014-02-22 11:20:16       0  \n",
       "3           2013-12-16 16:40:22  14768.0  2013-12-16 16:40:24       0  "
      ]
     },
     "execution_count": 178,
     "metadata": {},
     "output_type": "execute_result"
    }
   ],
   "source": [
    "train_df.head(3)"
   ]
  },
  {
   "cell_type": "code",
   "execution_count": 179,
   "metadata": {},
   "outputs": [
    {
     "data": {
      "text/html": [
       "<div>\n",
       "<style scoped>\n",
       "    .dataframe tbody tr th:only-of-type {\n",
       "        vertical-align: middle;\n",
       "    }\n",
       "\n",
       "    .dataframe tbody tr th {\n",
       "        vertical-align: top;\n",
       "    }\n",
       "\n",
       "    .dataframe thead th {\n",
       "        text-align: right;\n",
       "    }\n",
       "</style>\n",
       "<table border=\"1\" class=\"dataframe\">\n",
       "  <thead>\n",
       "    <tr style=\"text-align: right;\">\n",
       "      <th></th>\n",
       "      <th>site1</th>\n",
       "      <th>time1</th>\n",
       "      <th>site2</th>\n",
       "      <th>time2</th>\n",
       "      <th>site3</th>\n",
       "      <th>time3</th>\n",
       "      <th>site4</th>\n",
       "      <th>time4</th>\n",
       "      <th>site5</th>\n",
       "      <th>time5</th>\n",
       "      <th>site6</th>\n",
       "      <th>time6</th>\n",
       "      <th>site7</th>\n",
       "      <th>time7</th>\n",
       "      <th>site8</th>\n",
       "      <th>time8</th>\n",
       "      <th>site9</th>\n",
       "      <th>time9</th>\n",
       "      <th>site10</th>\n",
       "      <th>time10</th>\n",
       "    </tr>\n",
       "    <tr>\n",
       "      <th>session_id</th>\n",
       "      <th></th>\n",
       "      <th></th>\n",
       "      <th></th>\n",
       "      <th></th>\n",
       "      <th></th>\n",
       "      <th></th>\n",
       "      <th></th>\n",
       "      <th></th>\n",
       "      <th></th>\n",
       "      <th></th>\n",
       "      <th></th>\n",
       "      <th></th>\n",
       "      <th></th>\n",
       "      <th></th>\n",
       "      <th></th>\n",
       "      <th></th>\n",
       "      <th></th>\n",
       "      <th></th>\n",
       "      <th></th>\n",
       "      <th></th>\n",
       "    </tr>\n",
       "  </thead>\n",
       "  <tbody>\n",
       "    <tr>\n",
       "      <th>1</th>\n",
       "      <td>29</td>\n",
       "      <td>2014-10-04 11:19:53</td>\n",
       "      <td>35.0</td>\n",
       "      <td>2014-10-04 11:19:53</td>\n",
       "      <td>22.0</td>\n",
       "      <td>2014-10-04 11:19:54</td>\n",
       "      <td>321.0</td>\n",
       "      <td>2014-10-04 11:19:54</td>\n",
       "      <td>23.0</td>\n",
       "      <td>2014-10-04 11:19:54</td>\n",
       "      <td>2211.0</td>\n",
       "      <td>2014-10-04 11:19:54</td>\n",
       "      <td>6730.0</td>\n",
       "      <td>2014-10-04 11:19:54</td>\n",
       "      <td>21.0</td>\n",
       "      <td>2014-10-04 11:19:54</td>\n",
       "      <td>44582.0</td>\n",
       "      <td>2014-10-04 11:20:00</td>\n",
       "      <td>15336.0</td>\n",
       "      <td>2014-10-04 11:20:00</td>\n",
       "    </tr>\n",
       "    <tr>\n",
       "      <th>2</th>\n",
       "      <td>782</td>\n",
       "      <td>2014-07-03 11:00:28</td>\n",
       "      <td>782.0</td>\n",
       "      <td>2014-07-03 11:00:53</td>\n",
       "      <td>782.0</td>\n",
       "      <td>2014-07-03 11:00:58</td>\n",
       "      <td>782.0</td>\n",
       "      <td>2014-07-03 11:01:06</td>\n",
       "      <td>782.0</td>\n",
       "      <td>2014-07-03 11:01:09</td>\n",
       "      <td>782.0</td>\n",
       "      <td>2014-07-03 11:01:10</td>\n",
       "      <td>782.0</td>\n",
       "      <td>2014-07-03 11:01:23</td>\n",
       "      <td>782.0</td>\n",
       "      <td>2014-07-03 11:01:29</td>\n",
       "      <td>782.0</td>\n",
       "      <td>2014-07-03 11:01:30</td>\n",
       "      <td>782.0</td>\n",
       "      <td>2014-07-03 11:01:53</td>\n",
       "    </tr>\n",
       "    <tr>\n",
       "      <th>3</th>\n",
       "      <td>55</td>\n",
       "      <td>2014-12-05 15:55:12</td>\n",
       "      <td>55.0</td>\n",
       "      <td>2014-12-05 15:55:13</td>\n",
       "      <td>55.0</td>\n",
       "      <td>2014-12-05 15:55:14</td>\n",
       "      <td>55.0</td>\n",
       "      <td>2014-12-05 15:56:15</td>\n",
       "      <td>55.0</td>\n",
       "      <td>2014-12-05 15:56:16</td>\n",
       "      <td>55.0</td>\n",
       "      <td>2014-12-05 15:56:17</td>\n",
       "      <td>55.0</td>\n",
       "      <td>2014-12-05 15:56:18</td>\n",
       "      <td>55.0</td>\n",
       "      <td>2014-12-05 15:56:19</td>\n",
       "      <td>1445.0</td>\n",
       "      <td>2014-12-05 15:56:33</td>\n",
       "      <td>1445.0</td>\n",
       "      <td>2014-12-05 15:56:36</td>\n",
       "    </tr>\n",
       "  </tbody>\n",
       "</table>\n",
       "</div>"
      ],
      "text/plain": [
       "            site1                time1  site2                time2  site3  \\\n",
       "session_id                                                                  \n",
       "1              29  2014-10-04 11:19:53   35.0  2014-10-04 11:19:53   22.0   \n",
       "2             782  2014-07-03 11:00:28  782.0  2014-07-03 11:00:53  782.0   \n",
       "3              55  2014-12-05 15:55:12   55.0  2014-12-05 15:55:13   55.0   \n",
       "\n",
       "                          time3  site4                time4  site5  \\\n",
       "session_id                                                           \n",
       "1           2014-10-04 11:19:54  321.0  2014-10-04 11:19:54   23.0   \n",
       "2           2014-07-03 11:00:58  782.0  2014-07-03 11:01:06  782.0   \n",
       "3           2014-12-05 15:55:14   55.0  2014-12-05 15:56:15   55.0   \n",
       "\n",
       "                          time5   site6                time6   site7  \\\n",
       "session_id                                                             \n",
       "1           2014-10-04 11:19:54  2211.0  2014-10-04 11:19:54  6730.0   \n",
       "2           2014-07-03 11:01:09   782.0  2014-07-03 11:01:10   782.0   \n",
       "3           2014-12-05 15:56:16    55.0  2014-12-05 15:56:17    55.0   \n",
       "\n",
       "                          time7  site8                time8    site9  \\\n",
       "session_id                                                             \n",
       "1           2014-10-04 11:19:54   21.0  2014-10-04 11:19:54  44582.0   \n",
       "2           2014-07-03 11:01:23  782.0  2014-07-03 11:01:29    782.0   \n",
       "3           2014-12-05 15:56:18   55.0  2014-12-05 15:56:19   1445.0   \n",
       "\n",
       "                          time9   site10               time10  \n",
       "session_id                                                     \n",
       "1           2014-10-04 11:20:00  15336.0  2014-10-04 11:20:00  \n",
       "2           2014-07-03 11:01:30    782.0  2014-07-03 11:01:53  \n",
       "3           2014-12-05 15:56:33   1445.0  2014-12-05 15:56:36  "
      ]
     },
     "execution_count": 179,
     "metadata": {},
     "output_type": "execute_result"
    }
   ],
   "source": [
    "test_df.head(3)"
   ]
  },
  {
   "cell_type": "markdown",
   "metadata": {},
   "source": [
    "**Объединение обучающей** и тестовой выборок – это понадобится, чтоб вместе потом привести их к разреженному формату:"
   ]
  },
  {
   "cell_type": "code",
   "execution_count": 180,
   "metadata": {},
   "outputs": [],
   "source": [
    "train_test_df = pd.concat([train_df, test_df])"
   ]
  },
  {
   "cell_type": "markdown",
   "metadata": {},
   "source": [
    "В обучающей выборке видны следующие признаки:\n",
    "    - site1 – индекс первого посещенного сайта в сессии\n",
    "    - time1 – время посещения первого сайта в сессии\n",
    "    - ...\n",
    "    - site10 – индекс 10-го посещенного сайта в сессии\n",
    "    - time10 – время посещения 10-го сайта в сессии\n",
    "    - user_id – ID пользователя\n",
    "    \n",
    "Сессии пользователей выделены таким образом, что они не могут быть длинее получаса или 10 сайтов. То есть сессия считается оконченной либо когда пользователь посетил 10 сайтов подряд, либо когда сессия заняла по времени более 30 минут. "
   ]
  },
  {
   "cell_type": "markdown",
   "metadata": {},
   "source": [
    "**Посмотрим на статистику признаков.**\n",
    "\n",
    "Пропуски возникают там, где сессии короткие (менее 10 сайтов). Скажем, если человек 1 января 2015 года посетил *vk.com* в 20:01, потом *yandex.ru* в 20:29, затем *google.com* в 20:33, то первая его сессия будет состоять только из двух сайтов (site1 – ID сайта *vk.com*, time1 – 2015-01-01 20:01:00, site2 – ID сайта  *yandex.ru*, time2 – 2015-01-01 20:29:00, остальные признаки – NaN), а начиная с *google.com* пойдет новая сессия, потому что уже прошло более 30 минут с момента посещения *vk.com*."
   ]
  },
  {
   "cell_type": "code",
   "execution_count": 181,
   "metadata": {},
   "outputs": [
    {
     "name": "stdout",
     "output_type": "stream",
     "text": [
      "<class 'pandas.core.frame.DataFrame'>\n",
      "Int64Index: 253561 entries, 1 to 253561\n",
      "Data columns (total 21 columns):\n",
      "site1     253561 non-null int64\n",
      "time1     253561 non-null object\n",
      "site2     250098 non-null float64\n",
      "time2     250098 non-null object\n",
      "site3     246919 non-null float64\n",
      "time3     246919 non-null object\n",
      "site4     244321 non-null float64\n",
      "time4     244321 non-null object\n",
      "site5     241829 non-null float64\n",
      "time5     241829 non-null object\n",
      "site6     239495 non-null float64\n",
      "time6     239495 non-null object\n",
      "site7     237297 non-null float64\n",
      "time7     237297 non-null object\n",
      "site8     235224 non-null float64\n",
      "time8     235224 non-null object\n",
      "site9     233084 non-null float64\n",
      "time9     233084 non-null object\n",
      "site10    231052 non-null float64\n",
      "time10    231052 non-null object\n",
      "target    253561 non-null int64\n",
      "dtypes: float64(9), int64(2), object(10)\n",
      "memory usage: 42.6+ MB\n"
     ]
    }
   ],
   "source": [
    "train_df.info()"
   ]
  },
  {
   "cell_type": "code",
   "execution_count": 182,
   "metadata": {},
   "outputs": [
    {
     "name": "stdout",
     "output_type": "stream",
     "text": [
      "<class 'pandas.core.frame.DataFrame'>\n",
      "Int64Index: 82797 entries, 1 to 82797\n",
      "Data columns (total 20 columns):\n",
      "site1     82797 non-null int64\n",
      "time1     82797 non-null object\n",
      "site2     81308 non-null float64\n",
      "time2     81308 non-null object\n",
      "site3     80075 non-null float64\n",
      "time3     80075 non-null object\n",
      "site4     79182 non-null float64\n",
      "time4     79182 non-null object\n",
      "site5     78341 non-null float64\n",
      "time5     78341 non-null object\n",
      "site6     77566 non-null float64\n",
      "time6     77566 non-null object\n",
      "site7     76840 non-null float64\n",
      "time7     76840 non-null object\n",
      "site8     76151 non-null float64\n",
      "time8     76151 non-null object\n",
      "site9     75484 non-null float64\n",
      "time9     75484 non-null object\n",
      "site10    74806 non-null float64\n",
      "time10    74806 non-null object\n",
      "dtypes: float64(9), int64(1), object(10)\n",
      "memory usage: 13.3+ MB\n"
     ]
    }
   ],
   "source": [
    "test_df.info()"
   ]
  },
  {
   "cell_type": "markdown",
   "metadata": {},
   "source": [
    "**В обучающей выборке** – 2297 сессий одного пользователя (Alice) и 251264 сессий – других пользователей, не Элис. Дисбаланс классов очень сильный, и смотреть на долю верных ответов (accuracy) непоказательно."
   ]
  },
  {
   "cell_type": "code",
   "execution_count": 183,
   "metadata": {},
   "outputs": [
    {
     "data": {
      "text/plain": [
       "0    251264\n",
       "1      2297\n",
       "Name: target, dtype: int64"
      ]
     },
     "execution_count": 183,
     "metadata": {},
     "output_type": "execute_result"
    }
   ],
   "source": [
    "train_df['target'].value_counts()"
   ]
  },
  {
   "cell_type": "markdown",
   "metadata": {},
   "source": [
    "**Пока для прогноза** будут использоваться только индексы посещенных сайтов. Индексы нумеровались с 1, так что пропуски (NaN) заменяются на нули."
   ]
  },
  {
   "cell_type": "code",
   "execution_count": 184,
   "metadata": {},
   "outputs": [],
   "source": [
    "train_test_df_sites = train_test_df[['site%d' % i for i in range(1, 11)]].fillna(0).astype('int')"
   ]
  },
  {
   "cell_type": "code",
   "execution_count": 185,
   "metadata": {},
   "outputs": [
    {
     "data": {
      "text/html": [
       "<div>\n",
       "<style scoped>\n",
       "    .dataframe tbody tr th:only-of-type {\n",
       "        vertical-align: middle;\n",
       "    }\n",
       "\n",
       "    .dataframe tbody tr th {\n",
       "        vertical-align: top;\n",
       "    }\n",
       "\n",
       "    .dataframe thead th {\n",
       "        text-align: right;\n",
       "    }\n",
       "</style>\n",
       "<table border=\"1\" class=\"dataframe\">\n",
       "  <thead>\n",
       "    <tr style=\"text-align: right;\">\n",
       "      <th></th>\n",
       "      <th>site1</th>\n",
       "      <th>site2</th>\n",
       "      <th>site3</th>\n",
       "      <th>site4</th>\n",
       "      <th>site5</th>\n",
       "      <th>site6</th>\n",
       "      <th>site7</th>\n",
       "      <th>site8</th>\n",
       "      <th>site9</th>\n",
       "      <th>site10</th>\n",
       "    </tr>\n",
       "    <tr>\n",
       "      <th>session_id</th>\n",
       "      <th></th>\n",
       "      <th></th>\n",
       "      <th></th>\n",
       "      <th></th>\n",
       "      <th></th>\n",
       "      <th></th>\n",
       "      <th></th>\n",
       "      <th></th>\n",
       "      <th></th>\n",
       "      <th></th>\n",
       "    </tr>\n",
       "  </thead>\n",
       "  <tbody>\n",
       "    <tr>\n",
       "      <th>1</th>\n",
       "      <td>718</td>\n",
       "      <td>0</td>\n",
       "      <td>0</td>\n",
       "      <td>0</td>\n",
       "      <td>0</td>\n",
       "      <td>0</td>\n",
       "      <td>0</td>\n",
       "      <td>0</td>\n",
       "      <td>0</td>\n",
       "      <td>0</td>\n",
       "    </tr>\n",
       "    <tr>\n",
       "      <th>2</th>\n",
       "      <td>890</td>\n",
       "      <td>941</td>\n",
       "      <td>3847</td>\n",
       "      <td>941</td>\n",
       "      <td>942</td>\n",
       "      <td>3846</td>\n",
       "      <td>3847</td>\n",
       "      <td>3846</td>\n",
       "      <td>1516</td>\n",
       "      <td>1518</td>\n",
       "    </tr>\n",
       "    <tr>\n",
       "      <th>3</th>\n",
       "      <td>14769</td>\n",
       "      <td>39</td>\n",
       "      <td>14768</td>\n",
       "      <td>14769</td>\n",
       "      <td>37</td>\n",
       "      <td>39</td>\n",
       "      <td>14768</td>\n",
       "      <td>14768</td>\n",
       "      <td>14768</td>\n",
       "      <td>14768</td>\n",
       "    </tr>\n",
       "  </tbody>\n",
       "</table>\n",
       "</div>"
      ],
      "text/plain": [
       "            site1  site2  site3  site4  site5  site6  site7  site8  site9  \\\n",
       "session_id                                                                  \n",
       "1             718      0      0      0      0      0      0      0      0   \n",
       "2             890    941   3847    941    942   3846   3847   3846   1516   \n",
       "3           14769     39  14768  14769     37     39  14768  14768  14768   \n",
       "\n",
       "            site10  \n",
       "session_id          \n",
       "1                0  \n",
       "2             1518  \n",
       "3            14768  "
      ]
     },
     "execution_count": 185,
     "metadata": {},
     "output_type": "execute_result"
    }
   ],
   "source": [
    "train_test_df_sites.head(3)"
   ]
  },
  {
   "cell_type": "markdown",
   "metadata": {},
   "source": [
    "**Далее создаются** разреженные матрицы *X_train_sparse* и *X_test_sparse* аналогично тому, как это делалось ранее. Для этого используется объединенная матрица *train_test_df_sites*, которая потом разделяется обратно на обучающую и тестовую части.<br>\n",
    "В сессиях меньше 10 сайтов остались нули, так что первый признак (сколько раз попался 0) по смыслу отличен от остальных (сколько раз попался сайт с индексом $i$). Поэтому первый столбец разреженной матрицы будет удален.<br>\n",
    "Также в отдельный вектор *y* выделяются ответы на обучающей выборке."
   ]
  },
  {
   "cell_type": "code",
   "execution_count": 187,
   "metadata": {},
   "outputs": [],
   "source": [
    "train_test_sparse = prepare_sparse_data(train_test_df_sites.values)\n",
    "X_train_sparse = train_test_sparse[:train_df.shape[0], :]\n",
    "X_test_sparse = train_test_sparse[train_df.shape[0]:, :]\n",
    "y = train_df['target'].values"
   ]
  },
  {
   "cell_type": "code",
   "execution_count": 188,
   "metadata": {},
   "outputs": [
    {
     "name": "stdout",
     "output_type": "stream",
     "text": [
      "253561 48371 82797 48371\n"
     ]
    }
   ],
   "source": [
    "print(X_train_sparse.shape[0], X_train_sparse.shape[1], X_test_sparse.shape[0], X_test_sparse.shape[1])"
   ]
  },
  {
   "cell_type": "markdown",
   "metadata": {},
   "source": [
    "**Сохранение в pickle-файлы** объектов *X_train_sparse*, *X_test_sparse* и <i>y</i> (последний – в файл *kaggle_data/train_target.pkl*):"
   ]
  },
  {
   "cell_type": "code",
   "execution_count": 191,
   "metadata": {},
   "outputs": [],
   "source": [
    "with open(os.path.join(PATH_TO_DATA, 'X_train_sparse.pkl'), 'wb') as X_train_sparse_pkl:\n",
    "    pickle.dump(X_train_sparse, X_train_sparse_pkl, protocol=2)\n",
    "with open(os.path.join(PATH_TO_DATA, 'X_test_sparse.pkl'), 'wb') as X_test_sparse_pkl:\n",
    "    pickle.dump(X_test_sparse, X_test_sparse_pkl, protocol=2)\n",
    "with open(os.path.join(PATH_TO_DATA, 'train_target.pkl'), 'wb') as train_target_pkl:\n",
    "    pickle.dump(y, train_target_pkl, protocol=2)"
   ]
  },
  {
   "cell_type": "markdown",
   "metadata": {},
   "source": [
    "**Обучающая выборка** разбивается на 2 части в пропорции 7/3, без перемешивания. Исходные данные упорядочены по времени, тестовая выборка по времени четко отделена от обучающей, это же соблюдается и здесь."
   ]
  },
  {
   "cell_type": "code",
   "execution_count": 193,
   "metadata": {},
   "outputs": [],
   "source": [
    "train_share = int(.7 * X_train_sparse.shape[0])\n",
    "X_train, y_train = X_train_sparse[:train_share, :], y[:train_share]\n",
    "X_valid, y_valid  = X_train_sparse[train_share:, :], y[train_share:]"
   ]
  },
  {
   "cell_type": "markdown",
   "metadata": {},
   "source": [
    "**Создается объект `sklearn.linear_model.SGDClassifier`** с логистической функцией потерь и параметром *random_state*=17. Остальные параметры остаются по умолчанию, только *n_jobs*=-1. Далее модель обучается на выборке `(X_train, y_train)`, делается прогноз в виде предсказанных вероятностей того, что это сессия Элис, на отложенной выборке *(X_valid, y_valid)*, подсчитывается ROC AUC логистической регрессии, обученной с помощью стохастического градиентного спуска, на отложенной выборке."
   ]
  },
  {
   "cell_type": "code",
   "execution_count": 194,
   "metadata": {},
   "outputs": [
    {
     "data": {
      "text/plain": [
       "0.934"
      ]
     },
     "execution_count": 194,
     "metadata": {},
     "output_type": "execute_result"
    }
   ],
   "source": [
    "sgd_logit = SGDClassifier(loss='log', random_state=17, n_jobs=-1)\n",
    "sgd_logit.fit(X_train, y_train) # обучение классификатора\n",
    "logit_valid_pred_proba = sgd_logit.predict_proba(X_valid) # прогноз вероятностей того, что это сессия Элис\n",
    "np.round(roc_auc_score(y_valid, logit_valid_pred_proba[:,1]), 3)"
   ]
  },
  {
   "cell_type": "markdown",
   "metadata": {},
   "source": [
    "**Далее делается прогноз** в виде предсказанных вероятностей отнесения к классу 1 (эта сессия - пользователя Элис) для тестовой выборки с помощью той же *sgd_logit*, обученной уже на всей обучающей выборке (а не на 70%)."
   ]
  },
  {
   "cell_type": "code",
   "execution_count": 195,
   "metadata": {},
   "outputs": [
    {
     "name": "stdout",
     "output_type": "stream",
     "text": [
      "Wall time: 698 ms\n"
     ]
    }
   ],
   "source": [
    "%%time\n",
    "sgd_logit.fit(X_train_sparse, y) # обучение классификатора\n",
    "logit_test_pred_proba = sgd_logit.predict_proba(X_test_sparse)[:,1] # прогноз вероятностей того, что это сессия Элис"
   ]
  },
  {
   "cell_type": "markdown",
   "metadata": {},
   "source": [
    "**Этот ответ (прогноз вероятностей сессии Элис на тестовой выборке)** был записан в файл и послан на Kaggle. Команде (из одного человека) на Kaggle было присвоено название \"[YDF & MIPT] Coursera Lubashev Yuri\", эту посылку можно идентифицировать на [лидерборде](https://inclass.kaggle.com/c/catch-me-if-you-can-intruder-detection-through-webpage-session-tracking2/leaderboard/public).<br>\n",
    "Полученный результат соответствует бейзлайну \"SGDCLassifer\" на лидерборде."
   ]
  },
  {
   "cell_type": "code",
   "execution_count": 196,
   "metadata": {},
   "outputs": [],
   "source": [
    "def write_to_submission_file(predicted_labels, out_file, target='target', index_label=\"session_id\"):\n",
    "    # turn predictions into data frame and save as csv file\n",
    "    predicted_df = pd.DataFrame(predicted_labels, index = np.arange(1, predicted_labels.shape[0] + 1), columns=[target])\n",
    "    predicted_df.to_csv(out_file, index_label=index_label)"
   ]
  },
  {
   "cell_type": "code",
   "execution_count": 197,
   "metadata": {},
   "outputs": [],
   "source": [
    "with open(os.path.join(PATH_TO_DATA, 'kaggle_submission.csv'), 'w') as out_file:\n",
    "    write_to_submission_file(logit_test_pred_proba, out_file)"
   ]
  },
  {
   "cell_type": "markdown",
   "metadata": {},
   "source": [
    "После загрузки на кэггл (наименование команды: [YDF & MIPT] Coursera Lubashev Yuri), полученная оценка (score) составила 0.91273. Это соответствует бейзлайну \"SGDCLassifer\", но **меньше (равно)** установленных порогов \"sgd_logit_benchmark.csv 0.91273\" и \"Logit +3 features 0.92784\". Попробуем решение, подсказанное автором курса:"
   ]
  },
  {
   "cell_type": "code",
   "execution_count": 198,
   "metadata": {},
   "outputs": [],
   "source": [
    "sites = ['site%s' % i for i in range(1, 11)]\n",
    "train_df[sites].fillna(0).astype('int').to_csv('train_sessions_text.txt', sep=' ', index=None, header=None)\n",
    "test_df[sites].fillna(0).astype('int').to_csv('test_sessions_text.txt', sep=' ', index=None, header=None)"
   ]
  },
  {
   "cell_type": "code",
   "execution_count": 199,
   "metadata": {},
   "outputs": [
    {
     "name": "stdout",
     "output_type": "stream",
     "text": [
      "Wall time: 18.2 s\n"
     ]
    }
   ],
   "source": [
    "%%time\n",
    "cv = CountVectorizer(ngram_range=(1, 3), max_features=50000)\n",
    "with open('train_sessions_text.txt') as inp_train_file:\n",
    "    X_train = cv.fit_transform(inp_train_file)\n",
    "with open('test_sessions_text.txt') as inp_test_file:\n",
    "    X_test = cv.transform(inp_test_file)\n",
    "X_train.shape, X_test.shape"
   ]
  },
  {
   "cell_type": "code",
   "execution_count": 201,
   "metadata": {},
   "outputs": [],
   "source": [
    "y_train = train_df['target'].astype('int').values\n",
    "time_split = TimeSeriesSplit(n_splits=10)\n",
    "logit = LogisticRegression(C=1, random_state=17, solver='liblinear')"
   ]
  },
  {
   "cell_type": "code",
   "execution_count": 202,
   "metadata": {},
   "outputs": [
    {
     "name": "stdout",
     "output_type": "stream",
     "text": [
      "Wall time: 1min 31s\n"
     ]
    }
   ],
   "source": [
    "%%time\n",
    "cv_scores = cross_val_score(logit, X_train, y_train, cv=time_split, \n",
    "                            scoring='roc_auc', n_jobs=1) # hangs with n_jobs > 1, and locally this runs much faster"
   ]
  },
  {
   "cell_type": "code",
   "execution_count": 203,
   "metadata": {},
   "outputs": [],
   "source": [
    "logit.fit(X_train, y_train) # обучение классификатора\n",
    "logit_test_pred = logit.predict_proba(X_test)[:, 1] # прогноз вероятностей, что сессия - пользователя Элис\n",
    "write_to_submission_file(logit_test_pred, 'subm1.csv') # запись в файл для посылки на Kaggle"
   ]
  },
  {
   "cell_type": "markdown",
   "metadata": {},
   "source": [
    "**После загрузки** на кэггл (команда: [YDF & MIPT] Coursera Lubashev Yuri), полученная оценка (score) составила 0.91288. Это **больше** установленного порога \"sgd_logit_benchmark.csv 0.91273\".<br>\n",
    "Применение других способов улучшить результат привело не к значимому улучшению, а к ухудшению качества классификации. Были перепробованы другие алгоритмы классификации (из рассмотренных ранее), проведена нормализация признаков (деление на мат.ожидание и вычитание СКО), - все это приводило только к снижению оценки (score). Воспользоваться же новыми признаками (*session_timespan, #unique_sites, start_hour, day_of_week*), синтезированными в разделе 3, тоже представляется затруднительным, поскольку для нового датасета, скачанного с сайта Kaggle, необходимо эти признаки синтезировать заново (в датасете кэггл есть только две целевых переменных - 0 и 1, как автор предполагал их сопоставить с признаками, полученными ранее - непонятно?), и тут возникает ряд проблем, например такого рода: для некоторых объектов в выборке есть только одно время (остальные метки стоят в NaN) - как считать длительность сессии *session_timespan*? Ну и т.д."
   ]
  },
  {
   "cell_type": "markdown",
   "metadata": {},
   "source": [
    "**Таким образом**, было осуществлено обучение модели (логистического регрессора) с помощью стохастического градиентного спуска (классификатор `Scikit-learn SGDClassifier`). Данный алгоритм классификации был опробован на данных [соревнования](https://inclass.kaggle.com/c/catch-me-if-you-can-intruder-detection-through-webpage-session-tracking2) Kaggle по идентификации пользователя Элис, с результатом (с учетом дополнительных преобразований над данными), равным 0.91288. Это означает, что данная модель обучена все же недостаточно хорошо, т.е., она распознает пользователя Элис всего в 91% случаев. При этом, с учетом установленного бэйзлайна для этих данных, такую модель использовать для идентификации пользователя можно."
   ]
  },
  {
   "cell_type": "markdown",
   "metadata": {},
   "source": [
    "## 6. Применение пакета Vowpal Wabbit к данным"
   ]
  },
  {
   "cell_type": "markdown",
   "metadata": {},
   "source": [
    "Далее для решения задачи идентификации пользователя используется библиотека Vowpal Wabbit, она апробируется на данных по посещению сайтов."
   ]
  },
  {
   "cell_type": "markdown",
   "metadata": {},
   "source": [
    "### 6.1 Подготовка данных"
   ]
  },
  {
   "cell_type": "markdown",
   "metadata": {},
   "source": [
    "**Есть предположение,** что в задаче соревнования при бинарной классификации веб-сессий не будет ощутима разница между ранее примененными алгоритмами и VW – как по качеству, так и по скорости работы, поэтому преимущества использования VW будут рассматриваться для задачи классификации на 400 классов. Исходные данные все те же самые, но выделено 400 пользователей, и решается задача их идентификации. Данные берутся [отсюда](https://inclass.kaggle.com/c/identify-me-if-you-can4/data) – файлы `train_sessions_400users.csv` и `test_sessions_400users.csv`."
   ]
  },
  {
   "cell_type": "markdown",
   "metadata": {},
   "source": [
    "**Загрузка обучающей** и тестовой выборки. Можно заметить, что тестовые сессии здесь по времени четко отделены от сессий в обучающей выборке."
   ]
  },
  {
   "cell_type": "code",
   "execution_count": 205,
   "metadata": {},
   "outputs": [],
   "source": [
    "train_df_400 = pd.read_csv(os.path.join(PATH_TO_DATA,'train_sessions_400users.csv'), index_col='session_id')\n",
    "test_df_400 = pd.read_csv(os.path.join(PATH_TO_DATA,'test_sessions_400users.csv'), index_col='session_id')"
   ]
  },
  {
   "cell_type": "code",
   "execution_count": 206,
   "metadata": {},
   "outputs": [
    {
     "data": {
      "text/html": [
       "<div>\n",
       "<style scoped>\n",
       "    .dataframe tbody tr th:only-of-type {\n",
       "        vertical-align: middle;\n",
       "    }\n",
       "\n",
       "    .dataframe tbody tr th {\n",
       "        vertical-align: top;\n",
       "    }\n",
       "\n",
       "    .dataframe thead th {\n",
       "        text-align: right;\n",
       "    }\n",
       "</style>\n",
       "<table border=\"1\" class=\"dataframe\">\n",
       "  <thead>\n",
       "    <tr style=\"text-align: right;\">\n",
       "      <th></th>\n",
       "      <th>site1</th>\n",
       "      <th>time1</th>\n",
       "      <th>site2</th>\n",
       "      <th>time2</th>\n",
       "      <th>site3</th>\n",
       "      <th>time3</th>\n",
       "      <th>site4</th>\n",
       "      <th>time4</th>\n",
       "      <th>site5</th>\n",
       "      <th>time5</th>\n",
       "      <th>site6</th>\n",
       "      <th>time6</th>\n",
       "      <th>site7</th>\n",
       "      <th>time7</th>\n",
       "      <th>site8</th>\n",
       "      <th>time8</th>\n",
       "      <th>site9</th>\n",
       "      <th>time9</th>\n",
       "      <th>site10</th>\n",
       "      <th>time10</th>\n",
       "      <th>user_id</th>\n",
       "    </tr>\n",
       "    <tr>\n",
       "      <th>session_id</th>\n",
       "      <th></th>\n",
       "      <th></th>\n",
       "      <th></th>\n",
       "      <th></th>\n",
       "      <th></th>\n",
       "      <th></th>\n",
       "      <th></th>\n",
       "      <th></th>\n",
       "      <th></th>\n",
       "      <th></th>\n",
       "      <th></th>\n",
       "      <th></th>\n",
       "      <th></th>\n",
       "      <th></th>\n",
       "      <th></th>\n",
       "      <th></th>\n",
       "      <th></th>\n",
       "      <th></th>\n",
       "      <th></th>\n",
       "      <th></th>\n",
       "      <th></th>\n",
       "    </tr>\n",
       "  </thead>\n",
       "  <tbody>\n",
       "    <tr>\n",
       "      <th>1</th>\n",
       "      <td>23713</td>\n",
       "      <td>2014-03-24 15:22:40</td>\n",
       "      <td>23720.0</td>\n",
       "      <td>2014-03-24 15:22:48</td>\n",
       "      <td>23713.0</td>\n",
       "      <td>2014-03-24 15:22:48</td>\n",
       "      <td>23713.0</td>\n",
       "      <td>2014-03-24 15:22:54</td>\n",
       "      <td>23720.0</td>\n",
       "      <td>2014-03-24 15:22:54</td>\n",
       "      <td>23713.0</td>\n",
       "      <td>2014-03-24 15:22:55</td>\n",
       "      <td>23713.0</td>\n",
       "      <td>2014-03-24 15:23:01</td>\n",
       "      <td>23713.0</td>\n",
       "      <td>2014-03-24 15:23:03</td>\n",
       "      <td>23713.0</td>\n",
       "      <td>2014-03-24 15:23:04</td>\n",
       "      <td>23713.0</td>\n",
       "      <td>2014-03-24 15:23:05</td>\n",
       "      <td>653</td>\n",
       "    </tr>\n",
       "    <tr>\n",
       "      <th>2</th>\n",
       "      <td>8726</td>\n",
       "      <td>2014-04-17 14:25:58</td>\n",
       "      <td>8725.0</td>\n",
       "      <td>2014-04-17 14:25:59</td>\n",
       "      <td>665.0</td>\n",
       "      <td>2014-04-17 14:25:59</td>\n",
       "      <td>8727.0</td>\n",
       "      <td>2014-04-17 14:25:59</td>\n",
       "      <td>45.0</td>\n",
       "      <td>2014-04-17 14:25:59</td>\n",
       "      <td>8725.0</td>\n",
       "      <td>2014-04-17 14:26:01</td>\n",
       "      <td>45.0</td>\n",
       "      <td>2014-04-17 14:26:01</td>\n",
       "      <td>5320.0</td>\n",
       "      <td>2014-04-17 14:26:18</td>\n",
       "      <td>5320.0</td>\n",
       "      <td>2014-04-17 14:26:47</td>\n",
       "      <td>5320.0</td>\n",
       "      <td>2014-04-17 14:26:48</td>\n",
       "      <td>198</td>\n",
       "    </tr>\n",
       "    <tr>\n",
       "      <th>3</th>\n",
       "      <td>303</td>\n",
       "      <td>2014-03-21 10:12:24</td>\n",
       "      <td>19.0</td>\n",
       "      <td>2014-03-21 10:12:36</td>\n",
       "      <td>303.0</td>\n",
       "      <td>2014-03-21 10:12:54</td>\n",
       "      <td>303.0</td>\n",
       "      <td>2014-03-21 10:13:01</td>\n",
       "      <td>303.0</td>\n",
       "      <td>2014-03-21 10:13:24</td>\n",
       "      <td>303.0</td>\n",
       "      <td>2014-03-21 10:13:36</td>\n",
       "      <td>303.0</td>\n",
       "      <td>2014-03-21 10:13:54</td>\n",
       "      <td>309.0</td>\n",
       "      <td>2014-03-21 10:14:01</td>\n",
       "      <td>303.0</td>\n",
       "      <td>2014-03-21 10:14:06</td>\n",
       "      <td>303.0</td>\n",
       "      <td>2014-03-21 10:14:24</td>\n",
       "      <td>34</td>\n",
       "    </tr>\n",
       "  </tbody>\n",
       "</table>\n",
       "</div>"
      ],
      "text/plain": [
       "            site1                time1    site2                time2    site3  \\\n",
       "session_id                                                                      \n",
       "1           23713  2014-03-24 15:22:40  23720.0  2014-03-24 15:22:48  23713.0   \n",
       "2            8726  2014-04-17 14:25:58   8725.0  2014-04-17 14:25:59    665.0   \n",
       "3             303  2014-03-21 10:12:24     19.0  2014-03-21 10:12:36    303.0   \n",
       "\n",
       "                          time3    site4                time4    site5  \\\n",
       "session_id                                                               \n",
       "1           2014-03-24 15:22:48  23713.0  2014-03-24 15:22:54  23720.0   \n",
       "2           2014-04-17 14:25:59   8727.0  2014-04-17 14:25:59     45.0   \n",
       "3           2014-03-21 10:12:54    303.0  2014-03-21 10:13:01    303.0   \n",
       "\n",
       "                          time5    site6                time6    site7  \\\n",
       "session_id                                                               \n",
       "1           2014-03-24 15:22:54  23713.0  2014-03-24 15:22:55  23713.0   \n",
       "2           2014-04-17 14:25:59   8725.0  2014-04-17 14:26:01     45.0   \n",
       "3           2014-03-21 10:13:24    303.0  2014-03-21 10:13:36    303.0   \n",
       "\n",
       "                          time7    site8                time8    site9  \\\n",
       "session_id                                                               \n",
       "1           2014-03-24 15:23:01  23713.0  2014-03-24 15:23:03  23713.0   \n",
       "2           2014-04-17 14:26:01   5320.0  2014-04-17 14:26:18   5320.0   \n",
       "3           2014-03-21 10:13:54    309.0  2014-03-21 10:14:01    303.0   \n",
       "\n",
       "                          time9   site10               time10  user_id  \n",
       "session_id                                                              \n",
       "1           2014-03-24 15:23:04  23713.0  2014-03-24 15:23:05      653  \n",
       "2           2014-04-17 14:26:47   5320.0  2014-04-17 14:26:48      198  \n",
       "3           2014-03-21 10:14:06    303.0  2014-03-21 10:14:24       34  "
      ]
     },
     "execution_count": 206,
     "metadata": {},
     "output_type": "execute_result"
    }
   ],
   "source": [
    "train_df_400.head(3)"
   ]
  },
  {
   "cell_type": "code",
   "execution_count": 207,
   "metadata": {},
   "outputs": [
    {
     "data": {
      "text/html": [
       "<div>\n",
       "<style scoped>\n",
       "    .dataframe tbody tr th:only-of-type {\n",
       "        vertical-align: middle;\n",
       "    }\n",
       "\n",
       "    .dataframe tbody tr th {\n",
       "        vertical-align: top;\n",
       "    }\n",
       "\n",
       "    .dataframe thead th {\n",
       "        text-align: right;\n",
       "    }\n",
       "</style>\n",
       "<table border=\"1\" class=\"dataframe\">\n",
       "  <thead>\n",
       "    <tr style=\"text-align: right;\">\n",
       "      <th></th>\n",
       "      <th>site1</th>\n",
       "      <th>time1</th>\n",
       "      <th>site2</th>\n",
       "      <th>time2</th>\n",
       "      <th>site3</th>\n",
       "      <th>time3</th>\n",
       "      <th>site4</th>\n",
       "      <th>time4</th>\n",
       "      <th>site5</th>\n",
       "      <th>time5</th>\n",
       "      <th>site6</th>\n",
       "      <th>time6</th>\n",
       "      <th>site7</th>\n",
       "      <th>time7</th>\n",
       "      <th>site8</th>\n",
       "      <th>time8</th>\n",
       "      <th>site9</th>\n",
       "      <th>time9</th>\n",
       "      <th>site10</th>\n",
       "      <th>time10</th>\n",
       "    </tr>\n",
       "    <tr>\n",
       "      <th>session_id</th>\n",
       "      <th></th>\n",
       "      <th></th>\n",
       "      <th></th>\n",
       "      <th></th>\n",
       "      <th></th>\n",
       "      <th></th>\n",
       "      <th></th>\n",
       "      <th></th>\n",
       "      <th></th>\n",
       "      <th></th>\n",
       "      <th></th>\n",
       "      <th></th>\n",
       "      <th></th>\n",
       "      <th></th>\n",
       "      <th></th>\n",
       "      <th></th>\n",
       "      <th></th>\n",
       "      <th></th>\n",
       "      <th></th>\n",
       "      <th></th>\n",
       "    </tr>\n",
       "  </thead>\n",
       "  <tbody>\n",
       "    <tr>\n",
       "      <th>1</th>\n",
       "      <td>9</td>\n",
       "      <td>2014-10-04 12:24:43</td>\n",
       "      <td>304.0</td>\n",
       "      <td>2014-10-04 12:25:34</td>\n",
       "      <td>308.0</td>\n",
       "      <td>2014-10-04 12:28:33</td>\n",
       "      <td>307.0</td>\n",
       "      <td>2014-10-04 12:28:33</td>\n",
       "      <td>91.0</td>\n",
       "      <td>2014-10-04 12:28:33</td>\n",
       "      <td>308.0</td>\n",
       "      <td>2014-10-04 12:28:34</td>\n",
       "      <td>312.0</td>\n",
       "      <td>2014-10-04 12:30:31</td>\n",
       "      <td>300.0</td>\n",
       "      <td>2014-10-04 12:31:30</td>\n",
       "      <td>305.0</td>\n",
       "      <td>2014-10-04 12:32:31</td>\n",
       "      <td>309.0</td>\n",
       "      <td>2014-10-04 12:34:31</td>\n",
       "    </tr>\n",
       "    <tr>\n",
       "      <th>2</th>\n",
       "      <td>838</td>\n",
       "      <td>2014-12-02 09:20:37</td>\n",
       "      <td>504.0</td>\n",
       "      <td>2014-12-02 09:20:38</td>\n",
       "      <td>68.0</td>\n",
       "      <td>2014-12-02 09:20:38</td>\n",
       "      <td>11.0</td>\n",
       "      <td>2014-12-02 09:20:38</td>\n",
       "      <td>838.0</td>\n",
       "      <td>2014-12-02 09:20:38</td>\n",
       "      <td>11.0</td>\n",
       "      <td>2014-12-02 09:20:40</td>\n",
       "      <td>838.0</td>\n",
       "      <td>2014-12-02 09:20:41</td>\n",
       "      <td>886.0</td>\n",
       "      <td>2014-12-02 09:20:42</td>\n",
       "      <td>27.0</td>\n",
       "      <td>2014-12-02 09:20:42</td>\n",
       "      <td>305.0</td>\n",
       "      <td>2014-12-02 09:20:42</td>\n",
       "    </tr>\n",
       "    <tr>\n",
       "      <th>3</th>\n",
       "      <td>190</td>\n",
       "      <td>2014-10-01 09:27:38</td>\n",
       "      <td>192.0</td>\n",
       "      <td>2014-10-01 09:27:38</td>\n",
       "      <td>8.0</td>\n",
       "      <td>2014-10-01 09:27:38</td>\n",
       "      <td>189.0</td>\n",
       "      <td>2014-10-01 09:27:38</td>\n",
       "      <td>191.0</td>\n",
       "      <td>2014-10-01 09:27:39</td>\n",
       "      <td>189.0</td>\n",
       "      <td>2014-10-01 09:27:39</td>\n",
       "      <td>190.0</td>\n",
       "      <td>2014-10-01 09:27:39</td>\n",
       "      <td>2375.0</td>\n",
       "      <td>2014-10-01 09:27:39</td>\n",
       "      <td>192.0</td>\n",
       "      <td>2014-10-01 09:27:39</td>\n",
       "      <td>8.0</td>\n",
       "      <td>2014-10-01 09:27:39</td>\n",
       "    </tr>\n",
       "  </tbody>\n",
       "</table>\n",
       "</div>"
      ],
      "text/plain": [
       "            site1                time1  site2                time2  site3  \\\n",
       "session_id                                                                  \n",
       "1               9  2014-10-04 12:24:43  304.0  2014-10-04 12:25:34  308.0   \n",
       "2             838  2014-12-02 09:20:37  504.0  2014-12-02 09:20:38   68.0   \n",
       "3             190  2014-10-01 09:27:38  192.0  2014-10-01 09:27:38    8.0   \n",
       "\n",
       "                          time3  site4                time4  site5  \\\n",
       "session_id                                                           \n",
       "1           2014-10-04 12:28:33  307.0  2014-10-04 12:28:33   91.0   \n",
       "2           2014-12-02 09:20:38   11.0  2014-12-02 09:20:38  838.0   \n",
       "3           2014-10-01 09:27:38  189.0  2014-10-01 09:27:38  191.0   \n",
       "\n",
       "                          time5  site6                time6  site7  \\\n",
       "session_id                                                           \n",
       "1           2014-10-04 12:28:33  308.0  2014-10-04 12:28:34  312.0   \n",
       "2           2014-12-02 09:20:38   11.0  2014-12-02 09:20:40  838.0   \n",
       "3           2014-10-01 09:27:39  189.0  2014-10-01 09:27:39  190.0   \n",
       "\n",
       "                          time7   site8                time8  site9  \\\n",
       "session_id                                                            \n",
       "1           2014-10-04 12:30:31   300.0  2014-10-04 12:31:30  305.0   \n",
       "2           2014-12-02 09:20:41   886.0  2014-12-02 09:20:42   27.0   \n",
       "3           2014-10-01 09:27:39  2375.0  2014-10-01 09:27:39  192.0   \n",
       "\n",
       "                          time9  site10               time10  \n",
       "session_id                                                    \n",
       "1           2014-10-04 12:32:31   309.0  2014-10-04 12:34:31  \n",
       "2           2014-12-02 09:20:42   305.0  2014-12-02 09:20:42  \n",
       "3           2014-10-01 09:27:39     8.0  2014-10-01 09:27:39  "
      ]
     },
     "execution_count": 207,
     "metadata": {},
     "output_type": "execute_result"
    }
   ],
   "source": [
    "test_df_400.head(3)"
   ]
  },
  {
   "cell_type": "markdown",
   "metadata": {},
   "source": [
    "**В обучающей выборке** 182793 сессий, в тестовой – 46473, и сессии действительно принадлежат 400 различным пользователям:"
   ]
  },
  {
   "cell_type": "code",
   "execution_count": 208,
   "metadata": {},
   "outputs": [
    {
     "data": {
      "text/plain": [
       "((182793, 21), (46473, 20), 400)"
      ]
     },
     "execution_count": 208,
     "metadata": {},
     "output_type": "execute_result"
    }
   ],
   "source": [
    "train_df_400.shape, test_df_400.shape, train_df_400['user_id'].nunique()"
   ]
  },
  {
   "cell_type": "markdown",
   "metadata": {},
   "source": [
    "**Для применения Vowpal Wabbit** необходимо, чтобы метки классов были распределены от 1 до K, где K – число классов в задаче классификации (в данном случае – 400). Поэтому применяется `LabelEncoder`, к результату работы которого затем добавляется +1 (`LabelEncoder` переводит метки в диапазон от 0 до K-1). Далее будет применено обратное преобразование."
   ]
  },
  {
   "cell_type": "code",
   "execution_count": 209,
   "metadata": {},
   "outputs": [],
   "source": [
    "y = train_df_400['user_id']\n",
    "class_encoder = LabelEncoder()\n",
    "y_for_vw = class_encoder.fit_transform(train_df_400['user_id']) + 1"
   ]
  },
  {
   "cell_type": "markdown",
   "metadata": {},
   "source": [
    "**Далее будет сравниваться** VW с SGDClassifier и с логистической регрессией. Всем этим моделям нужна предобработка входных данных. Для sklearn-моделей будут подготовлены разреженные матрицы по аналогии с тем, как это было сделано в разделе 5, с выполнением следующих операций:\n",
    "- объединение обучающей и тестовой выборок;\n",
    "- выбор из исходных данных только сайтов (признаки от 'site1' до 'site10');\n",
    "- замена пропусков (NaN) на нули (сайты нумеровались с 1);\n",
    "- перевод матриц в разреженный формат `csr_matrix`;\n",
    "- разбиение матриц обратно на обучающую и тестовую части."
   ]
  },
  {
   "cell_type": "code",
   "execution_count": 210,
   "metadata": {},
   "outputs": [],
   "source": [
    "train_test_df_400 = pd.concat([train_df_400, test_df_400], sort=False)\n",
    "sites = ['site' + str(i) for i in range(1, 11)]\n",
    "train_test_df_sites_400 = train_test_df_400[['site%d' % i for i in range(1, 11)]].fillna(0).astype('int')"
   ]
  },
  {
   "cell_type": "code",
   "execution_count": 211,
   "metadata": {},
   "outputs": [
    {
     "data": {
      "text/html": [
       "<div>\n",
       "<style scoped>\n",
       "    .dataframe tbody tr th:only-of-type {\n",
       "        vertical-align: middle;\n",
       "    }\n",
       "\n",
       "    .dataframe tbody tr th {\n",
       "        vertical-align: top;\n",
       "    }\n",
       "\n",
       "    .dataframe thead th {\n",
       "        text-align: right;\n",
       "    }\n",
       "</style>\n",
       "<table border=\"1\" class=\"dataframe\">\n",
       "  <thead>\n",
       "    <tr style=\"text-align: right;\">\n",
       "      <th></th>\n",
       "      <th>site1</th>\n",
       "      <th>site2</th>\n",
       "      <th>site3</th>\n",
       "      <th>site4</th>\n",
       "      <th>site5</th>\n",
       "      <th>site6</th>\n",
       "      <th>site7</th>\n",
       "      <th>site8</th>\n",
       "      <th>site9</th>\n",
       "      <th>site10</th>\n",
       "    </tr>\n",
       "    <tr>\n",
       "      <th>session_id</th>\n",
       "      <th></th>\n",
       "      <th></th>\n",
       "      <th></th>\n",
       "      <th></th>\n",
       "      <th></th>\n",
       "      <th></th>\n",
       "      <th></th>\n",
       "      <th></th>\n",
       "      <th></th>\n",
       "      <th></th>\n",
       "    </tr>\n",
       "  </thead>\n",
       "  <tbody>\n",
       "    <tr>\n",
       "      <th>1</th>\n",
       "      <td>23713</td>\n",
       "      <td>23720</td>\n",
       "      <td>23713</td>\n",
       "      <td>23713</td>\n",
       "      <td>23720</td>\n",
       "      <td>23713</td>\n",
       "      <td>23713</td>\n",
       "      <td>23713</td>\n",
       "      <td>23713</td>\n",
       "      <td>23713</td>\n",
       "    </tr>\n",
       "    <tr>\n",
       "      <th>2</th>\n",
       "      <td>8726</td>\n",
       "      <td>8725</td>\n",
       "      <td>665</td>\n",
       "      <td>8727</td>\n",
       "      <td>45</td>\n",
       "      <td>8725</td>\n",
       "      <td>45</td>\n",
       "      <td>5320</td>\n",
       "      <td>5320</td>\n",
       "      <td>5320</td>\n",
       "    </tr>\n",
       "    <tr>\n",
       "      <th>3</th>\n",
       "      <td>303</td>\n",
       "      <td>19</td>\n",
       "      <td>303</td>\n",
       "      <td>303</td>\n",
       "      <td>303</td>\n",
       "      <td>303</td>\n",
       "      <td>303</td>\n",
       "      <td>309</td>\n",
       "      <td>303</td>\n",
       "      <td>303</td>\n",
       "    </tr>\n",
       "  </tbody>\n",
       "</table>\n",
       "</div>"
      ],
      "text/plain": [
       "            site1  site2  site3  site4  site5  site6  site7  site8  site9  \\\n",
       "session_id                                                                  \n",
       "1           23713  23720  23713  23713  23720  23713  23713  23713  23713   \n",
       "2            8726   8725    665   8727     45   8725     45   5320   5320   \n",
       "3             303     19    303    303    303    303    303    309    303   \n",
       "\n",
       "            site10  \n",
       "session_id          \n",
       "1            23713  \n",
       "2             5320  \n",
       "3              303  "
      ]
     },
     "execution_count": 211,
     "metadata": {},
     "output_type": "execute_result"
    }
   ],
   "source": [
    "train_test_df_sites_400.head(3)"
   ]
  },
  {
   "cell_type": "code",
   "execution_count": 212,
   "metadata": {},
   "outputs": [],
   "source": [
    "train_test_sparse_400 = prepare_sparse_data(train_test_df_sites_400.values)\n",
    "X_train_sparse = train_test_sparse_400[:train_df_400.shape[0], :]\n",
    "X_test_sparse = train_test_sparse_400[train_df_400.shape[0]:, :]\n",
    "y = train_df_400['user_id'].values"
   ]
  },
  {
   "cell_type": "markdown",
   "metadata": {},
   "source": [
    "### 6.2 Валидация по отложенной выборке"
   ]
  },
  {
   "cell_type": "markdown",
   "metadata": {},
   "source": [
    "**Выделяются обучающая** (70%) и отложенная (30%) части исходной обучающей выборки. Данные не перемешиваются, учитывается, что сессии отсортированы по времени:"
   ]
  },
  {
   "cell_type": "code",
   "execution_count": 213,
   "metadata": {},
   "outputs": [],
   "source": [
    "train_share = int(.7 * train_df_400.shape[0])\n",
    "train_df_part = train_df_400[sites].iloc[:train_share, :].fillna(0).astype('int')\n",
    "valid_df = train_df_400[sites].iloc[train_share:, :].fillna(0).astype('int')\n",
    "X_train_part_sparse = X_train_sparse[:train_share, :]\n",
    "X_valid_sparse = X_train_sparse[train_share:, :]"
   ]
  },
  {
   "cell_type": "code",
   "execution_count": 214,
   "metadata": {},
   "outputs": [],
   "source": [
    "y_train_part = y[:train_share]\n",
    "y_valid = y[train_share:]\n",
    "y_train_part_for_vw = y_for_vw[:train_share]\n",
    "y_valid_for_vw = y_for_vw[train_share:]"
   ]
  },
  {
   "cell_type": "markdown",
   "metadata": {},
   "source": [
    "**Реализуется функция `arrays_to_vw`,** переводящая обучающую выборку в формат Vowpal Wabbit.\n",
    "\n",
    "Входные параметры:\n",
    " - X – матрица `NumPy` (обучающая выборка);\n",
    " - y (необяз.) - вектор ответов (`NumPy`). Необязателен, поскольку тестовая матрица будет обрабатываться этой же функцией;\n",
    " - train – флаг, True в случае обучающей выборки, False – в случае тестовой выборки;\n",
    " - out_file – путь к файлу .vw, в который будет произведена запись.\n",
    " \n",
    "Детали:\n",
    "- делается проход по всем строкам матрицы `X` и записываются через пробел все значения, с предварительным добавлением впереди нужной метки класса из вектора `y` и знака-разделителя `|`;\n",
    "- в тестовой выборке на месте меток целевого класса можно указываются произвольные (в данном случае - 1)."
   ]
  },
  {
   "cell_type": "code",
   "execution_count": 215,
   "metadata": {},
   "outputs": [],
   "source": [
    "def arrays_to_vw(X, y=None, train=True, out_file='tmp.vw'):\n",
    "    ls = []\n",
    "    for i in range(X.shape[0]):\n",
    "        if train:\n",
    "            ls += [str(y[i]) + ' | ' + ' '.join(str(int(X[i,j])) for j in range(X.shape[1])) + '\\n']\n",
    "        else:\n",
    "            ls += ['1 | ' + ' '.join(str(int(X[i,j])) for j in range(X.shape[1])) + '\\n']\n",
    "    with open(out_file, 'wb') as vw_data:\n",
    "        for row in ls:\n",
    "            vw_data.write(row.encode('utf8'))"
   ]
  },
  {
   "cell_type": "markdown",
   "metadata": {},
   "source": [
    "**Применение написанной функции** к части обучащей выборки `(train_df_part, y_train_part_for_vw)`, к отложенной выборке `(valid_df, y_valid_for_vw)`, ко всей обучающей выборке и ко всей тестовой выборке:"
   ]
  },
  {
   "cell_type": "code",
   "execution_count": 216,
   "metadata": {},
   "outputs": [
    {
     "name": "stdout",
     "output_type": "stream",
     "text": [
      "Wall time: 4.24 s\n"
     ]
    }
   ],
   "source": [
    "%%time\n",
    "# будет 4 вызова\n",
    "arrays_to_vw(train_df_part.values, y_train_part_for_vw, train=True, out_file='train_part.vw')\n",
    "arrays_to_vw(valid_df.values, y_valid_for_vw, train=True, out_file='valid.vw')\n",
    "arrays_to_vw(train_df_400[sites].fillna(0).astype('int').values, y_for_vw, train=True, out_file='train.vw')\n",
    "arrays_to_vw(test_df_400[sites].fillna(0).astype('int').values, train=False, out_file='test.vw')"
   ]
  },
  {
   "cell_type": "code",
   "execution_count": 219,
   "metadata": {},
   "outputs": [],
   "source": [
    "#%system type train_part.vw"
   ]
  },
  {
   "cell_type": "markdown",
   "metadata": {},
   "source": [
    "**Далее выполняется обучение** модели Vowpal Wabbit на выборке `train_part.vw`. Указывается, что решается задача классификации с 400 классами (`--oaa`), что делается 3 прохода по выборке (`--passes`). Задается кэш-файл (`--cache_file`, можно просто указать флаг `-c`), так VW будет быстрее делать все следующие после первого проходы по выборке (прошлый кэш-файл удаляется с помощью аргумента `-k`). Также указывается значение параметра `b`=26. Это число бит, используемых для хэширования, в данном случае нужно больше, чем 18 по умолчанию. Наконец, указывается (для воспроизводимости) `random_seed`=17. Остальные параметры не меняются."
   ]
  },
  {
   "cell_type": "code",
   "execution_count": 220,
   "metadata": {},
   "outputs": [],
   "source": [
    "train_part_vw = os.path.join(PATH_TO_DATA, 'train_part.vw')\n",
    "valid_vw = os.path.join(PATH_TO_DATA, 'valid.vw')\n",
    "train_vw = os.path.join(PATH_TO_DATA, 'train.vw')\n",
    "test_vw = os.path.join(PATH_TO_DATA, 'test.vw')\n",
    "model = os.path.join(PATH_TO_DATA, 'vw_model.vw')\n",
    "pred = os.path.join(PATH_TO_DATA, 'vw_pred.csv')"
   ]
  },
  {
   "cell_type": "code",
   "execution_count": 235,
   "metadata": {},
   "outputs": [
    {
     "name": "stderr",
     "output_type": "stream",
     "text": [
      "final_regressor = train_part_model.vw\n",
      "Num weight bits = 26\n",
      "learning rate = 0.5\n",
      "initial_t = 0\n",
      "power_t = 0.5\n",
      "decay_learning_rate = 1\n",
      "using cache_file = train_part.vw.cache\n",
      "ignoring text input in favor of cache input\n",
      "num sources = 1\n",
      "average  since         example        example  current  current  current\n",
      "loss     last          counter         weight    label  predict features\n",
      "1.000000 1.000000            1            1.0      262        1       11\n",
      "1.000000 1.000000            2            2.0       82      262       11\n",
      "1.000000 1.000000            4            4.0      241      262       11\n",
      "1.000000 1.000000            8            8.0      352      262       11\n",
      "1.000000 1.000000           16           16.0      135       16       11\n",
      "1.000000 1.000000           32           32.0       71      112       11\n",
      "0.968750 0.937500           64           64.0      358      231       11\n",
      "0.976563 0.984375          128          128.0      348      346       11\n",
      "0.941406 0.906250          256          256.0      202      202       11\n",
      "0.947266 0.953125          512          512.0       30        1       11\n",
      "0.925781 0.904297         1024         1024.0       36      290       11\n",
      "0.908203 0.890625         2048         2048.0       21      128       11\n",
      "0.880127 0.852051         4096         4096.0       80      229       11\n",
      "0.856323 0.832520         8192         8192.0      307      356       11\n",
      "0.828003 0.799683        16384        16384.0       59      193       11\n",
      "0.795441 0.762878        32768        32768.0      262       30       11\n",
      "0.760468 0.725494        65536        65536.0      171      238       11\n",
      "0.724008 0.724008       131072       131072.0        6        6       11 h\n",
      "0.697339 0.670672       262144       262144.0       12       12       11 h\n",
      "\n",
      "finished run\n",
      "number of examples per pass = 115160\n",
      "passes used = 3\n",
      "weighted example sum = 345480.000000\n",
      "weighted label sum = 0.000000\n",
      "average loss = 0.661352 h\n",
      "total feature number = 3800280\n"
     ]
    },
    {
     "name": "stdout",
     "output_type": "stream",
     "text": [
      "Wall time: 52.5 s\n"
     ]
    }
   ],
   "source": [
    "%%time\n",
    "!vw -d train_part.vw --oaa 400 --passes 3 -c -b 26 --random_seed 17 -f train_part_model.vw"
   ]
  },
  {
   "cell_type": "markdown",
   "metadata": {},
   "source": [
    "**Сохранение прогнозов** на выборке *valid.vw* в файл *vw_valid_pred.csv*:"
   ]
  },
  {
   "cell_type": "code",
   "execution_count": 231,
   "metadata": {},
   "outputs": [
    {
     "name": "stderr",
     "output_type": "stream",
     "text": [
      "only testing\n",
      "predictions = vw_valid_pred.csv\n",
      "Num weight bits = 26\n",
      "learning rate = 0.5\n",
      "initial_t = 0\n",
      "power_t = 0.5\n",
      "using no cache\n",
      "Reading datafile = valid.vw\n",
      "num sources = 1\n",
      "average  since         example        example  current  current  current\n",
      "loss     last          counter         weight    label  predict features\n",
      "1.000000 1.000000            1            1.0        4      188       11\n",
      "1.000000 1.000000            2            2.0      160      220       11\n",
      "0.750000 0.500000            4            4.0      143      143       11\n",
      "0.750000 0.750000            8            8.0      247      247       11\n",
      "0.687500 0.625000           16           16.0      341       30       11\n",
      "0.593750 0.500000           32           32.0      237      237       11\n",
      "0.609375 0.625000           64           64.0      178      178       11\n",
      "0.640625 0.671875          128          128.0      132      228       11\n",
      "0.656250 0.671875          256          256.0       14       14       11\n",
      "0.646484 0.636719          512          512.0      370      370       11\n",
      "0.663086 0.679688         1024         1024.0      189      189       11\n",
      "0.655762 0.648438         2048         2048.0      311      311       11\n",
      "0.657227 0.658691         4096         4096.0      195      318       11\n",
      "0.660156 0.663086         8192         8192.0      171      195       11\n",
      "0.657654 0.655151        16384        16384.0      362       51       11\n",
      "0.655121 0.652588        32768        32768.0      248      248       11\n",
      "\n",
      "finished run\n",
      "number of examples per pass = 54838\n",
      "passes used = 1\n",
      "weighted example sum = 54838.000000\n",
      "weighted label sum = 0.000000\n",
      "average loss = 0.654583\n",
      "total feature number = 603218\n"
     ]
    },
    {
     "name": "stdout",
     "output_type": "stream",
     "text": [
      "Wall time: 4.27 s\n"
     ]
    }
   ],
   "source": [
    "%%time\n",
    "!vw -d valid.vw -i train_part_model.vw -t -p vw_valid_pred.csv"
   ]
  },
  {
   "cell_type": "markdown",
   "metadata": {},
   "source": [
    "**Считывание прогнозов** *vw_valid_pred.csv* из файла, оценка доли правильных ответов на отложенной части:"
   ]
  },
  {
   "cell_type": "code",
   "execution_count": 232,
   "metadata": {},
   "outputs": [
    {
     "name": "stdout",
     "output_type": "stream",
     "text": [
      "0.345\n"
     ]
    }
   ],
   "source": [
    "vw_valid_pred = pd.read_csv('vw_valid_pred.csv', header=None).values\n",
    "vw_valid_acc = accuracy_score(y_valid_for_vw, vw_valid_pred) # оценка качества на отложенной выборке\n",
    "print(round(vw_valid_acc, 3))"
   ]
  },
  {
   "cell_type": "markdown",
   "metadata": {},
   "source": [
    "**Далее обучается** `SGDClassifier` (3 прохода по выборке, логистическая функция потерь) и `LogisticRegression` на 70% разреженной обучающей выборки – `(X_train_part_sparse, y_train_part)`, делается прогноз для отложенной выборки `(X_valid_sparse, y_valid)` и подсчитывается доля верных ответов. На обучение логистической регрессии потребуется длительное время."
   ]
  },
  {
   "cell_type": "code",
   "execution_count": 233,
   "metadata": {},
   "outputs": [],
   "source": [
    "logit = LogisticRegression(random_state=17, n_jobs=-1)\n",
    "sgd_logit = SGDClassifier(loss='log', max_iter=3, random_state=17, n_jobs=-1)"
   ]
  },
  {
   "cell_type": "code",
   "execution_count": 234,
   "metadata": {},
   "outputs": [
    {
     "name": "stdout",
     "output_type": "stream",
     "text": [
      "Wall time: 25min 40s\n"
     ]
    },
    {
     "data": {
      "text/plain": [
       "LogisticRegression(C=1.0, class_weight=None, dual=False, fit_intercept=True,\n",
       "          intercept_scaling=1, max_iter=100, multi_class='warn', n_jobs=-1,\n",
       "          penalty='l2', random_state=17, solver='warn', tol=0.0001,\n",
       "          verbose=0, warm_start=False)"
      ]
     },
     "execution_count": 234,
     "metadata": {},
     "output_type": "execute_result"
    }
   ],
   "source": [
    "%%time\n",
    "logit.fit(X_train_part_sparse, y_train_part)"
   ]
  },
  {
   "cell_type": "code",
   "execution_count": 236,
   "metadata": {},
   "outputs": [
    {
     "name": "stdout",
     "output_type": "stream",
     "text": [
      "Wall time: 8.4 s\n"
     ]
    },
    {
     "data": {
      "text/plain": [
       "SGDClassifier(alpha=0.0001, average=False, class_weight=None,\n",
       "       early_stopping=False, epsilon=0.1, eta0=0.0, fit_intercept=True,\n",
       "       l1_ratio=0.15, learning_rate='optimal', loss='log', max_iter=3,\n",
       "       n_iter=None, n_iter_no_change=5, n_jobs=-1, penalty='l2',\n",
       "       power_t=0.5, random_state=17, shuffle=True, tol=None,\n",
       "       validation_fraction=0.1, verbose=0, warm_start=False)"
      ]
     },
     "execution_count": 236,
     "metadata": {},
     "output_type": "execute_result"
    }
   ],
   "source": [
    "%%time\n",
    "sgd_logit.fit(X_train_part_sparse, y_train_part)"
   ]
  },
  {
   "cell_type": "code",
   "execution_count": 237,
   "metadata": {},
   "outputs": [],
   "source": [
    "logit_pred = logit.predict(X_valid_sparse)\n",
    "sgd_logit_pred = sgd_logit.predict(X_valid_sparse)"
   ]
  },
  {
   "cell_type": "markdown",
   "metadata": {},
   "source": [
    "**Доли правильных ответов** на отложенной выборке для Vowpal Wabbit, SGD и логистической регрессии, соответственно:"
   ]
  },
  {
   "cell_type": "code",
   "execution_count": 241,
   "metadata": {},
   "outputs": [
    {
     "name": "stdout",
     "output_type": "stream",
     "text": [
      "Доли правильных ответов на отложенной выборке для: Vowpal Wabbit = 0.34541741128414605,\n",
      " SGD = 0.2910755315657026 и логистической регрессии = 0.36292352018673185\n"
     ]
    }
   ],
   "source": [
    "vw_valid_acc = accuracy_score(y_valid_for_vw, vw_valid_pred) # оценка качества на отложенной выборке\n",
    "sgd_valid_acc = accuracy_score(y_valid, sgd_logit_pred)\n",
    "logit_valid_acc = accuracy_score(y_valid, logit_pred)\n",
    "print('Доли правильных ответов на отложенной выборке для: Vowpal Wabbit = {},\\n SGD = {} и логистической регрессии = {}'.format(vw_valid_acc, sgd_valid_acc, logit_valid_acc))"
   ]
  },
  {
   "cell_type": "markdown",
   "metadata": {},
   "source": [
    "### 6.3. Валидация по тестовой выборке (Public Leaderboard)"
   ]
  },
  {
   "cell_type": "markdown",
   "metadata": {},
   "source": [
    "**Обучается модель** VW с теми же параметрами на всей обучающей выборке – *train.vw*."
   ]
  },
  {
   "cell_type": "code",
   "execution_count": 242,
   "metadata": {},
   "outputs": [
    {
     "name": "stderr",
     "output_type": "stream",
     "text": [
      "final_regressor = train_model.vw\n",
      "Num weight bits = 26\n",
      "learning rate = 0.5\n",
      "initial_t = 0\n",
      "power_t = 0.5\n",
      "decay_learning_rate = 1\n",
      "using cache_file = train.vw.cache\n",
      "ignoring text input in favor of cache input\n",
      "num sources = 1\n",
      "average  since         example        example  current  current  current\n",
      "loss     last          counter         weight    label  predict features\n",
      "1.000000 1.000000            1            1.0      262        1       11\n",
      "1.000000 1.000000            2            2.0       82      262       11\n",
      "1.000000 1.000000            4            4.0      241      262       11\n",
      "1.000000 1.000000            8            8.0      352      262       11\n",
      "1.000000 1.000000           16           16.0      135       16       11\n",
      "1.000000 1.000000           32           32.0       71      112       11\n",
      "0.968750 0.937500           64           64.0      358      231       11\n",
      "0.976563 0.984375          128          128.0      348      346       11\n",
      "0.941406 0.906250          256          256.0      202      202       11\n",
      "0.947266 0.953125          512          512.0       30        1       11\n",
      "0.925781 0.904297         1024         1024.0       36      290       11\n",
      "0.908203 0.890625         2048         2048.0       21      128       11\n",
      "0.880127 0.852051         4096         4096.0       80      229       11\n",
      "0.856323 0.832520         8192         8192.0      307      356       11\n",
      "0.828003 0.799683        16384        16384.0       59      193       11\n",
      "0.795441 0.762878        32768        32768.0      262       30       11\n",
      "0.760468 0.725494        65536        65536.0      171      238       11\n",
      "0.725319 0.690170       131072       131072.0      180      159       11\n",
      "0.692989 0.692989       262144       262144.0       88      221       11 h\n",
      "\n",
      "finished run\n",
      "number of examples per pass = 164514\n",
      "passes used = 3\n",
      "weighted example sum = 493542.000000\n",
      "weighted label sum = 0.000000\n",
      "average loss = 0.642595 h\n",
      "total feature number = 5428962\n"
     ]
    },
    {
     "name": "stdout",
     "output_type": "stream",
     "text": [
      "Wall time: 55.7 s\n"
     ]
    }
   ],
   "source": [
    "%%time\n",
    "!vw -d train.vw --oaa 400 --passes 3 -c -b 26 --random_seed 17 -f train_model.vw"
   ]
  },
  {
   "cell_type": "markdown",
   "metadata": {},
   "source": [
    "**Прогноз для** тестовой выборки:"
   ]
  },
  {
   "cell_type": "code",
   "execution_count": 243,
   "metadata": {},
   "outputs": [
    {
     "name": "stderr",
     "output_type": "stream",
     "text": [
      "only testing\n",
      "predictions = vw_test_pred.csv\n",
      "Num weight bits = 26\n",
      "learning rate = 0.5\n",
      "initial_t = 0\n",
      "power_t = 0.5\n",
      "using no cache\n",
      "Reading datafile = test.vw\n",
      "num sources = 1\n",
      "average  since         example        example  current  current  current\n",
      "loss     last          counter         weight    label  predict features\n",
      "1.000000 1.000000            1            1.0        1       90       11\n",
      "1.000000 1.000000            2            2.0        1       21       11\n",
      "1.000000 1.000000            4            4.0        1      265       11\n",
      "1.000000 1.000000            8            8.0        1      137       11\n",
      "1.000000 1.000000           16           16.0        1      273       11\n",
      "1.000000 1.000000           32           32.0        1      384       11\n",
      "1.000000 1.000000           64           64.0        1      139       11\n",
      "1.000000 1.000000          128          128.0        1       85       11\n",
      "1.000000 1.000000          256          256.0        1       25       11\n",
      "0.994141 0.988281          512          512.0        1      364       11\n",
      "0.990234 0.986328         1024         1024.0        1      202       11\n",
      "0.992188 0.994141         2048         2048.0        1      181       11\n",
      "0.993652 0.995117         4096         4096.0        1       21       11\n",
      "0.994629 0.995605         8192         8192.0        1      137       11\n",
      "0.995300 0.995972        16384        16384.0        1      326       11\n",
      "0.994568 0.993835        32768        32768.0        1       10       11\n",
      "\n",
      "finished run\n",
      "number of examples per pass = 46473\n",
      "passes used = 1\n",
      "weighted example sum = 46473.000000\n",
      "weighted label sum = 0.000000\n",
      "average loss = 0.994642\n",
      "total feature number = 511203\n"
     ]
    },
    {
     "name": "stdout",
     "output_type": "stream",
     "text": [
      "Wall time: 2.77 s\n"
     ]
    }
   ],
   "source": [
    "%%time\n",
    "!vw -d test.vw -i train_model.vw -t -p vw_test_pred.csv"
   ]
  },
  {
   "cell_type": "markdown",
   "metadata": {},
   "source": [
    "**Сохранение прогноза** в файл, с обратным преобразованием меток (был LabelEncoder и потом +1 к меткам) и последующее направление решения на Kaggle:"
   ]
  },
  {
   "cell_type": "code",
   "execution_count": 244,
   "metadata": {},
   "outputs": [],
   "source": [
    "def write_to_submission_file(predicted_labels, out_file,\n",
    "                             target='user_id', index_label=\"session_id\"):\n",
    "    # turn predictions into data frame and save as csv file\n",
    "    predicted_df = pd.DataFrame(predicted_labels,\n",
    "                                index = np.arange(1, predicted_labels.shape[0] + 1),\n",
    "                                columns=[target])\n",
    "    predicted_df.to_csv(out_file, index_label=index_label)"
   ]
  },
  {
   "cell_type": "code",
   "execution_count": 245,
   "metadata": {},
   "outputs": [],
   "source": [
    "y_test = pd.read_csv('vw_test_pred.csv', header=None).values - 1\n",
    "vw_pred = class_encoder.inverse_transform(y_test)\n",
    "write_to_submission_file(vw_pred, os.path.join(PATH_TO_DATA, 'vw_400_users.csv'))"
   ]
  },
  {
   "cell_type": "markdown",
   "metadata": {},
   "source": [
    "**Выполнение тех же самых** процедур для SGD и логистической регрессии (<font color=crimson>обучение логистической регрессии производится в течение длительного времени!</font>):"
   ]
  },
  {
   "cell_type": "code",
   "execution_count": 246,
   "metadata": {},
   "outputs": [
    {
     "data": {
      "text/plain": [
       "LogisticRegression(C=1.0, class_weight=None, dual=False, fit_intercept=True,\n",
       "          intercept_scaling=1, max_iter=100, multi_class='warn', n_jobs=-1,\n",
       "          penalty='l2', random_state=17, solver='warn', tol=0.0001,\n",
       "          verbose=0, warm_start=False)"
      ]
     },
     "execution_count": 246,
     "metadata": {},
     "output_type": "execute_result"
    }
   ],
   "source": [
    "logit.fit(X_train_sparse, y)"
   ]
  },
  {
   "cell_type": "code",
   "execution_count": 247,
   "metadata": {},
   "outputs": [
    {
     "data": {
      "text/plain": [
       "SGDClassifier(alpha=0.0001, average=False, class_weight=None,\n",
       "       early_stopping=False, epsilon=0.1, eta0=0.0, fit_intercept=True,\n",
       "       l1_ratio=0.15, learning_rate='optimal', loss='log', max_iter=3,\n",
       "       n_iter=None, n_iter_no_change=5, n_jobs=-1, penalty='l2',\n",
       "       power_t=0.5, random_state=17, shuffle=True, tol=None,\n",
       "       validation_fraction=0.1, verbose=0, warm_start=False)"
      ]
     },
     "execution_count": 247,
     "metadata": {},
     "output_type": "execute_result"
    }
   ],
   "source": [
    "# sgd_logit.fit(X_train_sparse, y) - так надо было сделать, но авторы курса, похоже, забыли переобучить модель\n",
    "# и поэтому обучать ее надо на частичной трэйновой выборке\n",
    "sgd_logit.fit(X_train_part_sparse, y_train_part)"
   ]
  },
  {
   "cell_type": "code",
   "execution_count": 248,
   "metadata": {},
   "outputs": [],
   "source": [
    "logit_test_pred = logit.predict(X_test_sparse)\n",
    "sgd_logit_test_pred = sgd_logit.predict(X_test_sparse)\n",
    "write_to_submission_file(logit_test_pred, os.path.join(PATH_TO_DATA, 'logit_400_users.csv'))\n",
    "write_to_submission_file(sgd_logit_test_pred, os.path.join(PATH_TO_DATA, 'sgd_400_users.csv'))"
   ]
  },
  {
   "cell_type": "markdown",
   "metadata": {},
   "source": [
    "**После загрузки на Kaggle** были посчитаны доли правильных ответов на публичной части (public leaderboard) тестовой выборки [этого](https://inclass.kaggle.com/c/identify-me-if-you-can4) соревнования.<br>\n",
    "Доли правильных ответов на публичной части тестовой выборки (public leaderboard) оказались равны для Vowpal Wabbit, SGD и логистической регрессии, соответственно:"
   ]
  },
  {
   "cell_type": "code",
   "execution_count": 249,
   "metadata": {},
   "outputs": [],
   "source": [
    "vw_lb_score, sgd_lb_score, logit_lb_score = 0.18768, 0.17855, 0.19887"
   ]
  },
  {
   "cell_type": "markdown",
   "metadata": {},
   "source": [
    "Таким образом, была изучена библиотека Vowpal Wabbit, с ее помощью обучена модель, сделаны оценки качества классификации и для сравнения они были сделаны для двух других моделей: SGD и логистического регрессора (logit). Можно отметить, что по скорости обучения VW и SGD значительно выигрывают у logit, но качество классификации оказывается выше все-таки у logit-а."
   ]
  },
  {
   "cell_type": "markdown",
   "metadata": {},
   "source": [
    "## Выводы"
   ]
  },
  {
   "cell_type": "markdown",
   "metadata": {},
   "source": [
    "Итак, в ходе работы над проектом по идентификации пользователей, были осуществлены предобработка и первичный (в т.ч., визуальный) анализ входных данных, выбор лучшего из нескольких классификаторов, обучение моделей классификации и получение оценок по метрике ROC-AUC на платформе Kaggle. По итогам работы выяснилось, что наилучшей моделью для классификации можно считать логистический регрессор (при этом его обучение можно производить с помощью SGD-classifier, с указанием log-функции потерь), на соревновании по идентификации пользователя Элис он дает результаты прогноза данного пользователя с точностью до 91%. Для улучшения качества классификации, пожалуй, можно попробовать еще выполнить блендинг (стэкинг, применение определенным образом нескольких классификаторов, как предлагал автор курса), возможно, это позволит улучшить долю верно предсказываемых меток для идентифицируемых пользователей."
   ]
  }
 ],
 "metadata": {
  "anaconda-cloud": {},
  "kernelspec": {
   "display_name": "Python 3",
   "language": "python",
   "name": "python3"
  },
  "language_info": {
   "codemirror_mode": {
    "name": "ipython",
    "version": 3
   },
   "file_extension": ".py",
   "mimetype": "text/x-python",
   "name": "python",
   "nbconvert_exporter": "python",
   "pygments_lexer": "ipython3",
   "version": "3.7.1"
  }
 },
 "nbformat": 4,
 "nbformat_minor": 1
}
